{
 "cells": [
  {
   "cell_type": "code",
   "execution_count": 1,
   "id": "12bc074a",
   "metadata": {},
   "outputs": [],
   "source": [
    "import pandas as pd\n",
    "import numpy as np\n",
    "import itertools\n",
    "\n",
    "from sklearn.preprocessing import *\n",
    "from sklearn.model_selection import *\n",
    "from sklearn.metrics import *\n",
    "from imblearn.metrics import *\n",
    "\n",
    "from sklearn.linear_model import LogisticRegression\n",
    "from sklearn.neighbors import KNeighborsClassifier\n",
    "from sklearn.svm import SVC\n",
    "from sklearn.naive_bayes import GaussianNB\n",
    "from sklearn.discriminant_analysis import LinearDiscriminantAnalysis\n",
    "\n",
    "from sklearn.tree import DecisionTreeClassifier\n",
    "from sklearn.ensemble import RandomForestClassifier\n",
    "from sklearn.ensemble import ExtraTreesClassifier\n",
    "from sklearn.ensemble import AdaBoostClassifier\n",
    "from sklearn.ensemble import GradientBoostingClassifier\n",
    "\n",
    "from sklearn.ensemble import StackingClassifier\n",
    "from mlxtend.classifier import StackingCVClassifier\n",
    "\n",
    "from sklearn.neural_network import MLPClassifier\n",
    "\n",
    "\n",
    "from xgboost import XGBClassifier\n",
    "from lightgbm import LGBMClassifier\n",
    "\n",
    "import matplotlib.pyplot as plt"
   ]
  },
  {
   "cell_type": "code",
   "execution_count": 2,
   "id": "289a913f",
   "metadata": {},
   "outputs": [
    {
     "data": {
      "text/html": [
       "<div>\n",
       "<style scoped>\n",
       "    .dataframe tbody tr th:only-of-type {\n",
       "        vertical-align: middle;\n",
       "    }\n",
       "\n",
       "    .dataframe tbody tr th {\n",
       "        vertical-align: top;\n",
       "    }\n",
       "\n",
       "    .dataframe thead th {\n",
       "        text-align: right;\n",
       "    }\n",
       "</style>\n",
       "<table border=\"1\" class=\"dataframe\">\n",
       "  <thead>\n",
       "    <tr style=\"text-align: right;\">\n",
       "      <th></th>\n",
       "      <th>0</th>\n",
       "      <th>1</th>\n",
       "      <th>2</th>\n",
       "      <th>3</th>\n",
       "      <th>4</th>\n",
       "      <th>5</th>\n",
       "      <th>6</th>\n",
       "      <th>7</th>\n",
       "      <th>8</th>\n",
       "      <th>9</th>\n",
       "      <th>...</th>\n",
       "      <th>21</th>\n",
       "      <th>22</th>\n",
       "      <th>23</th>\n",
       "      <th>24</th>\n",
       "      <th>25</th>\n",
       "      <th>26</th>\n",
       "      <th>27</th>\n",
       "      <th>28</th>\n",
       "      <th>29</th>\n",
       "      <th>30</th>\n",
       "    </tr>\n",
       "  </thead>\n",
       "  <tbody>\n",
       "    <tr>\n",
       "      <th>0</th>\n",
       "      <td>-1</td>\n",
       "      <td>1</td>\n",
       "      <td>1</td>\n",
       "      <td>1</td>\n",
       "      <td>-1</td>\n",
       "      <td>-1</td>\n",
       "      <td>-1</td>\n",
       "      <td>-1</td>\n",
       "      <td>-1</td>\n",
       "      <td>1</td>\n",
       "      <td>...</td>\n",
       "      <td>1</td>\n",
       "      <td>1</td>\n",
       "      <td>-1</td>\n",
       "      <td>-1</td>\n",
       "      <td>-1</td>\n",
       "      <td>-1</td>\n",
       "      <td>1</td>\n",
       "      <td>1</td>\n",
       "      <td>-1</td>\n",
       "      <td>-1</td>\n",
       "    </tr>\n",
       "    <tr>\n",
       "      <th>1</th>\n",
       "      <td>1</td>\n",
       "      <td>1</td>\n",
       "      <td>1</td>\n",
       "      <td>1</td>\n",
       "      <td>1</td>\n",
       "      <td>-1</td>\n",
       "      <td>0</td>\n",
       "      <td>1</td>\n",
       "      <td>-1</td>\n",
       "      <td>1</td>\n",
       "      <td>...</td>\n",
       "      <td>1</td>\n",
       "      <td>1</td>\n",
       "      <td>-1</td>\n",
       "      <td>-1</td>\n",
       "      <td>0</td>\n",
       "      <td>-1</td>\n",
       "      <td>1</td>\n",
       "      <td>1</td>\n",
       "      <td>1</td>\n",
       "      <td>-1</td>\n",
       "    </tr>\n",
       "    <tr>\n",
       "      <th>2</th>\n",
       "      <td>1</td>\n",
       "      <td>0</td>\n",
       "      <td>1</td>\n",
       "      <td>1</td>\n",
       "      <td>1</td>\n",
       "      <td>-1</td>\n",
       "      <td>-1</td>\n",
       "      <td>-1</td>\n",
       "      <td>-1</td>\n",
       "      <td>1</td>\n",
       "      <td>...</td>\n",
       "      <td>1</td>\n",
       "      <td>1</td>\n",
       "      <td>1</td>\n",
       "      <td>-1</td>\n",
       "      <td>1</td>\n",
       "      <td>-1</td>\n",
       "      <td>1</td>\n",
       "      <td>0</td>\n",
       "      <td>-1</td>\n",
       "      <td>-1</td>\n",
       "    </tr>\n",
       "    <tr>\n",
       "      <th>3</th>\n",
       "      <td>1</td>\n",
       "      <td>0</td>\n",
       "      <td>1</td>\n",
       "      <td>1</td>\n",
       "      <td>1</td>\n",
       "      <td>-1</td>\n",
       "      <td>-1</td>\n",
       "      <td>-1</td>\n",
       "      <td>1</td>\n",
       "      <td>1</td>\n",
       "      <td>...</td>\n",
       "      <td>1</td>\n",
       "      <td>1</td>\n",
       "      <td>-1</td>\n",
       "      <td>-1</td>\n",
       "      <td>1</td>\n",
       "      <td>-1</td>\n",
       "      <td>1</td>\n",
       "      <td>-1</td>\n",
       "      <td>1</td>\n",
       "      <td>-1</td>\n",
       "    </tr>\n",
       "    <tr>\n",
       "      <th>4</th>\n",
       "      <td>1</td>\n",
       "      <td>0</td>\n",
       "      <td>-1</td>\n",
       "      <td>1</td>\n",
       "      <td>1</td>\n",
       "      <td>-1</td>\n",
       "      <td>1</td>\n",
       "      <td>1</td>\n",
       "      <td>-1</td>\n",
       "      <td>1</td>\n",
       "      <td>...</td>\n",
       "      <td>-1</td>\n",
       "      <td>1</td>\n",
       "      <td>-1</td>\n",
       "      <td>-1</td>\n",
       "      <td>0</td>\n",
       "      <td>-1</td>\n",
       "      <td>1</td>\n",
       "      <td>1</td>\n",
       "      <td>1</td>\n",
       "      <td>1</td>\n",
       "    </tr>\n",
       "    <tr>\n",
       "      <th>...</th>\n",
       "      <td>...</td>\n",
       "      <td>...</td>\n",
       "      <td>...</td>\n",
       "      <td>...</td>\n",
       "      <td>...</td>\n",
       "      <td>...</td>\n",
       "      <td>...</td>\n",
       "      <td>...</td>\n",
       "      <td>...</td>\n",
       "      <td>...</td>\n",
       "      <td>...</td>\n",
       "      <td>...</td>\n",
       "      <td>...</td>\n",
       "      <td>...</td>\n",
       "      <td>...</td>\n",
       "      <td>...</td>\n",
       "      <td>...</td>\n",
       "      <td>...</td>\n",
       "      <td>...</td>\n",
       "      <td>...</td>\n",
       "      <td>...</td>\n",
       "    </tr>\n",
       "    <tr>\n",
       "      <th>11050</th>\n",
       "      <td>1</td>\n",
       "      <td>-1</td>\n",
       "      <td>1</td>\n",
       "      <td>-1</td>\n",
       "      <td>1</td>\n",
       "      <td>1</td>\n",
       "      <td>1</td>\n",
       "      <td>1</td>\n",
       "      <td>-1</td>\n",
       "      <td>-1</td>\n",
       "      <td>...</td>\n",
       "      <td>-1</td>\n",
       "      <td>-1</td>\n",
       "      <td>1</td>\n",
       "      <td>1</td>\n",
       "      <td>-1</td>\n",
       "      <td>-1</td>\n",
       "      <td>1</td>\n",
       "      <td>1</td>\n",
       "      <td>1</td>\n",
       "      <td>1</td>\n",
       "    </tr>\n",
       "    <tr>\n",
       "      <th>11051</th>\n",
       "      <td>-1</td>\n",
       "      <td>1</td>\n",
       "      <td>1</td>\n",
       "      <td>-1</td>\n",
       "      <td>-1</td>\n",
       "      <td>-1</td>\n",
       "      <td>1</td>\n",
       "      <td>-1</td>\n",
       "      <td>-1</td>\n",
       "      <td>-1</td>\n",
       "      <td>...</td>\n",
       "      <td>-1</td>\n",
       "      <td>1</td>\n",
       "      <td>1</td>\n",
       "      <td>1</td>\n",
       "      <td>1</td>\n",
       "      <td>1</td>\n",
       "      <td>1</td>\n",
       "      <td>-1</td>\n",
       "      <td>1</td>\n",
       "      <td>-1</td>\n",
       "    </tr>\n",
       "    <tr>\n",
       "      <th>11052</th>\n",
       "      <td>1</td>\n",
       "      <td>-1</td>\n",
       "      <td>1</td>\n",
       "      <td>1</td>\n",
       "      <td>1</td>\n",
       "      <td>-1</td>\n",
       "      <td>1</td>\n",
       "      <td>-1</td>\n",
       "      <td>-1</td>\n",
       "      <td>1</td>\n",
       "      <td>...</td>\n",
       "      <td>1</td>\n",
       "      <td>1</td>\n",
       "      <td>1</td>\n",
       "      <td>1</td>\n",
       "      <td>1</td>\n",
       "      <td>-1</td>\n",
       "      <td>1</td>\n",
       "      <td>0</td>\n",
       "      <td>1</td>\n",
       "      <td>-1</td>\n",
       "    </tr>\n",
       "    <tr>\n",
       "      <th>11053</th>\n",
       "      <td>-1</td>\n",
       "      <td>-1</td>\n",
       "      <td>1</td>\n",
       "      <td>1</td>\n",
       "      <td>1</td>\n",
       "      <td>-1</td>\n",
       "      <td>-1</td>\n",
       "      <td>-1</td>\n",
       "      <td>1</td>\n",
       "      <td>-1</td>\n",
       "      <td>...</td>\n",
       "      <td>-1</td>\n",
       "      <td>1</td>\n",
       "      <td>1</td>\n",
       "      <td>1</td>\n",
       "      <td>1</td>\n",
       "      <td>-1</td>\n",
       "      <td>1</td>\n",
       "      <td>1</td>\n",
       "      <td>1</td>\n",
       "      <td>-1</td>\n",
       "    </tr>\n",
       "    <tr>\n",
       "      <th>11054</th>\n",
       "      <td>-1</td>\n",
       "      <td>-1</td>\n",
       "      <td>1</td>\n",
       "      <td>1</td>\n",
       "      <td>1</td>\n",
       "      <td>-1</td>\n",
       "      <td>-1</td>\n",
       "      <td>-1</td>\n",
       "      <td>1</td>\n",
       "      <td>1</td>\n",
       "      <td>...</td>\n",
       "      <td>1</td>\n",
       "      <td>1</td>\n",
       "      <td>-1</td>\n",
       "      <td>1</td>\n",
       "      <td>-1</td>\n",
       "      <td>-1</td>\n",
       "      <td>-1</td>\n",
       "      <td>1</td>\n",
       "      <td>-1</td>\n",
       "      <td>-1</td>\n",
       "    </tr>\n",
       "  </tbody>\n",
       "</table>\n",
       "<p>11055 rows × 31 columns</p>\n",
       "</div>"
      ],
      "text/plain": [
       "       0   1   2   3   4   5   6   7   8   9   ...  21  22  23  24  25  26  \\\n",
       "0      -1   1   1   1  -1  -1  -1  -1  -1   1  ...   1   1  -1  -1  -1  -1   \n",
       "1       1   1   1   1   1  -1   0   1  -1   1  ...   1   1  -1  -1   0  -1   \n",
       "2       1   0   1   1   1  -1  -1  -1  -1   1  ...   1   1   1  -1   1  -1   \n",
       "3       1   0   1   1   1  -1  -1  -1   1   1  ...   1   1  -1  -1   1  -1   \n",
       "4       1   0  -1   1   1  -1   1   1  -1   1  ...  -1   1  -1  -1   0  -1   \n",
       "...    ..  ..  ..  ..  ..  ..  ..  ..  ..  ..  ...  ..  ..  ..  ..  ..  ..   \n",
       "11050   1  -1   1  -1   1   1   1   1  -1  -1  ...  -1  -1   1   1  -1  -1   \n",
       "11051  -1   1   1  -1  -1  -1   1  -1  -1  -1  ...  -1   1   1   1   1   1   \n",
       "11052   1  -1   1   1   1  -1   1  -1  -1   1  ...   1   1   1   1   1  -1   \n",
       "11053  -1  -1   1   1   1  -1  -1  -1   1  -1  ...  -1   1   1   1   1  -1   \n",
       "11054  -1  -1   1   1   1  -1  -1  -1   1   1  ...   1   1  -1   1  -1  -1   \n",
       "\n",
       "       27  28  29  30  \n",
       "0       1   1  -1  -1  \n",
       "1       1   1   1  -1  \n",
       "2       1   0  -1  -1  \n",
       "3       1  -1   1  -1  \n",
       "4       1   1   1   1  \n",
       "...    ..  ..  ..  ..  \n",
       "11050   1   1   1   1  \n",
       "11051   1  -1   1  -1  \n",
       "11052   1   0   1  -1  \n",
       "11053   1   1   1  -1  \n",
       "11054  -1   1  -1  -1  \n",
       "\n",
       "[11055 rows x 31 columns]"
      ]
     },
     "execution_count": 2,
     "metadata": {},
     "output_type": "execute_result"
    }
   ],
   "source": [
    "data= pd.read_csv('phishing_uci.csv', header=None)\n",
    "data"
   ]
  },
  {
   "cell_type": "code",
   "execution_count": 3,
   "id": "ba797083",
   "metadata": {},
   "outputs": [
    {
     "data": {
      "text/html": [
       "<div>\n",
       "<style scoped>\n",
       "    .dataframe tbody tr th:only-of-type {\n",
       "        vertical-align: middle;\n",
       "    }\n",
       "\n",
       "    .dataframe tbody tr th {\n",
       "        vertical-align: top;\n",
       "    }\n",
       "\n",
       "    .dataframe thead th {\n",
       "        text-align: right;\n",
       "    }\n",
       "</style>\n",
       "<table border=\"1\" class=\"dataframe\">\n",
       "  <thead>\n",
       "    <tr style=\"text-align: right;\">\n",
       "      <th></th>\n",
       "      <th>0</th>\n",
       "      <th>1</th>\n",
       "      <th>2</th>\n",
       "      <th>3</th>\n",
       "      <th>4</th>\n",
       "      <th>5</th>\n",
       "      <th>6</th>\n",
       "      <th>7</th>\n",
       "      <th>8</th>\n",
       "      <th>9</th>\n",
       "      <th>...</th>\n",
       "      <th>20</th>\n",
       "      <th>21</th>\n",
       "      <th>22</th>\n",
       "      <th>23</th>\n",
       "      <th>24</th>\n",
       "      <th>25</th>\n",
       "      <th>26</th>\n",
       "      <th>27</th>\n",
       "      <th>28</th>\n",
       "      <th>29</th>\n",
       "    </tr>\n",
       "  </thead>\n",
       "  <tbody>\n",
       "    <tr>\n",
       "      <th>0</th>\n",
       "      <td>-1</td>\n",
       "      <td>1</td>\n",
       "      <td>1</td>\n",
       "      <td>1</td>\n",
       "      <td>-1</td>\n",
       "      <td>-1</td>\n",
       "      <td>-1</td>\n",
       "      <td>-1</td>\n",
       "      <td>-1</td>\n",
       "      <td>1</td>\n",
       "      <td>...</td>\n",
       "      <td>1</td>\n",
       "      <td>1</td>\n",
       "      <td>1</td>\n",
       "      <td>-1</td>\n",
       "      <td>-1</td>\n",
       "      <td>-1</td>\n",
       "      <td>-1</td>\n",
       "      <td>1</td>\n",
       "      <td>1</td>\n",
       "      <td>-1</td>\n",
       "    </tr>\n",
       "    <tr>\n",
       "      <th>1</th>\n",
       "      <td>1</td>\n",
       "      <td>1</td>\n",
       "      <td>1</td>\n",
       "      <td>1</td>\n",
       "      <td>1</td>\n",
       "      <td>-1</td>\n",
       "      <td>0</td>\n",
       "      <td>1</td>\n",
       "      <td>-1</td>\n",
       "      <td>1</td>\n",
       "      <td>...</td>\n",
       "      <td>1</td>\n",
       "      <td>1</td>\n",
       "      <td>1</td>\n",
       "      <td>-1</td>\n",
       "      <td>-1</td>\n",
       "      <td>0</td>\n",
       "      <td>-1</td>\n",
       "      <td>1</td>\n",
       "      <td>1</td>\n",
       "      <td>1</td>\n",
       "    </tr>\n",
       "    <tr>\n",
       "      <th>2</th>\n",
       "      <td>1</td>\n",
       "      <td>0</td>\n",
       "      <td>1</td>\n",
       "      <td>1</td>\n",
       "      <td>1</td>\n",
       "      <td>-1</td>\n",
       "      <td>-1</td>\n",
       "      <td>-1</td>\n",
       "      <td>-1</td>\n",
       "      <td>1</td>\n",
       "      <td>...</td>\n",
       "      <td>1</td>\n",
       "      <td>1</td>\n",
       "      <td>1</td>\n",
       "      <td>1</td>\n",
       "      <td>-1</td>\n",
       "      <td>1</td>\n",
       "      <td>-1</td>\n",
       "      <td>1</td>\n",
       "      <td>0</td>\n",
       "      <td>-1</td>\n",
       "    </tr>\n",
       "    <tr>\n",
       "      <th>3</th>\n",
       "      <td>1</td>\n",
       "      <td>0</td>\n",
       "      <td>1</td>\n",
       "      <td>1</td>\n",
       "      <td>1</td>\n",
       "      <td>-1</td>\n",
       "      <td>-1</td>\n",
       "      <td>-1</td>\n",
       "      <td>1</td>\n",
       "      <td>1</td>\n",
       "      <td>...</td>\n",
       "      <td>1</td>\n",
       "      <td>1</td>\n",
       "      <td>1</td>\n",
       "      <td>-1</td>\n",
       "      <td>-1</td>\n",
       "      <td>1</td>\n",
       "      <td>-1</td>\n",
       "      <td>1</td>\n",
       "      <td>-1</td>\n",
       "      <td>1</td>\n",
       "    </tr>\n",
       "    <tr>\n",
       "      <th>4</th>\n",
       "      <td>1</td>\n",
       "      <td>0</td>\n",
       "      <td>-1</td>\n",
       "      <td>1</td>\n",
       "      <td>1</td>\n",
       "      <td>-1</td>\n",
       "      <td>1</td>\n",
       "      <td>1</td>\n",
       "      <td>-1</td>\n",
       "      <td>1</td>\n",
       "      <td>...</td>\n",
       "      <td>1</td>\n",
       "      <td>-1</td>\n",
       "      <td>1</td>\n",
       "      <td>-1</td>\n",
       "      <td>-1</td>\n",
       "      <td>0</td>\n",
       "      <td>-1</td>\n",
       "      <td>1</td>\n",
       "      <td>1</td>\n",
       "      <td>1</td>\n",
       "    </tr>\n",
       "    <tr>\n",
       "      <th>...</th>\n",
       "      <td>...</td>\n",
       "      <td>...</td>\n",
       "      <td>...</td>\n",
       "      <td>...</td>\n",
       "      <td>...</td>\n",
       "      <td>...</td>\n",
       "      <td>...</td>\n",
       "      <td>...</td>\n",
       "      <td>...</td>\n",
       "      <td>...</td>\n",
       "      <td>...</td>\n",
       "      <td>...</td>\n",
       "      <td>...</td>\n",
       "      <td>...</td>\n",
       "      <td>...</td>\n",
       "      <td>...</td>\n",
       "      <td>...</td>\n",
       "      <td>...</td>\n",
       "      <td>...</td>\n",
       "      <td>...</td>\n",
       "      <td>...</td>\n",
       "    </tr>\n",
       "    <tr>\n",
       "      <th>11050</th>\n",
       "      <td>1</td>\n",
       "      <td>-1</td>\n",
       "      <td>1</td>\n",
       "      <td>-1</td>\n",
       "      <td>1</td>\n",
       "      <td>1</td>\n",
       "      <td>1</td>\n",
       "      <td>1</td>\n",
       "      <td>-1</td>\n",
       "      <td>-1</td>\n",
       "      <td>...</td>\n",
       "      <td>-1</td>\n",
       "      <td>-1</td>\n",
       "      <td>-1</td>\n",
       "      <td>1</td>\n",
       "      <td>1</td>\n",
       "      <td>-1</td>\n",
       "      <td>-1</td>\n",
       "      <td>1</td>\n",
       "      <td>1</td>\n",
       "      <td>1</td>\n",
       "    </tr>\n",
       "    <tr>\n",
       "      <th>11051</th>\n",
       "      <td>-1</td>\n",
       "      <td>1</td>\n",
       "      <td>1</td>\n",
       "      <td>-1</td>\n",
       "      <td>-1</td>\n",
       "      <td>-1</td>\n",
       "      <td>1</td>\n",
       "      <td>-1</td>\n",
       "      <td>-1</td>\n",
       "      <td>-1</td>\n",
       "      <td>...</td>\n",
       "      <td>1</td>\n",
       "      <td>-1</td>\n",
       "      <td>1</td>\n",
       "      <td>1</td>\n",
       "      <td>1</td>\n",
       "      <td>1</td>\n",
       "      <td>1</td>\n",
       "      <td>1</td>\n",
       "      <td>-1</td>\n",
       "      <td>1</td>\n",
       "    </tr>\n",
       "    <tr>\n",
       "      <th>11052</th>\n",
       "      <td>1</td>\n",
       "      <td>-1</td>\n",
       "      <td>1</td>\n",
       "      <td>1</td>\n",
       "      <td>1</td>\n",
       "      <td>-1</td>\n",
       "      <td>1</td>\n",
       "      <td>-1</td>\n",
       "      <td>-1</td>\n",
       "      <td>1</td>\n",
       "      <td>...</td>\n",
       "      <td>1</td>\n",
       "      <td>1</td>\n",
       "      <td>1</td>\n",
       "      <td>1</td>\n",
       "      <td>1</td>\n",
       "      <td>1</td>\n",
       "      <td>-1</td>\n",
       "      <td>1</td>\n",
       "      <td>0</td>\n",
       "      <td>1</td>\n",
       "    </tr>\n",
       "    <tr>\n",
       "      <th>11053</th>\n",
       "      <td>-1</td>\n",
       "      <td>-1</td>\n",
       "      <td>1</td>\n",
       "      <td>1</td>\n",
       "      <td>1</td>\n",
       "      <td>-1</td>\n",
       "      <td>-1</td>\n",
       "      <td>-1</td>\n",
       "      <td>1</td>\n",
       "      <td>-1</td>\n",
       "      <td>...</td>\n",
       "      <td>1</td>\n",
       "      <td>-1</td>\n",
       "      <td>1</td>\n",
       "      <td>1</td>\n",
       "      <td>1</td>\n",
       "      <td>1</td>\n",
       "      <td>-1</td>\n",
       "      <td>1</td>\n",
       "      <td>1</td>\n",
       "      <td>1</td>\n",
       "    </tr>\n",
       "    <tr>\n",
       "      <th>11054</th>\n",
       "      <td>-1</td>\n",
       "      <td>-1</td>\n",
       "      <td>1</td>\n",
       "      <td>1</td>\n",
       "      <td>1</td>\n",
       "      <td>-1</td>\n",
       "      <td>-1</td>\n",
       "      <td>-1</td>\n",
       "      <td>1</td>\n",
       "      <td>1</td>\n",
       "      <td>...</td>\n",
       "      <td>1</td>\n",
       "      <td>1</td>\n",
       "      <td>1</td>\n",
       "      <td>-1</td>\n",
       "      <td>1</td>\n",
       "      <td>-1</td>\n",
       "      <td>-1</td>\n",
       "      <td>-1</td>\n",
       "      <td>1</td>\n",
       "      <td>-1</td>\n",
       "    </tr>\n",
       "  </tbody>\n",
       "</table>\n",
       "<p>11055 rows × 30 columns</p>\n",
       "</div>"
      ],
      "text/plain": [
       "       0   1   2   3   4   5   6   7   8   9   ...  20  21  22  23  24  25  \\\n",
       "0      -1   1   1   1  -1  -1  -1  -1  -1   1  ...   1   1   1  -1  -1  -1   \n",
       "1       1   1   1   1   1  -1   0   1  -1   1  ...   1   1   1  -1  -1   0   \n",
       "2       1   0   1   1   1  -1  -1  -1  -1   1  ...   1   1   1   1  -1   1   \n",
       "3       1   0   1   1   1  -1  -1  -1   1   1  ...   1   1   1  -1  -1   1   \n",
       "4       1   0  -1   1   1  -1   1   1  -1   1  ...   1  -1   1  -1  -1   0   \n",
       "...    ..  ..  ..  ..  ..  ..  ..  ..  ..  ..  ...  ..  ..  ..  ..  ..  ..   \n",
       "11050   1  -1   1  -1   1   1   1   1  -1  -1  ...  -1  -1  -1   1   1  -1   \n",
       "11051  -1   1   1  -1  -1  -1   1  -1  -1  -1  ...   1  -1   1   1   1   1   \n",
       "11052   1  -1   1   1   1  -1   1  -1  -1   1  ...   1   1   1   1   1   1   \n",
       "11053  -1  -1   1   1   1  -1  -1  -1   1  -1  ...   1  -1   1   1   1   1   \n",
       "11054  -1  -1   1   1   1  -1  -1  -1   1   1  ...   1   1   1  -1   1  -1   \n",
       "\n",
       "       26  27  28  29  \n",
       "0      -1   1   1  -1  \n",
       "1      -1   1   1   1  \n",
       "2      -1   1   0  -1  \n",
       "3      -1   1  -1   1  \n",
       "4      -1   1   1   1  \n",
       "...    ..  ..  ..  ..  \n",
       "11050  -1   1   1   1  \n",
       "11051   1   1  -1   1  \n",
       "11052  -1   1   0   1  \n",
       "11053  -1   1   1   1  \n",
       "11054  -1  -1   1  -1  \n",
       "\n",
       "[11055 rows x 30 columns]"
      ]
     },
     "execution_count": 3,
     "metadata": {},
     "output_type": "execute_result"
    }
   ],
   "source": [
    "x= data.drop([30],axis=1)\n",
    "x"
   ]
  },
  {
   "cell_type": "code",
   "execution_count": 4,
   "id": "0bc895cc",
   "metadata": {},
   "outputs": [
    {
     "data": {
      "text/plain": [
       "0       -1\n",
       "1       -1\n",
       "2       -1\n",
       "3       -1\n",
       "4        1\n",
       "        ..\n",
       "11050    1\n",
       "11051   -1\n",
       "11052   -1\n",
       "11053   -1\n",
       "11054   -1\n",
       "Name: 30, Length: 11055, dtype: int64"
      ]
     },
     "execution_count": 4,
     "metadata": {},
     "output_type": "execute_result"
    }
   ],
   "source": [
    "y=data[30]\n",
    "y"
   ]
  },
  {
   "cell_type": "code",
   "execution_count": 5,
   "id": "3d887216",
   "metadata": {},
   "outputs": [],
   "source": [
    "x_train=x\n",
    "y_train=y"
   ]
  },
  {
   "cell_type": "code",
   "execution_count": 6,
   "id": "8ae995da",
   "metadata": {},
   "outputs": [
    {
     "data": {
      "text/plain": [
       "0        0\n",
       "1        0\n",
       "2        0\n",
       "3        0\n",
       "4        1\n",
       "        ..\n",
       "11050    1\n",
       "11051    0\n",
       "11052    0\n",
       "11053    0\n",
       "11054    0\n",
       "Name: 30, Length: 11055, dtype: int64"
      ]
     },
     "execution_count": 6,
     "metadata": {},
     "output_type": "execute_result"
    }
   ],
   "source": [
    "y.replace(-1,0,inplace=True)\n",
    "y"
   ]
  },
  {
   "cell_type": "markdown",
   "id": "eb0fec6f",
   "metadata": {},
   "source": [
    "# defining models"
   ]
  },
  {
   "cell_type": "code",
   "execution_count": 7,
   "id": "0b859aa6",
   "metadata": {},
   "outputs": [],
   "source": [
    "knn= KNeighborsClassifier(n_neighbors=10,n_jobs=-1)\n",
    "svm= SVC(random_state=10,kernel='linear', probability = True)\n",
    "lr = LogisticRegression()\n",
    "nb= GaussianNB()\n",
    "\n",
    "rf= RandomForestClassifier(n_jobs=-1,random_state=10)\n",
    "ada= AdaBoostClassifier(random_state=100)\n",
    "extra = ExtraTreesClassifier(n_jobs=-1,random_state=10)\n",
    "\n",
    "lgbm = LGBMClassifier(n_jobs=-1,random_state=10)\n",
    "grad = GradientBoostingClassifier()\n",
    "xg = XGBClassifier(use_label_encoder =False, eval_metric='logloss')\n",
    "\n",
    "nn= MLPClassifier(activation = \"relu\", alpha = 0.001, hidden_layer_sizes = (32,32,32), random_state=10)"
   ]
  },
  {
   "cell_type": "code",
   "execution_count": 8,
   "id": "d1922087",
   "metadata": {},
   "outputs": [],
   "source": [
    "classifiers= {\n",
    "    \"RandomForest\": rf,\n",
    "    \"ExtraTree\": extra,\n",
    "    \"gradBoost\": grad,\n",
    "    \"adaboost\": ada,\n",
    "    \"LGBM\": lgbm,\n",
    "    \"xgb\": xg,\n",
    "    \"nn\":nn}"
   ]
  },
  {
   "cell_type": "code",
   "execution_count": 9,
   "id": "ee41a803",
   "metadata": {},
   "outputs": [],
   "source": [
    "classifier_2 = nn"
   ]
  },
  {
   "cell_type": "code",
   "execution_count": 10,
   "id": "c025420b",
   "metadata": {},
   "outputs": [],
   "source": [
    "scores={'accuracy': make_scorer(accuracy_score),\n",
    "        'recall' : make_scorer(recall_score),\n",
    "        'precision':make_scorer(precision_score),\n",
    "        'gmean': make_scorer(geometric_mean_score),\n",
    "        'f1':make_scorer(f1_score),\n",
    "        'roc': make_scorer(roc_auc_score)\n",
    "        }"
   ]
  },
  {
   "cell_type": "markdown",
   "id": "42213b81",
   "metadata": {},
   "source": [
    "# base models"
   ]
  },
  {
   "cell_type": "code",
   "execution_count": 29,
   "id": "484f4b8f",
   "metadata": {},
   "outputs": [
    {
     "data": {
      "text/plain": [
       "fit_time          0.228442\n",
       "score_time        0.024980\n",
       "test_accuracy     0.972769\n",
       "test_recall       0.982295\n",
       "test_precision    0.969354\n",
       "test_gmean        0.971454\n",
       "test_f1           0.975745\n",
       "test_roc          0.971545\n",
       "dtype: float64"
      ]
     },
     "execution_count": 29,
     "metadata": {},
     "output_type": "execute_result"
    }
   ],
   "source": [
    "rf_result = cross_validate(rf, x_train, y_train, cv = 10, scoring=scores)\n",
    "df= pd.DataFrame(rf_result)\n",
    "df.mean(axis=0)"
   ]
  },
  {
   "cell_type": "code",
   "execution_count": 30,
   "id": "dd2ae3be",
   "metadata": {},
   "outputs": [
    {
     "data": {
      "text/plain": [
       "fit_time          0.230353\n",
       "score_time        0.012603\n",
       "test_accuracy     0.932520\n",
       "test_recall       0.953387\n",
       "test_precision    0.927578\n",
       "test_gmean        0.929507\n",
       "test_f1           0.940270\n",
       "test_roc          0.929838\n",
       "dtype: float64"
      ]
     },
     "execution_count": 30,
     "metadata": {},
     "output_type": "execute_result"
    }
   ],
   "source": [
    "ada_result= cross_validate(ada, x_train, y_train, cv = 10, scoring=scores)\n",
    "df= pd.DataFrame(ada_result)\n",
    "df.mean(axis=0)"
   ]
  },
  {
   "cell_type": "code",
   "execution_count": 31,
   "id": "504070d1",
   "metadata": {},
   "outputs": [
    {
     "data": {
      "text/plain": [
       "fit_time          0.232752\n",
       "score_time        0.024972\n",
       "test_accuracy     0.973673\n",
       "test_recall       0.979045\n",
       "test_precision    0.973941\n",
       "test_gmean        0.972933\n",
       "test_f1           0.976447\n",
       "test_roc          0.972983\n",
       "dtype: float64"
      ]
     },
     "execution_count": 31,
     "metadata": {},
     "output_type": "execute_result"
    }
   ],
   "source": [
    "extra_result= cross_validate(extra, x_train, y_train, cv = 10, scoring=scores)\n",
    "df= pd.DataFrame(extra_result)\n",
    "df.mean(axis=0)"
   ]
  },
  {
   "cell_type": "code",
   "execution_count": 32,
   "id": "dbc341e6",
   "metadata": {},
   "outputs": [
    {
     "data": {
      "text/plain": [
       "fit_time          0.643747\n",
       "score_time        0.005901\n",
       "test_accuracy     0.946993\n",
       "test_recall       0.960860\n",
       "test_precision    0.945014\n",
       "test_gmean        0.945048\n",
       "test_f1           0.952832\n",
       "test_roc          0.945210\n",
       "dtype: float64"
      ]
     },
     "execution_count": 32,
     "metadata": {},
     "output_type": "execute_result"
    }
   ],
   "source": [
    "grad_result= cross_validate(grad, x_train, y_train, cv = 10, scoring=scores)\n",
    "df= pd.DataFrame(grad_result)\n",
    "df.mean(axis=0)"
   ]
  },
  {
   "cell_type": "code",
   "execution_count": 33,
   "id": "87815fd2",
   "metadata": {},
   "outputs": [
    {
     "data": {
      "text/plain": [
       "fit_time          0.065515\n",
       "score_time        0.006801\n",
       "test_accuracy     0.968790\n",
       "test_recall       0.976774\n",
       "test_precision    0.967650\n",
       "test_gmean        0.967686\n",
       "test_f1           0.972148\n",
       "test_roc          0.967764\n",
       "dtype: float64"
      ]
     },
     "execution_count": 33,
     "metadata": {},
     "output_type": "execute_result"
    }
   ],
   "source": [
    "lgbm_result= cross_validate(lgbm, x_train, y_train, cv = 10, scoring=scores)\n",
    "df= pd.DataFrame(lgbm_result)\n",
    "df.mean(axis=0)"
   ]
  },
  {
   "cell_type": "code",
   "execution_count": 36,
   "id": "ff409b1b",
   "metadata": {},
   "outputs": [
    {
     "data": {
      "text/plain": [
       "fit_time          0.196944\n",
       "score_time        0.008302\n",
       "test_accuracy     0.972860\n",
       "test_recall       0.981970\n",
       "test_precision    0.969804\n",
       "test_gmean        0.971609\n",
       "test_f1           0.975821\n",
       "test_roc          0.971691\n",
       "dtype: float64"
      ]
     },
     "execution_count": 36,
     "metadata": {},
     "output_type": "execute_result"
    }
   ],
   "source": [
    "xg_result= cross_validate(xg, x_train, y, cv = 10, scoring=scores)\n",
    "df= pd.DataFrame(xg_result)\n",
    "df.mean(axis=0)"
   ]
  },
  {
   "cell_type": "code",
   "execution_count": 37,
   "id": "5cfddc8c",
   "metadata": {},
   "outputs": [
    {
     "data": {
      "text/plain": [
       "fit_time          4.273268\n",
       "score_time        0.004901\n",
       "test_accuracy     0.966708\n",
       "test_recall       0.975634\n",
       "test_precision    0.965185\n",
       "test_gmean        0.965429\n",
       "test_f1           0.970265\n",
       "test_roc          0.965564\n",
       "dtype: float64"
      ]
     },
     "execution_count": 37,
     "metadata": {},
     "output_type": "execute_result"
    }
   ],
   "source": [
    "nn_result= cross_validate(nn, x_train, y, cv = 10, scoring=scores)\n",
    "df= pd.DataFrame(nn_result)\n",
    "df.mean(axis=0)"
   ]
  },
  {
   "cell_type": "code",
   "execution_count": 38,
   "id": "241e6ac0",
   "metadata": {},
   "outputs": [
    {
     "data": {
      "text/plain": [
       "fit_time          0.799682\n",
       "score_time        0.151434\n",
       "test_accuracy     0.947444\n",
       "test_recall       0.967680\n",
       "test_precision    0.939864\n",
       "test_gmean        0.944538\n",
       "test_f1           0.953538\n",
       "test_roc          0.944845\n",
       "dtype: float64"
      ]
     },
     "execution_count": 38,
     "metadata": {},
     "output_type": "execute_result"
    }
   ],
   "source": [
    "svm_result= cross_validate(svm, x_train, y, cv = 10, scoring=scores)\n",
    "df= pd.DataFrame(svm_result)\n",
    "df.mean(axis=0)"
   ]
  },
  {
   "cell_type": "code",
   "execution_count": 10,
   "id": "f9cdcafd",
   "metadata": {},
   "outputs": [
    {
     "data": {
      "text/plain": [
       "fit_time          0.004545\n",
       "score_time        0.283732\n",
       "test_accuracy     0.935953\n",
       "test_recall       0.936167\n",
       "test_precision    0.948253\n",
       "test_gmean        0.935904\n",
       "test_f1           0.942141\n",
       "test_roc          0.935928\n",
       "dtype: float64"
      ]
     },
     "execution_count": 10,
     "metadata": {},
     "output_type": "execute_result"
    }
   ],
   "source": [
    "knn_result= cross_validate(knn, x_train, y, cv = 10, scoring=scores)\n",
    "df= pd.DataFrame(knn_result)\n",
    "df.mean(axis=0)"
   ]
  },
  {
   "cell_type": "code",
   "execution_count": 11,
   "id": "70c72c48",
   "metadata": {},
   "outputs": [
    {
     "data": {
      "text/plain": [
       "fit_time          0.033066\n",
       "score_time        0.004074\n",
       "test_accuracy     0.925373\n",
       "test_recall       0.943966\n",
       "test_precision    0.923816\n",
       "test_gmean        0.922715\n",
       "test_f1           0.933752\n",
       "test_roc          0.922983\n",
       "dtype: float64"
      ]
     },
     "execution_count": 11,
     "metadata": {},
     "output_type": "execute_result"
    }
   ],
   "source": [
    "lr_result= cross_validate(lr, x_train, y, cv = 10, scoring=scores)\n",
    "df= pd.DataFrame(lr_result)\n",
    "df.mean(axis=0)"
   ]
  },
  {
   "cell_type": "code",
   "execution_count": 12,
   "id": "ab4713c3",
   "metadata": {},
   "outputs": [
    {
     "data": {
      "text/plain": [
       "fit_time          0.003873\n",
       "score_time        0.005563\n",
       "test_accuracy     0.603890\n",
       "test_recall       0.289921\n",
       "test_precision    0.996033\n",
       "test_gmean        0.537729\n",
       "test_f1           0.448739\n",
       "test_roc          0.644246\n",
       "dtype: float64"
      ]
     },
     "execution_count": 12,
     "metadata": {},
     "output_type": "execute_result"
    }
   ],
   "source": [
    "nb= GaussianNB()\n",
    "nb_result= cross_validate(nb, x_train, y, cv = 10, scoring=scores)\n",
    "df= pd.DataFrame(nb_result)\n",
    "df.mean(axis=0)"
   ]
  },
  {
   "cell_type": "markdown",
   "id": "87c97266",
   "metadata": {},
   "source": [
    "# stacking - proba"
   ]
  },
  {
   "cell_type": "code",
   "execution_count": 12,
   "id": "618fc65c",
   "metadata": {},
   "outputs": [],
   "source": [
    "# meta - nn,  cv - 10\n",
    "\n",
    "stacking_result = []\n",
    "stacking_names= []\n",
    "\n",
    "nn_meta= MLPClassifier(activation = \"relu\", alpha = 0.001, hidden_layer_sizes = (6,12,24,12,6), random_state=10)\n",
    "\n",
    "sel_classifier= [rf, ada, extra, lgbm, grad, xg, nn]\n",
    "\n",
    "scl = StackingCVClassifier(classifiers= sel_classifier,\n",
    "                            meta_classifier = nn_meta, # use meta-classifier\n",
    "                            use_probas = True,   # use_probas = True/False\n",
    "                            random_state = 10)\n",
    "\n",
    "st_result= cross_validate(scl, x_train, y, cv = 10, scoring=scores,n_jobs=-1)\n"
   ]
  },
  {
   "cell_type": "code",
   "execution_count": 14,
   "id": "002773e5",
   "metadata": {},
   "outputs": [
    {
     "data": {
      "text/plain": [
       "fit_time          21.672631\n",
       "score_time         0.083033\n",
       "test_accuracy      0.974759\n",
       "test_recall        0.984243\n",
       "test_precision     0.971064\n",
       "test_gmean         0.973425\n",
       "test_f1            0.977543\n",
       "test_roc           0.973541\n",
       "dtype: float64"
      ]
     },
     "execution_count": 14,
     "metadata": {},
     "output_type": "execute_result"
    }
   ],
   "source": [
    "df= pd.DataFrame(st_result)\n",
    "df.mean(axis=0)"
   ]
  },
  {
   "cell_type": "code",
   "execution_count": 14,
   "id": "b7d13f35",
   "metadata": {},
   "outputs": [],
   "source": [
    "# meta - nn,  cv - 10\n",
    "\n",
    "stacking_result = []\n",
    "stacking_names= []\n",
    "\n",
    "nn_meta= MLPClassifier(activation = \"relu\", alpha = 0.001, hidden_layer_sizes = (6,12,24,12,6), random_state=10)\n",
    "\n",
    "sel_classifier= [rf, ada, extra, lgbm, grad, xg, nn, svm, knn]\n",
    "\n",
    "scl = StackingCVClassifier(classifiers= sel_classifier,\n",
    "                            meta_classifier = nn_meta, # use meta-classifier\n",
    "                            use_probas = True,   # use_probas = True/False\n",
    "                            random_state = 10)\n",
    "\n",
    "st_result= cross_validate(scl, x_train, y, cv = 10, scoring=scores,n_jobs=-1)\n"
   ]
  },
  {
   "cell_type": "code",
   "execution_count": 15,
   "id": "ce828dea",
   "metadata": {},
   "outputs": [
    {
     "data": {
      "text/plain": [
       "fit_time          86.953716\n",
       "score_time         0.732831\n",
       "test_accuracy      0.973312\n",
       "test_recall        0.981807\n",
       "test_precision     0.970724\n",
       "test_gmean         0.972145\n",
       "test_f1            0.976199\n",
       "test_roc           0.972221\n",
       "dtype: float64"
      ]
     },
     "execution_count": 15,
     "metadata": {},
     "output_type": "execute_result"
    }
   ],
   "source": [
    "df= pd.DataFrame(st_result)\n",
    "df.mean(axis=0)"
   ]
  },
  {
   "cell_type": "code",
   "execution_count": 12,
   "id": "1d2846c3",
   "metadata": {},
   "outputs": [],
   "source": [
    "# meta - nn,  cv - 10\n",
    "\n",
    "stacking_result = []\n",
    "stacking_names= []\n",
    "\n",
    "nn_meta= MLPClassifier(activation = \"relu\", alpha = 0.001, hidden_layer_sizes = (6,12,24,12,6), random_state=10)\n",
    "\n",
    "sel_classifier= [rf, extra, xg, nn]\n",
    "\n",
    "scl = StackingCVClassifier(classifiers= sel_classifier,\n",
    "                            meta_classifier = nn_meta, # use meta-classifier\n",
    "                            use_probas = True,   # use_probas = True/False\n",
    "                            random_state = 10)\n",
    "\n",
    "st_result= cross_validate(scl, x_train, y, cv = 10, scoring=scores,n_jobs=-1)\n"
   ]
  },
  {
   "cell_type": "code",
   "execution_count": 13,
   "id": "3206d1fa",
   "metadata": {},
   "outputs": [
    {
     "data": {
      "text/plain": [
       "fit_time          51.641527\n",
       "score_time         0.190220\n",
       "test_accuracy      0.974125\n",
       "test_recall        0.982781\n",
       "test_precision     0.971250\n",
       "test_gmean         0.972927\n",
       "test_f1            0.976935\n",
       "test_roc           0.973015\n",
       "dtype: float64"
      ]
     },
     "execution_count": 13,
     "metadata": {},
     "output_type": "execute_result"
    }
   ],
   "source": [
    "df= pd.DataFrame(st_result)\n",
    "df.mean(axis=0)"
   ]
  },
  {
   "cell_type": "code",
   "execution_count": 14,
   "id": "c53f3963",
   "metadata": {},
   "outputs": [
    {
     "data": {
      "text/plain": [
       "fit_time          50.533804\n",
       "score_time         0.079677\n",
       "test_accuracy      0.973854\n",
       "test_recall        0.984243\n",
       "test_precision     0.969397\n",
       "test_gmean         0.972421\n",
       "test_f1            0.976730\n",
       "test_roc           0.972521\n",
       "dtype: float64"
      ]
     },
     "execution_count": 14,
     "metadata": {},
     "output_type": "execute_result"
    }
   ],
   "source": [
    "# meta - nn,  cv - 10\n",
    "\n",
    "stacking_result = []\n",
    "stacking_names= []\n",
    "\n",
    "nn_meta= MLPClassifier(activation = \"relu\", alpha = 0.001, hidden_layer_sizes = (6,12,24,12,6), random_state=10)\n",
    "\n",
    "sel_classifier= [rf, extra, xg, nn, lgbm]\n",
    "\n",
    "scl = StackingCVClassifier(classifiers= sel_classifier,\n",
    "                            meta_classifier = nn_meta, # use meta-classifier\n",
    "                            use_probas = True,   # use_probas = True/False\n",
    "                            random_state = 10)\n",
    "\n",
    "st_result= cross_validate(scl, x_train, y, cv = 10, scoring=scores,n_jobs=-1)\n",
    "\n",
    "df= pd.DataFrame(st_result)\n",
    "df.mean(axis=0)"
   ]
  },
  {
   "cell_type": "code",
   "execution_count": 16,
   "id": "ce846430",
   "metadata": {},
   "outputs": [
    {
     "data": {
      "text/plain": [
       "fit_time          86.598816\n",
       "score_time         0.155767\n",
       "test_accuracy      0.973583\n",
       "test_recall        0.984569\n",
       "test_precision     0.968646\n",
       "test_gmean         0.972065\n",
       "test_f1            0.976512\n",
       "test_roc           0.972174\n",
       "dtype: float64"
      ]
     },
     "execution_count": 16,
     "metadata": {},
     "output_type": "execute_result"
    }
   ],
   "source": [
    "# meta - nn,  cv - 10\n",
    "\n",
    "stacking_result = []\n",
    "stacking_names= []\n",
    "\n",
    "nn_meta= MLPClassifier(activation = \"relu\", alpha = 0.001, hidden_layer_sizes = (6,12,24,12,6), random_state=10)\n",
    "\n",
    "sel_classifier= [rf, extra, xg, nn, lgbm, svm, grad]\n",
    "\n",
    "scl = StackingCVClassifier(classifiers= sel_classifier,\n",
    "                            meta_classifier = nn_meta, # use meta-classifier\n",
    "                            use_probas = True,   # use_probas = True/False\n",
    "                            random_state = 10)\n",
    "\n",
    "st_result= cross_validate(scl, x_train, y, cv = 10, scoring=scores,n_jobs=-1)\n",
    "\n",
    "df= pd.DataFrame(st_result)\n",
    "df.mean(axis=0)"
   ]
  },
  {
   "cell_type": "code",
   "execution_count": 17,
   "id": "a2c9f41f",
   "metadata": {},
   "outputs": [
    {
     "data": {
      "text/plain": [
       "fit_time          75.842267\n",
       "score_time         0.162100\n",
       "test_accuracy      0.973311\n",
       "test_recall        0.984568\n",
       "test_precision     0.968251\n",
       "test_gmean         0.971727\n",
       "test_f1            0.976273\n",
       "test_roc           0.971867\n",
       "dtype: float64"
      ]
     },
     "execution_count": 17,
     "metadata": {},
     "output_type": "execute_result"
    }
   ],
   "source": [
    "# meta - nn,  cv - 10\n",
    "\n",
    "stacking_result = []\n",
    "stacking_names= []\n",
    "\n",
    "nn_meta= MLPClassifier(activation = \"relu\", alpha = 0.001, hidden_layer_sizes = (6,12,24,12,6), random_state=10)\n",
    "\n",
    "sel_classifier= [rf, extra, xg, nn, lgbm, svm]\n",
    "\n",
    "scl = StackingCVClassifier(classifiers= sel_classifier,\n",
    "                            meta_classifier = nn_meta, # use meta-classifier\n",
    "                            use_probas = True,   # use_probas = True/False\n",
    "                            random_state = 10)\n",
    "\n",
    "st_result= cross_validate(scl, x_train, y, cv = 10, scoring=scores,n_jobs=-1)\n",
    "\n",
    "df= pd.DataFrame(st_result)\n",
    "df.mean(axis=0)"
   ]
  },
  {
   "cell_type": "code",
   "execution_count": 18,
   "id": "eba60e27",
   "metadata": {},
   "outputs": [
    {
     "data": {
      "text/plain": [
       "fit_time          63.995371\n",
       "score_time         0.073417\n",
       "test_accuracy      0.973311\n",
       "test_recall        0.983755\n",
       "test_precision     0.968986\n",
       "test_gmean         0.971842\n",
       "test_f1            0.976240\n",
       "test_roc           0.971971\n",
       "dtype: float64"
      ]
     },
     "execution_count": 18,
     "metadata": {},
     "output_type": "execute_result"
    }
   ],
   "source": [
    "# meta - nn,  cv - 10\n",
    "\n",
    "stacking_result = []\n",
    "stacking_names= []\n",
    "\n",
    "nn_meta= MLPClassifier(activation = \"relu\", alpha = 0.001, hidden_layer_sizes = (6,12,24,12,6), random_state=10)\n",
    "\n",
    "sel_classifier= [rf, extra, xg, nn, lgbm, grad]\n",
    "\n",
    "scl = StackingCVClassifier(classifiers= sel_classifier,\n",
    "                            meta_classifier = nn_meta, # use meta-classifier\n",
    "                            use_probas = True,   # use_probas = True/False\n",
    "                            random_state = 10)\n",
    "\n",
    "st_result= cross_validate(scl, x_train, y, cv = 10, scoring=scores,n_jobs=-1)\n",
    "\n",
    "df= pd.DataFrame(st_result)\n",
    "df.mean(axis=0)"
   ]
  },
  {
   "cell_type": "code",
   "execution_count": 19,
   "id": "dc7d6182",
   "metadata": {},
   "outputs": [
    {
     "data": {
      "text/plain": [
       "fit_time          51.146189\n",
       "score_time         0.347778\n",
       "test_accuracy      0.973492\n",
       "test_recall        0.983269\n",
       "test_precision     0.969789\n",
       "test_gmean         0.972116\n",
       "test_f1            0.976416\n",
       "test_roc           0.972237\n",
       "dtype: float64"
      ]
     },
     "execution_count": 19,
     "metadata": {},
     "output_type": "execute_result"
    }
   ],
   "source": [
    "# meta - nn,  cv - 10\n",
    "\n",
    "stacking_result = []\n",
    "stacking_names= []\n",
    "\n",
    "nn_meta= MLPClassifier(activation = \"relu\", alpha = 0.001, hidden_layer_sizes = (6,12,24,12,6), random_state=10)\n",
    "\n",
    "sel_classifier= [rf, extra, xg, nn, lgbm, knn]\n",
    "\n",
    "scl = StackingCVClassifier(classifiers= sel_classifier,\n",
    "                            meta_classifier = nn_meta, # use meta-classifier\n",
    "                            use_probas = True,   # use_probas = True/False\n",
    "                            random_state = 10)\n",
    "\n",
    "st_result= cross_validate(scl, x_train, y, cv = 10, scoring=scores,n_jobs=-1)\n",
    "\n",
    "df= pd.DataFrame(st_result)\n",
    "df.mean(axis=0)"
   ]
  },
  {
   "cell_type": "markdown",
   "id": "78b0ac85",
   "metadata": {},
   "source": [
    "# feature selection"
   ]
  },
  {
   "cell_type": "code",
   "execution_count": 12,
   "id": "632dfad0",
   "metadata": {},
   "outputs": [],
   "source": [
    "from sklearn.feature_selection import RFECV"
   ]
  },
  {
   "cell_type": "code",
   "execution_count": 16,
   "id": "435cc024",
   "metadata": {},
   "outputs": [
    {
     "data": {
      "text/plain": [
       "array([ 0,  1,  2,  3,  4,  5,  6,  7,  8,  9, 10, 11, 12, 13, 14, 15, 16,\n",
       "       17, 18, 19, 20, 21, 22, 23, 24, 25, 26, 27, 28, 29], dtype=int64)"
      ]
     },
     "execution_count": 16,
     "metadata": {},
     "output_type": "execute_result"
    }
   ],
   "source": [
    "selector = RFECV(rf, cv=5, n_jobs=-1)\n",
    "selector = selector.fit(x, y)\n",
    "rf_col,= np.where(selector.ranking_==1)\n",
    "rf_col"
   ]
  },
  {
   "cell_type": "code",
   "execution_count": 17,
   "id": "4250cc18",
   "metadata": {},
   "outputs": [
    {
     "data": {
      "text/plain": [
       "array([ 0,  1,  2,  3,  5,  6,  7,  8,  9, 13, 14, 15, 18, 24, 25, 26, 27,\n",
       "       28], dtype=int64)"
      ]
     },
     "execution_count": 17,
     "metadata": {},
     "output_type": "execute_result"
    }
   ],
   "source": [
    "selector = RFECV(ada, cv=5, n_jobs=-1)\n",
    "selector = selector.fit(x, y)\n",
    "ada_col,= np.where(selector.ranking_==1)\n",
    "ada_col"
   ]
  },
  {
   "cell_type": "code",
   "execution_count": 18,
   "id": "b8fa6c46",
   "metadata": {},
   "outputs": [
    {
     "data": {
      "text/plain": [
       "(array([ 0,  1,  2,  3,  4,  5,  6,  7,  8,  9, 10, 11, 12, 13, 14, 15, 16,\n",
       "        17, 18, 19, 21, 22, 23, 24, 25, 26, 27, 28, 29], dtype=int64),)"
      ]
     },
     "execution_count": 18,
     "metadata": {},
     "output_type": "execute_result"
    }
   ],
   "source": [
    "selector = RFECV(extra, cv=5, n_jobs=-1)\n",
    "selector = selector.fit(x, y)\n",
    "extra_col= np.where(selector.ranking_==1)\n",
    "extra_col"
   ]
  },
  {
   "cell_type": "code",
   "execution_count": 20,
   "id": "6c14f6ac",
   "metadata": {},
   "outputs": [
    {
     "data": {
      "text/plain": [
       "(array([ 0,  1,  2,  3,  4,  5,  6,  7,  8,  9, 11, 12, 13, 14, 15, 16, 17,\n",
       "        18, 19, 21, 22, 23, 24, 25, 26, 27, 28, 29], dtype=int64),)"
      ]
     },
     "execution_count": 20,
     "metadata": {},
     "output_type": "execute_result"
    }
   ],
   "source": [
    "selector = RFECV(lgbm, cv=5, n_jobs=-1)\n",
    "selector = selector.fit(x, y)\n",
    "lgbm_col= np.where(selector.ranking_==1)\n",
    "lgbm_col"
   ]
  },
  {
   "cell_type": "code",
   "execution_count": 21,
   "id": "f731273f",
   "metadata": {},
   "outputs": [
    {
     "data": {
      "text/plain": [
       "(array([ 0,  1,  2,  4,  5,  6,  7,  8,  9, 11, 12, 13, 14, 15, 16, 17, 18,\n",
       "        19, 20, 21, 22, 23, 24, 25, 26, 27, 28], dtype=int64),)"
      ]
     },
     "execution_count": 21,
     "metadata": {},
     "output_type": "execute_result"
    }
   ],
   "source": [
    "selector = RFECV(grad, cv=5, n_jobs=-1)\n",
    "selector = selector.fit(x, y)\n",
    "grad_col= np.where(selector.ranking_==1)\n",
    "grad_col"
   ]
  },
  {
   "cell_type": "code",
   "execution_count": 22,
   "id": "b79a9a86",
   "metadata": {},
   "outputs": [
    {
     "data": {
      "text/plain": [
       "(array([ 0,  1,  2,  5,  6,  7,  8,  9, 10, 11, 12, 13, 14, 15, 16, 17, 18,\n",
       "        19, 21, 22, 23, 24, 25, 26, 27, 28], dtype=int64),)"
      ]
     },
     "execution_count": 22,
     "metadata": {},
     "output_type": "execute_result"
    }
   ],
   "source": [
    "selector = RFECV(xg, cv=5, n_jobs=-1)\n",
    "selector = selector.fit(x, y)\n",
    "xg_col= np.where(selector.ranking_==1)\n",
    "xg_col"
   ]
  },
  {
   "cell_type": "code",
   "execution_count": 13,
   "id": "467fdbc4",
   "metadata": {},
   "outputs": [
    {
     "data": {
      "text/plain": [
       "(array([ 0,  2,  5,  6,  7,  9, 10, 11, 13, 14, 15, 16, 18, 24, 25, 27, 28,\n",
       "        29], dtype=int64),)"
      ]
     },
     "execution_count": 13,
     "metadata": {},
     "output_type": "execute_result"
    }
   ],
   "source": [
    "selector = RFECV(lr, cv=5, n_jobs=-1)\n",
    "selector = selector.fit(x, y)\n",
    "lr_col= np.where(selector.ranking_==1)\n",
    "lr_col"
   ]
  },
  {
   "cell_type": "code",
   "execution_count": 16,
   "id": "5e8ae318",
   "metadata": {},
   "outputs": [
    {
     "data": {
      "text/plain": [
       "(array([ 0,  2,  3,  5,  6,  7, 10, 11, 12, 13, 14, 15, 16, 17, 18, 20, 21,\n",
       "        22, 24, 25, 26, 27, 28, 29], dtype=int64),)"
      ]
     },
     "execution_count": 16,
     "metadata": {},
     "output_type": "execute_result"
    }
   ],
   "source": [
    "selector = RFECV(svm, cv=5, n_jobs=-1)\n",
    "selector = selector.fit(x, y)\n",
    "svm_col= np.where(selector.ranking_==1)\n",
    "svm_col"
   ]
  },
  {
   "cell_type": "code",
   "execution_count": 20,
   "id": "8c678ffe",
   "metadata": {
    "scrolled": true
   },
   "outputs": [
    {
     "ename": "ValueError",
     "evalue": "when `importance_getter=='auto'`, the underlying estimator KNeighborsClassifier should have `coef_` or `feature_importances_` attribute. Either pass a fitted estimator to feature selector or call fit before calling transform.",
     "output_type": "error",
     "traceback": [
      "\u001b[1;31m---------------------------------------------------------------------------\u001b[0m",
      "\u001b[1;31m_RemoteTraceback\u001b[0m                          Traceback (most recent call last)",
      "\u001b[1;31m_RemoteTraceback\u001b[0m: \n\"\"\"\nTraceback (most recent call last):\n  File \"D:\\apps\\anaconda\\anaconda\\lib\\site-packages\\joblib\\externals\\loky\\process_executor.py\", line 436, in _process_worker\n    r = call_item()\n  File \"D:\\apps\\anaconda\\anaconda\\lib\\site-packages\\joblib\\externals\\loky\\process_executor.py\", line 288, in __call__\n    return self.fn(*self.args, **self.kwargs)\n  File \"D:\\apps\\anaconda\\anaconda\\lib\\site-packages\\joblib\\_parallel_backends.py\", line 595, in __call__\n    return self.func(*args, **kwargs)\n  File \"D:\\apps\\anaconda\\anaconda\\lib\\site-packages\\joblib\\parallel.py\", line 262, in __call__\n    return [func(*args, **kwargs)\n  File \"D:\\apps\\anaconda\\anaconda\\lib\\site-packages\\joblib\\parallel.py\", line 262, in <listcomp>\n    return [func(*args, **kwargs)\n  File \"D:\\apps\\anaconda\\anaconda\\lib\\site-packages\\sklearn\\utils\\fixes.py\", line 216, in __call__\n    return self.function(*args, **kwargs)\n  File \"D:\\apps\\anaconda\\anaconda\\lib\\site-packages\\sklearn\\feature_selection\\_rfe.py\", line 37, in _rfe_single_fit\n    return rfe._fit(\n  File \"D:\\apps\\anaconda\\anaconda\\lib\\site-packages\\sklearn\\feature_selection\\_rfe.py\", line 286, in _fit\n    importances = _get_feature_importances(\n  File \"D:\\apps\\anaconda\\anaconda\\lib\\site-packages\\sklearn\\feature_selection\\_base.py\", line 204, in _get_feature_importances\n    raise ValueError(\nValueError: when `importance_getter=='auto'`, the underlying estimator KNeighborsClassifier should have `coef_` or `feature_importances_` attribute. Either pass a fitted estimator to feature selector or call fit before calling transform.\n\"\"\"",
      "\nThe above exception was the direct cause of the following exception:\n",
      "\u001b[1;31mValueError\u001b[0m                                Traceback (most recent call last)",
      "\u001b[1;32m~\\AppData\\Local\\Temp/ipykernel_16756/798993299.py\u001b[0m in \u001b[0;36m<module>\u001b[1;34m\u001b[0m\n\u001b[0;32m      1\u001b[0m \u001b[0mselector\u001b[0m \u001b[1;33m=\u001b[0m \u001b[0mRFECV\u001b[0m\u001b[1;33m(\u001b[0m\u001b[0mknn\u001b[0m\u001b[1;33m,\u001b[0m \u001b[0mcv\u001b[0m\u001b[1;33m=\u001b[0m\u001b[1;36m5\u001b[0m\u001b[1;33m,\u001b[0m \u001b[0mn_jobs\u001b[0m\u001b[1;33m=\u001b[0m\u001b[1;33m-\u001b[0m\u001b[1;36m1\u001b[0m\u001b[1;33m)\u001b[0m\u001b[1;33m\u001b[0m\u001b[1;33m\u001b[0m\u001b[0m\n\u001b[1;32m----> 2\u001b[1;33m \u001b[0mselector\u001b[0m \u001b[1;33m=\u001b[0m \u001b[0mselector\u001b[0m\u001b[1;33m.\u001b[0m\u001b[0mfit\u001b[0m\u001b[1;33m(\u001b[0m\u001b[0mx\u001b[0m\u001b[1;33m,\u001b[0m \u001b[0my\u001b[0m\u001b[1;33m)\u001b[0m\u001b[1;33m\u001b[0m\u001b[1;33m\u001b[0m\u001b[0m\n\u001b[0m\u001b[0;32m      3\u001b[0m \u001b[0mknn_col\u001b[0m\u001b[1;33m=\u001b[0m \u001b[0mnp\u001b[0m\u001b[1;33m.\u001b[0m\u001b[0mwhere\u001b[0m\u001b[1;33m(\u001b[0m\u001b[0mselector\u001b[0m\u001b[1;33m.\u001b[0m\u001b[0mranking_\u001b[0m\u001b[1;33m==\u001b[0m\u001b[1;36m1\u001b[0m\u001b[1;33m)\u001b[0m\u001b[1;33m\u001b[0m\u001b[1;33m\u001b[0m\u001b[0m\n\u001b[0;32m      4\u001b[0m \u001b[0mknn_col\u001b[0m\u001b[1;33m\u001b[0m\u001b[1;33m\u001b[0m\u001b[0m\n",
      "\u001b[1;32mD:\\apps\\anaconda\\anaconda\\lib\\site-packages\\sklearn\\feature_selection\\_rfe.py\u001b[0m in \u001b[0;36mfit\u001b[1;34m(self, X, y, groups)\u001b[0m\n\u001b[0;32m    708\u001b[0m             \u001b[0mfunc\u001b[0m \u001b[1;33m=\u001b[0m \u001b[0mdelayed\u001b[0m\u001b[1;33m(\u001b[0m\u001b[0m_rfe_single_fit\u001b[0m\u001b[1;33m)\u001b[0m\u001b[1;33m\u001b[0m\u001b[1;33m\u001b[0m\u001b[0m\n\u001b[0;32m    709\u001b[0m \u001b[1;33m\u001b[0m\u001b[0m\n\u001b[1;32m--> 710\u001b[1;33m         scores = parallel(\n\u001b[0m\u001b[0;32m    711\u001b[0m             \u001b[0mfunc\u001b[0m\u001b[1;33m(\u001b[0m\u001b[0mrfe\u001b[0m\u001b[1;33m,\u001b[0m \u001b[0mself\u001b[0m\u001b[1;33m.\u001b[0m\u001b[0mestimator\u001b[0m\u001b[1;33m,\u001b[0m \u001b[0mX\u001b[0m\u001b[1;33m,\u001b[0m \u001b[0my\u001b[0m\u001b[1;33m,\u001b[0m \u001b[0mtrain\u001b[0m\u001b[1;33m,\u001b[0m \u001b[0mtest\u001b[0m\u001b[1;33m,\u001b[0m \u001b[0mscorer\u001b[0m\u001b[1;33m)\u001b[0m\u001b[1;33m\u001b[0m\u001b[1;33m\u001b[0m\u001b[0m\n\u001b[0;32m    712\u001b[0m             \u001b[1;32mfor\u001b[0m \u001b[0mtrain\u001b[0m\u001b[1;33m,\u001b[0m \u001b[0mtest\u001b[0m \u001b[1;32min\u001b[0m \u001b[0mcv\u001b[0m\u001b[1;33m.\u001b[0m\u001b[0msplit\u001b[0m\u001b[1;33m(\u001b[0m\u001b[0mX\u001b[0m\u001b[1;33m,\u001b[0m \u001b[0my\u001b[0m\u001b[1;33m,\u001b[0m \u001b[0mgroups\u001b[0m\u001b[1;33m)\u001b[0m\u001b[1;33m\u001b[0m\u001b[1;33m\u001b[0m\u001b[0m\n",
      "\u001b[1;32mD:\\apps\\anaconda\\anaconda\\lib\\site-packages\\joblib\\parallel.py\u001b[0m in \u001b[0;36m__call__\u001b[1;34m(self, iterable)\u001b[0m\n\u001b[0;32m   1054\u001b[0m \u001b[1;33m\u001b[0m\u001b[0m\n\u001b[0;32m   1055\u001b[0m             \u001b[1;32mwith\u001b[0m \u001b[0mself\u001b[0m\u001b[1;33m.\u001b[0m\u001b[0m_backend\u001b[0m\u001b[1;33m.\u001b[0m\u001b[0mretrieval_context\u001b[0m\u001b[1;33m(\u001b[0m\u001b[1;33m)\u001b[0m\u001b[1;33m:\u001b[0m\u001b[1;33m\u001b[0m\u001b[1;33m\u001b[0m\u001b[0m\n\u001b[1;32m-> 1056\u001b[1;33m                 \u001b[0mself\u001b[0m\u001b[1;33m.\u001b[0m\u001b[0mretrieve\u001b[0m\u001b[1;33m(\u001b[0m\u001b[1;33m)\u001b[0m\u001b[1;33m\u001b[0m\u001b[1;33m\u001b[0m\u001b[0m\n\u001b[0m\u001b[0;32m   1057\u001b[0m             \u001b[1;31m# Make sure that we get a last message telling us we are done\u001b[0m\u001b[1;33m\u001b[0m\u001b[1;33m\u001b[0m\u001b[0m\n\u001b[0;32m   1058\u001b[0m             \u001b[0melapsed_time\u001b[0m \u001b[1;33m=\u001b[0m \u001b[0mtime\u001b[0m\u001b[1;33m.\u001b[0m\u001b[0mtime\u001b[0m\u001b[1;33m(\u001b[0m\u001b[1;33m)\u001b[0m \u001b[1;33m-\u001b[0m \u001b[0mself\u001b[0m\u001b[1;33m.\u001b[0m\u001b[0m_start_time\u001b[0m\u001b[1;33m\u001b[0m\u001b[1;33m\u001b[0m\u001b[0m\n",
      "\u001b[1;32mD:\\apps\\anaconda\\anaconda\\lib\\site-packages\\joblib\\parallel.py\u001b[0m in \u001b[0;36mretrieve\u001b[1;34m(self)\u001b[0m\n\u001b[0;32m    933\u001b[0m             \u001b[1;32mtry\u001b[0m\u001b[1;33m:\u001b[0m\u001b[1;33m\u001b[0m\u001b[1;33m\u001b[0m\u001b[0m\n\u001b[0;32m    934\u001b[0m                 \u001b[1;32mif\u001b[0m \u001b[0mgetattr\u001b[0m\u001b[1;33m(\u001b[0m\u001b[0mself\u001b[0m\u001b[1;33m.\u001b[0m\u001b[0m_backend\u001b[0m\u001b[1;33m,\u001b[0m \u001b[1;34m'supports_timeout'\u001b[0m\u001b[1;33m,\u001b[0m \u001b[1;32mFalse\u001b[0m\u001b[1;33m)\u001b[0m\u001b[1;33m:\u001b[0m\u001b[1;33m\u001b[0m\u001b[1;33m\u001b[0m\u001b[0m\n\u001b[1;32m--> 935\u001b[1;33m                     \u001b[0mself\u001b[0m\u001b[1;33m.\u001b[0m\u001b[0m_output\u001b[0m\u001b[1;33m.\u001b[0m\u001b[0mextend\u001b[0m\u001b[1;33m(\u001b[0m\u001b[0mjob\u001b[0m\u001b[1;33m.\u001b[0m\u001b[0mget\u001b[0m\u001b[1;33m(\u001b[0m\u001b[0mtimeout\u001b[0m\u001b[1;33m=\u001b[0m\u001b[0mself\u001b[0m\u001b[1;33m.\u001b[0m\u001b[0mtimeout\u001b[0m\u001b[1;33m)\u001b[0m\u001b[1;33m)\u001b[0m\u001b[1;33m\u001b[0m\u001b[1;33m\u001b[0m\u001b[0m\n\u001b[0m\u001b[0;32m    936\u001b[0m                 \u001b[1;32melse\u001b[0m\u001b[1;33m:\u001b[0m\u001b[1;33m\u001b[0m\u001b[1;33m\u001b[0m\u001b[0m\n\u001b[0;32m    937\u001b[0m                     \u001b[0mself\u001b[0m\u001b[1;33m.\u001b[0m\u001b[0m_output\u001b[0m\u001b[1;33m.\u001b[0m\u001b[0mextend\u001b[0m\u001b[1;33m(\u001b[0m\u001b[0mjob\u001b[0m\u001b[1;33m.\u001b[0m\u001b[0mget\u001b[0m\u001b[1;33m(\u001b[0m\u001b[1;33m)\u001b[0m\u001b[1;33m)\u001b[0m\u001b[1;33m\u001b[0m\u001b[1;33m\u001b[0m\u001b[0m\n",
      "\u001b[1;32mD:\\apps\\anaconda\\anaconda\\lib\\site-packages\\joblib\\_parallel_backends.py\u001b[0m in \u001b[0;36mwrap_future_result\u001b[1;34m(future, timeout)\u001b[0m\n\u001b[0;32m    540\u001b[0m         AsyncResults.get from multiprocessing.\"\"\"\n\u001b[0;32m    541\u001b[0m         \u001b[1;32mtry\u001b[0m\u001b[1;33m:\u001b[0m\u001b[1;33m\u001b[0m\u001b[1;33m\u001b[0m\u001b[0m\n\u001b[1;32m--> 542\u001b[1;33m             \u001b[1;32mreturn\u001b[0m \u001b[0mfuture\u001b[0m\u001b[1;33m.\u001b[0m\u001b[0mresult\u001b[0m\u001b[1;33m(\u001b[0m\u001b[0mtimeout\u001b[0m\u001b[1;33m=\u001b[0m\u001b[0mtimeout\u001b[0m\u001b[1;33m)\u001b[0m\u001b[1;33m\u001b[0m\u001b[1;33m\u001b[0m\u001b[0m\n\u001b[0m\u001b[0;32m    543\u001b[0m         \u001b[1;32mexcept\u001b[0m \u001b[0mCfTimeoutError\u001b[0m \u001b[1;32mas\u001b[0m \u001b[0me\u001b[0m\u001b[1;33m:\u001b[0m\u001b[1;33m\u001b[0m\u001b[1;33m\u001b[0m\u001b[0m\n\u001b[0;32m    544\u001b[0m             \u001b[1;32mraise\u001b[0m \u001b[0mTimeoutError\u001b[0m \u001b[1;32mfrom\u001b[0m \u001b[0me\u001b[0m\u001b[1;33m\u001b[0m\u001b[1;33m\u001b[0m\u001b[0m\n",
      "\u001b[1;32mD:\\apps\\anaconda\\anaconda\\lib\\concurrent\\futures\\_base.py\u001b[0m in \u001b[0;36mresult\u001b[1;34m(self, timeout)\u001b[0m\n\u001b[0;32m    443\u001b[0m                     \u001b[1;32mraise\u001b[0m \u001b[0mCancelledError\u001b[0m\u001b[1;33m(\u001b[0m\u001b[1;33m)\u001b[0m\u001b[1;33m\u001b[0m\u001b[1;33m\u001b[0m\u001b[0m\n\u001b[0;32m    444\u001b[0m                 \u001b[1;32melif\u001b[0m \u001b[0mself\u001b[0m\u001b[1;33m.\u001b[0m\u001b[0m_state\u001b[0m \u001b[1;33m==\u001b[0m \u001b[0mFINISHED\u001b[0m\u001b[1;33m:\u001b[0m\u001b[1;33m\u001b[0m\u001b[1;33m\u001b[0m\u001b[0m\n\u001b[1;32m--> 445\u001b[1;33m                     \u001b[1;32mreturn\u001b[0m \u001b[0mself\u001b[0m\u001b[1;33m.\u001b[0m\u001b[0m__get_result\u001b[0m\u001b[1;33m(\u001b[0m\u001b[1;33m)\u001b[0m\u001b[1;33m\u001b[0m\u001b[1;33m\u001b[0m\u001b[0m\n\u001b[0m\u001b[0;32m    446\u001b[0m                 \u001b[1;32melse\u001b[0m\u001b[1;33m:\u001b[0m\u001b[1;33m\u001b[0m\u001b[1;33m\u001b[0m\u001b[0m\n\u001b[0;32m    447\u001b[0m                     \u001b[1;32mraise\u001b[0m \u001b[0mTimeoutError\u001b[0m\u001b[1;33m(\u001b[0m\u001b[1;33m)\u001b[0m\u001b[1;33m\u001b[0m\u001b[1;33m\u001b[0m\u001b[0m\n",
      "\u001b[1;32mD:\\apps\\anaconda\\anaconda\\lib\\concurrent\\futures\\_base.py\u001b[0m in \u001b[0;36m__get_result\u001b[1;34m(self)\u001b[0m\n\u001b[0;32m    388\u001b[0m         \u001b[1;32mif\u001b[0m \u001b[0mself\u001b[0m\u001b[1;33m.\u001b[0m\u001b[0m_exception\u001b[0m\u001b[1;33m:\u001b[0m\u001b[1;33m\u001b[0m\u001b[1;33m\u001b[0m\u001b[0m\n\u001b[0;32m    389\u001b[0m             \u001b[1;32mtry\u001b[0m\u001b[1;33m:\u001b[0m\u001b[1;33m\u001b[0m\u001b[1;33m\u001b[0m\u001b[0m\n\u001b[1;32m--> 390\u001b[1;33m                 \u001b[1;32mraise\u001b[0m \u001b[0mself\u001b[0m\u001b[1;33m.\u001b[0m\u001b[0m_exception\u001b[0m\u001b[1;33m\u001b[0m\u001b[1;33m\u001b[0m\u001b[0m\n\u001b[0m\u001b[0;32m    391\u001b[0m             \u001b[1;32mfinally\u001b[0m\u001b[1;33m:\u001b[0m\u001b[1;33m\u001b[0m\u001b[1;33m\u001b[0m\u001b[0m\n\u001b[0;32m    392\u001b[0m                 \u001b[1;31m# Break a reference cycle with the exception in self._exception\u001b[0m\u001b[1;33m\u001b[0m\u001b[1;33m\u001b[0m\u001b[0m\n",
      "\u001b[1;31mValueError\u001b[0m: when `importance_getter=='auto'`, the underlying estimator KNeighborsClassifier should have `coef_` or `feature_importances_` attribute. Either pass a fitted estimator to feature selector or call fit before calling transform."
     ]
    }
   ],
   "source": [
    "selector = RFECV(knn, cv=5, n_jobs=-1)\n",
    "selector = selector.fit(x, y)\n",
    "knn_col= np.where(selector.ranking_==1)\n",
    "knn_col"
   ]
  },
  {
   "cell_type": "code",
   "execution_count": 19,
   "id": "e164d067",
   "metadata": {
    "scrolled": true
   },
   "outputs": [
    {
     "ename": "ValueError",
     "evalue": "when `importance_getter=='auto'`, the underlying estimator GaussianNB should have `coef_` or `feature_importances_` attribute. Either pass a fitted estimator to feature selector or call fit before calling transform.",
     "output_type": "error",
     "traceback": [
      "\u001b[1;31m---------------------------------------------------------------------------\u001b[0m",
      "\u001b[1;31m_RemoteTraceback\u001b[0m                          Traceback (most recent call last)",
      "\u001b[1;31m_RemoteTraceback\u001b[0m: \n\"\"\"\nTraceback (most recent call last):\n  File \"D:\\apps\\anaconda\\anaconda\\lib\\site-packages\\joblib\\externals\\loky\\process_executor.py\", line 436, in _process_worker\n    r = call_item()\n  File \"D:\\apps\\anaconda\\anaconda\\lib\\site-packages\\joblib\\externals\\loky\\process_executor.py\", line 288, in __call__\n    return self.fn(*self.args, **self.kwargs)\n  File \"D:\\apps\\anaconda\\anaconda\\lib\\site-packages\\joblib\\_parallel_backends.py\", line 595, in __call__\n    return self.func(*args, **kwargs)\n  File \"D:\\apps\\anaconda\\anaconda\\lib\\site-packages\\joblib\\parallel.py\", line 262, in __call__\n    return [func(*args, **kwargs)\n  File \"D:\\apps\\anaconda\\anaconda\\lib\\site-packages\\joblib\\parallel.py\", line 262, in <listcomp>\n    return [func(*args, **kwargs)\n  File \"D:\\apps\\anaconda\\anaconda\\lib\\site-packages\\sklearn\\utils\\fixes.py\", line 216, in __call__\n    return self.function(*args, **kwargs)\n  File \"D:\\apps\\anaconda\\anaconda\\lib\\site-packages\\sklearn\\feature_selection\\_rfe.py\", line 37, in _rfe_single_fit\n    return rfe._fit(\n  File \"D:\\apps\\anaconda\\anaconda\\lib\\site-packages\\sklearn\\feature_selection\\_rfe.py\", line 286, in _fit\n    importances = _get_feature_importances(\n  File \"D:\\apps\\anaconda\\anaconda\\lib\\site-packages\\sklearn\\feature_selection\\_base.py\", line 204, in _get_feature_importances\n    raise ValueError(\nValueError: when `importance_getter=='auto'`, the underlying estimator GaussianNB should have `coef_` or `feature_importances_` attribute. Either pass a fitted estimator to feature selector or call fit before calling transform.\n\"\"\"",
      "\nThe above exception was the direct cause of the following exception:\n",
      "\u001b[1;31mValueError\u001b[0m                                Traceback (most recent call last)",
      "\u001b[1;32m~\\AppData\\Local\\Temp/ipykernel_16756/104681532.py\u001b[0m in \u001b[0;36m<module>\u001b[1;34m\u001b[0m\n\u001b[0;32m      1\u001b[0m \u001b[0mselector\u001b[0m \u001b[1;33m=\u001b[0m \u001b[0mRFECV\u001b[0m\u001b[1;33m(\u001b[0m\u001b[0mnb\u001b[0m\u001b[1;33m,\u001b[0m \u001b[0mcv\u001b[0m\u001b[1;33m=\u001b[0m\u001b[1;36m5\u001b[0m\u001b[1;33m,\u001b[0m \u001b[0mn_jobs\u001b[0m\u001b[1;33m=\u001b[0m\u001b[1;33m-\u001b[0m\u001b[1;36m1\u001b[0m\u001b[1;33m)\u001b[0m\u001b[1;33m\u001b[0m\u001b[1;33m\u001b[0m\u001b[0m\n\u001b[1;32m----> 2\u001b[1;33m \u001b[0mselector\u001b[0m \u001b[1;33m=\u001b[0m \u001b[0mselector\u001b[0m\u001b[1;33m.\u001b[0m\u001b[0mfit\u001b[0m\u001b[1;33m(\u001b[0m\u001b[0mx\u001b[0m\u001b[1;33m,\u001b[0m \u001b[0my\u001b[0m\u001b[1;33m)\u001b[0m\u001b[1;33m\u001b[0m\u001b[1;33m\u001b[0m\u001b[0m\n\u001b[0m\u001b[0;32m      3\u001b[0m \u001b[0mnb_col\u001b[0m\u001b[1;33m=\u001b[0m \u001b[0mnp\u001b[0m\u001b[1;33m.\u001b[0m\u001b[0mwhere\u001b[0m\u001b[1;33m(\u001b[0m\u001b[0mselector\u001b[0m\u001b[1;33m.\u001b[0m\u001b[0mranking_\u001b[0m\u001b[1;33m==\u001b[0m\u001b[1;36m1\u001b[0m\u001b[1;33m)\u001b[0m\u001b[1;33m\u001b[0m\u001b[1;33m\u001b[0m\u001b[0m\n\u001b[0;32m      4\u001b[0m \u001b[0mnb_col\u001b[0m\u001b[1;33m\u001b[0m\u001b[1;33m\u001b[0m\u001b[0m\n",
      "\u001b[1;32mD:\\apps\\anaconda\\anaconda\\lib\\site-packages\\sklearn\\feature_selection\\_rfe.py\u001b[0m in \u001b[0;36mfit\u001b[1;34m(self, X, y, groups)\u001b[0m\n\u001b[0;32m    708\u001b[0m             \u001b[0mfunc\u001b[0m \u001b[1;33m=\u001b[0m \u001b[0mdelayed\u001b[0m\u001b[1;33m(\u001b[0m\u001b[0m_rfe_single_fit\u001b[0m\u001b[1;33m)\u001b[0m\u001b[1;33m\u001b[0m\u001b[1;33m\u001b[0m\u001b[0m\n\u001b[0;32m    709\u001b[0m \u001b[1;33m\u001b[0m\u001b[0m\n\u001b[1;32m--> 710\u001b[1;33m         scores = parallel(\n\u001b[0m\u001b[0;32m    711\u001b[0m             \u001b[0mfunc\u001b[0m\u001b[1;33m(\u001b[0m\u001b[0mrfe\u001b[0m\u001b[1;33m,\u001b[0m \u001b[0mself\u001b[0m\u001b[1;33m.\u001b[0m\u001b[0mestimator\u001b[0m\u001b[1;33m,\u001b[0m \u001b[0mX\u001b[0m\u001b[1;33m,\u001b[0m \u001b[0my\u001b[0m\u001b[1;33m,\u001b[0m \u001b[0mtrain\u001b[0m\u001b[1;33m,\u001b[0m \u001b[0mtest\u001b[0m\u001b[1;33m,\u001b[0m \u001b[0mscorer\u001b[0m\u001b[1;33m)\u001b[0m\u001b[1;33m\u001b[0m\u001b[1;33m\u001b[0m\u001b[0m\n\u001b[0;32m    712\u001b[0m             \u001b[1;32mfor\u001b[0m \u001b[0mtrain\u001b[0m\u001b[1;33m,\u001b[0m \u001b[0mtest\u001b[0m \u001b[1;32min\u001b[0m \u001b[0mcv\u001b[0m\u001b[1;33m.\u001b[0m\u001b[0msplit\u001b[0m\u001b[1;33m(\u001b[0m\u001b[0mX\u001b[0m\u001b[1;33m,\u001b[0m \u001b[0my\u001b[0m\u001b[1;33m,\u001b[0m \u001b[0mgroups\u001b[0m\u001b[1;33m)\u001b[0m\u001b[1;33m\u001b[0m\u001b[1;33m\u001b[0m\u001b[0m\n",
      "\u001b[1;32mD:\\apps\\anaconda\\anaconda\\lib\\site-packages\\joblib\\parallel.py\u001b[0m in \u001b[0;36m__call__\u001b[1;34m(self, iterable)\u001b[0m\n\u001b[0;32m   1054\u001b[0m \u001b[1;33m\u001b[0m\u001b[0m\n\u001b[0;32m   1055\u001b[0m             \u001b[1;32mwith\u001b[0m \u001b[0mself\u001b[0m\u001b[1;33m.\u001b[0m\u001b[0m_backend\u001b[0m\u001b[1;33m.\u001b[0m\u001b[0mretrieval_context\u001b[0m\u001b[1;33m(\u001b[0m\u001b[1;33m)\u001b[0m\u001b[1;33m:\u001b[0m\u001b[1;33m\u001b[0m\u001b[1;33m\u001b[0m\u001b[0m\n\u001b[1;32m-> 1056\u001b[1;33m                 \u001b[0mself\u001b[0m\u001b[1;33m.\u001b[0m\u001b[0mretrieve\u001b[0m\u001b[1;33m(\u001b[0m\u001b[1;33m)\u001b[0m\u001b[1;33m\u001b[0m\u001b[1;33m\u001b[0m\u001b[0m\n\u001b[0m\u001b[0;32m   1057\u001b[0m             \u001b[1;31m# Make sure that we get a last message telling us we are done\u001b[0m\u001b[1;33m\u001b[0m\u001b[1;33m\u001b[0m\u001b[0m\n\u001b[0;32m   1058\u001b[0m             \u001b[0melapsed_time\u001b[0m \u001b[1;33m=\u001b[0m \u001b[0mtime\u001b[0m\u001b[1;33m.\u001b[0m\u001b[0mtime\u001b[0m\u001b[1;33m(\u001b[0m\u001b[1;33m)\u001b[0m \u001b[1;33m-\u001b[0m \u001b[0mself\u001b[0m\u001b[1;33m.\u001b[0m\u001b[0m_start_time\u001b[0m\u001b[1;33m\u001b[0m\u001b[1;33m\u001b[0m\u001b[0m\n",
      "\u001b[1;32mD:\\apps\\anaconda\\anaconda\\lib\\site-packages\\joblib\\parallel.py\u001b[0m in \u001b[0;36mretrieve\u001b[1;34m(self)\u001b[0m\n\u001b[0;32m    933\u001b[0m             \u001b[1;32mtry\u001b[0m\u001b[1;33m:\u001b[0m\u001b[1;33m\u001b[0m\u001b[1;33m\u001b[0m\u001b[0m\n\u001b[0;32m    934\u001b[0m                 \u001b[1;32mif\u001b[0m \u001b[0mgetattr\u001b[0m\u001b[1;33m(\u001b[0m\u001b[0mself\u001b[0m\u001b[1;33m.\u001b[0m\u001b[0m_backend\u001b[0m\u001b[1;33m,\u001b[0m \u001b[1;34m'supports_timeout'\u001b[0m\u001b[1;33m,\u001b[0m \u001b[1;32mFalse\u001b[0m\u001b[1;33m)\u001b[0m\u001b[1;33m:\u001b[0m\u001b[1;33m\u001b[0m\u001b[1;33m\u001b[0m\u001b[0m\n\u001b[1;32m--> 935\u001b[1;33m                     \u001b[0mself\u001b[0m\u001b[1;33m.\u001b[0m\u001b[0m_output\u001b[0m\u001b[1;33m.\u001b[0m\u001b[0mextend\u001b[0m\u001b[1;33m(\u001b[0m\u001b[0mjob\u001b[0m\u001b[1;33m.\u001b[0m\u001b[0mget\u001b[0m\u001b[1;33m(\u001b[0m\u001b[0mtimeout\u001b[0m\u001b[1;33m=\u001b[0m\u001b[0mself\u001b[0m\u001b[1;33m.\u001b[0m\u001b[0mtimeout\u001b[0m\u001b[1;33m)\u001b[0m\u001b[1;33m)\u001b[0m\u001b[1;33m\u001b[0m\u001b[1;33m\u001b[0m\u001b[0m\n\u001b[0m\u001b[0;32m    936\u001b[0m                 \u001b[1;32melse\u001b[0m\u001b[1;33m:\u001b[0m\u001b[1;33m\u001b[0m\u001b[1;33m\u001b[0m\u001b[0m\n\u001b[0;32m    937\u001b[0m                     \u001b[0mself\u001b[0m\u001b[1;33m.\u001b[0m\u001b[0m_output\u001b[0m\u001b[1;33m.\u001b[0m\u001b[0mextend\u001b[0m\u001b[1;33m(\u001b[0m\u001b[0mjob\u001b[0m\u001b[1;33m.\u001b[0m\u001b[0mget\u001b[0m\u001b[1;33m(\u001b[0m\u001b[1;33m)\u001b[0m\u001b[1;33m)\u001b[0m\u001b[1;33m\u001b[0m\u001b[1;33m\u001b[0m\u001b[0m\n",
      "\u001b[1;32mD:\\apps\\anaconda\\anaconda\\lib\\site-packages\\joblib\\_parallel_backends.py\u001b[0m in \u001b[0;36mwrap_future_result\u001b[1;34m(future, timeout)\u001b[0m\n\u001b[0;32m    540\u001b[0m         AsyncResults.get from multiprocessing.\"\"\"\n\u001b[0;32m    541\u001b[0m         \u001b[1;32mtry\u001b[0m\u001b[1;33m:\u001b[0m\u001b[1;33m\u001b[0m\u001b[1;33m\u001b[0m\u001b[0m\n\u001b[1;32m--> 542\u001b[1;33m             \u001b[1;32mreturn\u001b[0m \u001b[0mfuture\u001b[0m\u001b[1;33m.\u001b[0m\u001b[0mresult\u001b[0m\u001b[1;33m(\u001b[0m\u001b[0mtimeout\u001b[0m\u001b[1;33m=\u001b[0m\u001b[0mtimeout\u001b[0m\u001b[1;33m)\u001b[0m\u001b[1;33m\u001b[0m\u001b[1;33m\u001b[0m\u001b[0m\n\u001b[0m\u001b[0;32m    543\u001b[0m         \u001b[1;32mexcept\u001b[0m \u001b[0mCfTimeoutError\u001b[0m \u001b[1;32mas\u001b[0m \u001b[0me\u001b[0m\u001b[1;33m:\u001b[0m\u001b[1;33m\u001b[0m\u001b[1;33m\u001b[0m\u001b[0m\n\u001b[0;32m    544\u001b[0m             \u001b[1;32mraise\u001b[0m \u001b[0mTimeoutError\u001b[0m \u001b[1;32mfrom\u001b[0m \u001b[0me\u001b[0m\u001b[1;33m\u001b[0m\u001b[1;33m\u001b[0m\u001b[0m\n",
      "\u001b[1;32mD:\\apps\\anaconda\\anaconda\\lib\\concurrent\\futures\\_base.py\u001b[0m in \u001b[0;36mresult\u001b[1;34m(self, timeout)\u001b[0m\n\u001b[0;32m    443\u001b[0m                     \u001b[1;32mraise\u001b[0m \u001b[0mCancelledError\u001b[0m\u001b[1;33m(\u001b[0m\u001b[1;33m)\u001b[0m\u001b[1;33m\u001b[0m\u001b[1;33m\u001b[0m\u001b[0m\n\u001b[0;32m    444\u001b[0m                 \u001b[1;32melif\u001b[0m \u001b[0mself\u001b[0m\u001b[1;33m.\u001b[0m\u001b[0m_state\u001b[0m \u001b[1;33m==\u001b[0m \u001b[0mFINISHED\u001b[0m\u001b[1;33m:\u001b[0m\u001b[1;33m\u001b[0m\u001b[1;33m\u001b[0m\u001b[0m\n\u001b[1;32m--> 445\u001b[1;33m                     \u001b[1;32mreturn\u001b[0m \u001b[0mself\u001b[0m\u001b[1;33m.\u001b[0m\u001b[0m__get_result\u001b[0m\u001b[1;33m(\u001b[0m\u001b[1;33m)\u001b[0m\u001b[1;33m\u001b[0m\u001b[1;33m\u001b[0m\u001b[0m\n\u001b[0m\u001b[0;32m    446\u001b[0m                 \u001b[1;32melse\u001b[0m\u001b[1;33m:\u001b[0m\u001b[1;33m\u001b[0m\u001b[1;33m\u001b[0m\u001b[0m\n\u001b[0;32m    447\u001b[0m                     \u001b[1;32mraise\u001b[0m \u001b[0mTimeoutError\u001b[0m\u001b[1;33m(\u001b[0m\u001b[1;33m)\u001b[0m\u001b[1;33m\u001b[0m\u001b[1;33m\u001b[0m\u001b[0m\n",
      "\u001b[1;32mD:\\apps\\anaconda\\anaconda\\lib\\concurrent\\futures\\_base.py\u001b[0m in \u001b[0;36m__get_result\u001b[1;34m(self)\u001b[0m\n\u001b[0;32m    388\u001b[0m         \u001b[1;32mif\u001b[0m \u001b[0mself\u001b[0m\u001b[1;33m.\u001b[0m\u001b[0m_exception\u001b[0m\u001b[1;33m:\u001b[0m\u001b[1;33m\u001b[0m\u001b[1;33m\u001b[0m\u001b[0m\n\u001b[0;32m    389\u001b[0m             \u001b[1;32mtry\u001b[0m\u001b[1;33m:\u001b[0m\u001b[1;33m\u001b[0m\u001b[1;33m\u001b[0m\u001b[0m\n\u001b[1;32m--> 390\u001b[1;33m                 \u001b[1;32mraise\u001b[0m \u001b[0mself\u001b[0m\u001b[1;33m.\u001b[0m\u001b[0m_exception\u001b[0m\u001b[1;33m\u001b[0m\u001b[1;33m\u001b[0m\u001b[0m\n\u001b[0m\u001b[0;32m    391\u001b[0m             \u001b[1;32mfinally\u001b[0m\u001b[1;33m:\u001b[0m\u001b[1;33m\u001b[0m\u001b[1;33m\u001b[0m\u001b[0m\n\u001b[0;32m    392\u001b[0m                 \u001b[1;31m# Break a reference cycle with the exception in self._exception\u001b[0m\u001b[1;33m\u001b[0m\u001b[1;33m\u001b[0m\u001b[0m\n",
      "\u001b[1;31mValueError\u001b[0m: when `importance_getter=='auto'`, the underlying estimator GaussianNB should have `coef_` or `feature_importances_` attribute. Either pass a fitted estimator to feature selector or call fit before calling transform."
     ]
    }
   ],
   "source": [
    "selector = RFECV(nb, cv=5, n_jobs=-1)\n",
    "selector = selector.fit(x, y)\n",
    "nb_col= np.where(selector.ranking_==1)\n",
    "nb_col"
   ]
  },
  {
   "cell_type": "code",
   "execution_count": null,
   "id": "8bf6eca9",
   "metadata": {},
   "outputs": [],
   "source": []
  },
  {
   "cell_type": "markdown",
   "id": "e8b28bb1",
   "metadata": {},
   "source": [
    "# stacking with subsets of features"
   ]
  },
  {
   "cell_type": "code",
   "execution_count": 24,
   "id": "7bf05d8e",
   "metadata": {},
   "outputs": [],
   "source": [
    "from mlxtend.feature_selection import ColumnSelector\n",
    "from sklearn.pipeline import make_pipeline"
   ]
  },
  {
   "cell_type": "code",
   "execution_count": 25,
   "id": "892c4f57",
   "metadata": {},
   "outputs": [],
   "source": [
    "pipe_rf = make_pipeline(ColumnSelector(cols=(0,  1,  2,  3,  4,  5,  6,  7,  8,  9, 10, 11, 12, 13, 14, 15, 16,\n",
    "       17, 18, 19, 20, 21, 22, 23, 24, 25, 26, 27, 28, 29)),rf)"
   ]
  },
  {
   "cell_type": "code",
   "execution_count": 26,
   "id": "df84338d",
   "metadata": {},
   "outputs": [],
   "source": [
    "pipe_ada = make_pipeline(ColumnSelector(cols=( 0,  1,  2,  3,  5,  6,  7,  8,  9, 13, 14, 15, 18, 24, 25, 26, 27,\n",
    "       28)),ada)"
   ]
  },
  {
   "cell_type": "code",
   "execution_count": 27,
   "id": "e4d8b32d",
   "metadata": {},
   "outputs": [],
   "source": [
    "pipe_extra = make_pipeline(ColumnSelector(cols=(0,  1,  2,  3,  4,  5,  6,  7,  8,  9, 10, 11, 12, 13, 14, 15, 16,\n",
    "        17, 18, 19, 21, 22, 23, 24, 25, 26, 27, 28, 29)),extra)"
   ]
  },
  {
   "cell_type": "code",
   "execution_count": 28,
   "id": "809044c2",
   "metadata": {},
   "outputs": [],
   "source": [
    "pipe_lgbm = make_pipeline(ColumnSelector(cols=(0,  1,  2,  3,  4,  5,  6,  7,  8,  9, 11, 12, 13, 14, 15, 16, 17,\n",
    "        18, 19, 21, 22, 23, 24, 25, 26, 27, 28, 29)),lgbm)"
   ]
  },
  {
   "cell_type": "code",
   "execution_count": 29,
   "id": "8681c42c",
   "metadata": {},
   "outputs": [],
   "source": [
    "pipe_grad = make_pipeline(ColumnSelector(cols=(0,  1,  2,  4,  5,  6,  7,  8,  9, 11, 12, 13, 14, 15, 16, 17, 18,\n",
    "        19, 20, 21, 22, 23, 24, 25, 26, 27, 28)),grad)"
   ]
  },
  {
   "cell_type": "code",
   "execution_count": 30,
   "id": "3ba7bfa6",
   "metadata": {},
   "outputs": [],
   "source": [
    "pipe_xg = make_pipeline(ColumnSelector(cols=( 0,  1,  2,  5,  6,  7,  8,  9, 10, 11, 12, 13, 14, 15, 16, 17, 18,\n",
    "        19, 21, 22, 23, 24, 25, 26, 27, 28)),xg)"
   ]
  },
  {
   "cell_type": "code",
   "execution_count": 31,
   "id": "a7fac6ab",
   "metadata": {},
   "outputs": [],
   "source": [
    "pipe_nn = make_pipeline(ColumnSelector(cols=(0,  1,  2,  3,  4,  5,  6,  7,  8,  9, 10, 11, 12, 13, 14, 15, 16,\n",
    "       17, 18, 19, 20, 21, 22, 23, 24, 25, 26, 27, 28, 29)),nn)"
   ]
  },
  {
   "cell_type": "code",
   "execution_count": 32,
   "id": "873a0bbc",
   "metadata": {
    "scrolled": true
   },
   "outputs": [
    {
     "name": "stdout",
     "output_type": "stream",
     "text": [
      "Fitting 10 folds for each of 6 candidates, totalling 60 fits\n",
      "Iteration 1, loss = 0.66338969\n",
      "Iteration 2, loss = 0.53614736\n",
      "Iteration 3, loss = 0.39954306\n",
      "Iteration 4, loss = 0.25622798\n",
      "Iteration 5, loss = 0.17034131\n",
      "Iteration 6, loss = 0.13260528\n",
      "Iteration 7, loss = 0.11604884\n",
      "Iteration 8, loss = 0.10698643\n",
      "Iteration 9, loss = 0.10111227\n",
      "Iteration 10, loss = 0.09662548\n",
      "Iteration 11, loss = 0.09187400\n",
      "Iteration 12, loss = 0.08850970\n",
      "Iteration 13, loss = 0.08741005\n",
      "Iteration 14, loss = 0.08658204\n",
      "Iteration 15, loss = 0.08620986\n",
      "Iteration 16, loss = 0.08611321\n",
      "Iteration 17, loss = 0.08587629\n",
      "Iteration 18, loss = 0.08569520\n",
      "Iteration 19, loss = 0.08574490\n",
      "Iteration 20, loss = 0.08533916\n",
      "Iteration 21, loss = 0.08555584\n",
      "Iteration 22, loss = 0.08528068\n",
      "Iteration 23, loss = 0.08519243\n",
      "Iteration 24, loss = 0.08514844\n",
      "Iteration 25, loss = 0.08517288\n",
      "Iteration 26, loss = 0.08510580\n",
      "Iteration 27, loss = 0.08501634\n",
      "Iteration 28, loss = 0.08492141\n",
      "Iteration 29, loss = 0.08483318\n",
      "Iteration 30, loss = 0.08494064\n",
      "Iteration 31, loss = 0.08492019\n",
      "Training loss did not improve more than tol=0.000100 for 10 consecutive epochs. Stopping.\n"
     ]
    },
    {
     "data": {
      "text/plain": [
       "GridSearchCV(cv=10,\n",
       "             estimator=StackingCVClassifier(classifiers=[Pipeline(steps=[('columnselector',\n",
       "                                                                          ColumnSelector(cols=(0,\n",
       "                                                                                               1,\n",
       "                                                                                               2,\n",
       "                                                                                               3,\n",
       "                                                                                               4,\n",
       "                                                                                               5,\n",
       "                                                                                               6,\n",
       "                                                                                               7,\n",
       "                                                                                               8,\n",
       "                                                                                               9,\n",
       "                                                                                               10,\n",
       "                                                                                               11,\n",
       "                                                                                               12,\n",
       "                                                                                               13,\n",
       "                                                                                               14,\n",
       "                                                                                               15,\n",
       "                                                                                               16,\n",
       "                                                                                               17,\n",
       "                                                                                               18,\n",
       "                                                                                               19,\n",
       "                                                                                               20,\n",
       "                                                                                               21,\n",
       "                                                                                               22,\n",
       "                                                                                               23,\n",
       "                                                                                               24,\n",
       "                                                                                               25,\n",
       "                                                                                               26,\n",
       "                                                                                               27,\n",
       "                                                                                               28,\n",
       "                                                                                               29))),\n",
       "                                                                         ('randomforestclassifier',\n",
       "                                                                          RandomForestClassifier(n_jobs=-1,\n",
       "                                                                                                 random_state=10))]),\n",
       "                                                         Pipeline(steps=[('columnselector',\n",
       "                                                                          ColumnSelector(cols=(0,\n",
       "                                                                                               1,\n",
       "                                                                                               2,\n",
       "                                                                                               3,\n",
       "                                                                                               5,\n",
       "                                                                                               6,\n",
       "                                                                                               7,\n",
       "                                                                                               8...\n",
       "                                                                                               22,\n",
       "                                                                                               23,\n",
       "                                                                                               24,\n",
       "                                                                                               25,\n",
       "                                                                                               26,\n",
       "                                                                                               27,\n",
       "                                                                                               28,\n",
       "                                                                                               29))),\n",
       "                                                                         ('mlpclassifier',\n",
       "                                                                          MLPClassifier(alpha=0.001,\n",
       "                                                                                        hidden_layer_sizes=(32,\n",
       "                                                                                                            32,\n",
       "                                                                                                            32),\n",
       "                                                                                        random_state=10))])],\n",
       "                                            meta_classifier=MLPClassifier(random_state=10,\n",
       "                                                                          verbose=True),\n",
       "                                            random_state=10, use_probas=True),\n",
       "             n_jobs=-1,\n",
       "             param_grid={'meta_classifier__hidden_layer_sizes': [(12, 12, 12),\n",
       "                                                                 (24, 32, 24),\n",
       "                                                                 (6, 6, 6),\n",
       "                                                                 (6, 12, 6),\n",
       "                                                                 (12, 6, 6),\n",
       "                                                                 (6, 12, 32, 12,\n",
       "                                                                  6)]},\n",
       "             verbose=3)"
      ]
     },
     "execution_count": 32,
     "metadata": {},
     "output_type": "execute_result"
    }
   ],
   "source": [
    "stacking_result = []\n",
    "stacking_names= []\n",
    "\n",
    "sel_classifier= [pipe_rf, pipe_ada, pipe_extra, pipe_lgbm, pipe_grad, pipe_xg,pipe_nn]\n",
    "\n",
    "nn = MLPClassifier(random_state=10,verbose = True)\n",
    "\n",
    "scl = StackingCVClassifier(classifiers= sel_classifier,\n",
    "                            meta_classifier = nn, # use meta-classifier\n",
    "                            use_probas = True,   # use_probas = True/False\n",
    "                            random_state = 10)\n",
    "\n",
    "params= {\n",
    "    'meta_classifier__hidden_layer_sizes': [(12,12,12), (24,32,24), (6,6,6),(6,12,6),(12,6,6),(6,12,32,12,6)],\n",
    "}\n",
    "\n",
    "grid = GridSearchCV(estimator=scl, \n",
    "                    param_grid=params, \n",
    "                    cv=10,\n",
    "                    refit=True,\n",
    "                    n_jobs=-1,\n",
    "                   verbose=3)\n",
    "\n",
    "grid.fit(x_train, y_train)\n"
   ]
  },
  {
   "cell_type": "code",
   "execution_count": 33,
   "id": "460dae81",
   "metadata": {},
   "outputs": [
    {
     "data": {
      "text/html": [
       "<div>\n",
       "<style scoped>\n",
       "    .dataframe tbody tr th:only-of-type {\n",
       "        vertical-align: middle;\n",
       "    }\n",
       "\n",
       "    .dataframe tbody tr th {\n",
       "        vertical-align: top;\n",
       "    }\n",
       "\n",
       "    .dataframe thead th {\n",
       "        text-align: right;\n",
       "    }\n",
       "</style>\n",
       "<table border=\"1\" class=\"dataframe\">\n",
       "  <thead>\n",
       "    <tr style=\"text-align: right;\">\n",
       "      <th></th>\n",
       "      <th>mean_fit_time</th>\n",
       "      <th>std_fit_time</th>\n",
       "      <th>mean_score_time</th>\n",
       "      <th>std_score_time</th>\n",
       "      <th>param_meta_classifier__hidden_layer_sizes</th>\n",
       "      <th>params</th>\n",
       "      <th>split0_test_score</th>\n",
       "      <th>split1_test_score</th>\n",
       "      <th>split2_test_score</th>\n",
       "      <th>split3_test_score</th>\n",
       "      <th>split4_test_score</th>\n",
       "      <th>split5_test_score</th>\n",
       "      <th>split6_test_score</th>\n",
       "      <th>split7_test_score</th>\n",
       "      <th>split8_test_score</th>\n",
       "      <th>split9_test_score</th>\n",
       "      <th>mean_test_score</th>\n",
       "      <th>std_test_score</th>\n",
       "      <th>rank_test_score</th>\n",
       "    </tr>\n",
       "  </thead>\n",
       "  <tbody>\n",
       "    <tr>\n",
       "      <th>3</th>\n",
       "      <td>107.026419</td>\n",
       "      <td>6.908299</td>\n",
       "      <td>0.098081</td>\n",
       "      <td>0.012451</td>\n",
       "      <td>(6, 12, 6)</td>\n",
       "      <td>{'meta_classifier__hidden_layer_sizes': (6, 12...</td>\n",
       "      <td>0.983725</td>\n",
       "      <td>0.986438</td>\n",
       "      <td>0.974684</td>\n",
       "      <td>0.985533</td>\n",
       "      <td>0.985533</td>\n",
       "      <td>0.974661</td>\n",
       "      <td>0.965611</td>\n",
       "      <td>0.955656</td>\n",
       "      <td>0.969231</td>\n",
       "      <td>0.967421</td>\n",
       "      <td>0.974849</td>\n",
       "      <td>0.009909</td>\n",
       "      <td>1</td>\n",
       "    </tr>\n",
       "    <tr>\n",
       "      <th>5</th>\n",
       "      <td>99.697847</td>\n",
       "      <td>7.558476</td>\n",
       "      <td>0.083771</td>\n",
       "      <td>0.035604</td>\n",
       "      <td>(6, 12, 32, 12, 6)</td>\n",
       "      <td>{'meta_classifier__hidden_layer_sizes': (6, 12...</td>\n",
       "      <td>0.985533</td>\n",
       "      <td>0.983725</td>\n",
       "      <td>0.973779</td>\n",
       "      <td>0.984629</td>\n",
       "      <td>0.981013</td>\n",
       "      <td>0.977376</td>\n",
       "      <td>0.969231</td>\n",
       "      <td>0.956561</td>\n",
       "      <td>0.967421</td>\n",
       "      <td>0.967421</td>\n",
       "      <td>0.974669</td>\n",
       "      <td>0.009001</td>\n",
       "      <td>2</td>\n",
       "    </tr>\n",
       "    <tr>\n",
       "      <th>1</th>\n",
       "      <td>87.689222</td>\n",
       "      <td>14.729146</td>\n",
       "      <td>0.426258</td>\n",
       "      <td>0.491014</td>\n",
       "      <td>(24, 32, 24)</td>\n",
       "      <td>{'meta_classifier__hidden_layer_sizes': (24, 3...</td>\n",
       "      <td>0.984629</td>\n",
       "      <td>0.984629</td>\n",
       "      <td>0.974684</td>\n",
       "      <td>0.984629</td>\n",
       "      <td>0.983725</td>\n",
       "      <td>0.974661</td>\n",
       "      <td>0.966516</td>\n",
       "      <td>0.955656</td>\n",
       "      <td>0.963801</td>\n",
       "      <td>0.968326</td>\n",
       "      <td>0.974126</td>\n",
       "      <td>0.009813</td>\n",
       "      <td>3</td>\n",
       "    </tr>\n",
       "    <tr>\n",
       "      <th>4</th>\n",
       "      <td>109.405517</td>\n",
       "      <td>8.224351</td>\n",
       "      <td>0.163908</td>\n",
       "      <td>0.144353</td>\n",
       "      <td>(12, 6, 6)</td>\n",
       "      <td>{'meta_classifier__hidden_layer_sizes': (12, 6...</td>\n",
       "      <td>0.984629</td>\n",
       "      <td>0.984629</td>\n",
       "      <td>0.974684</td>\n",
       "      <td>0.984629</td>\n",
       "      <td>0.978300</td>\n",
       "      <td>0.974661</td>\n",
       "      <td>0.965611</td>\n",
       "      <td>0.955656</td>\n",
       "      <td>0.966516</td>\n",
       "      <td>0.969231</td>\n",
       "      <td>0.973855</td>\n",
       "      <td>0.009186</td>\n",
       "      <td>4</td>\n",
       "    </tr>\n",
       "    <tr>\n",
       "      <th>2</th>\n",
       "      <td>100.906956</td>\n",
       "      <td>12.485489</td>\n",
       "      <td>0.168474</td>\n",
       "      <td>0.158951</td>\n",
       "      <td>(6, 6, 6)</td>\n",
       "      <td>{'meta_classifier__hidden_layer_sizes': (6, 6,...</td>\n",
       "      <td>0.984629</td>\n",
       "      <td>0.986438</td>\n",
       "      <td>0.972875</td>\n",
       "      <td>0.985533</td>\n",
       "      <td>0.980108</td>\n",
       "      <td>0.975566</td>\n",
       "      <td>0.969231</td>\n",
       "      <td>0.954751</td>\n",
       "      <td>0.962896</td>\n",
       "      <td>0.966516</td>\n",
       "      <td>0.973854</td>\n",
       "      <td>0.010070</td>\n",
       "      <td>5</td>\n",
       "    </tr>\n",
       "    <tr>\n",
       "      <th>0</th>\n",
       "      <td>80.692205</td>\n",
       "      <td>12.534129</td>\n",
       "      <td>0.678865</td>\n",
       "      <td>0.669525</td>\n",
       "      <td>(12, 12, 12)</td>\n",
       "      <td>{'meta_classifier__hidden_layer_sizes': (12, 1...</td>\n",
       "      <td>0.983725</td>\n",
       "      <td>0.985533</td>\n",
       "      <td>0.974684</td>\n",
       "      <td>0.983725</td>\n",
       "      <td>0.980108</td>\n",
       "      <td>0.973756</td>\n",
       "      <td>0.963801</td>\n",
       "      <td>0.952941</td>\n",
       "      <td>0.965611</td>\n",
       "      <td>0.967421</td>\n",
       "      <td>0.973131</td>\n",
       "      <td>0.010068</td>\n",
       "      <td>6</td>\n",
       "    </tr>\n",
       "  </tbody>\n",
       "</table>\n",
       "</div>"
      ],
      "text/plain": [
       "   mean_fit_time  std_fit_time  mean_score_time  std_score_time  \\\n",
       "3     107.026419      6.908299         0.098081        0.012451   \n",
       "5      99.697847      7.558476         0.083771        0.035604   \n",
       "1      87.689222     14.729146         0.426258        0.491014   \n",
       "4     109.405517      8.224351         0.163908        0.144353   \n",
       "2     100.906956     12.485489         0.168474        0.158951   \n",
       "0      80.692205     12.534129         0.678865        0.669525   \n",
       "\n",
       "  param_meta_classifier__hidden_layer_sizes  \\\n",
       "3                                (6, 12, 6)   \n",
       "5                        (6, 12, 32, 12, 6)   \n",
       "1                              (24, 32, 24)   \n",
       "4                                (12, 6, 6)   \n",
       "2                                 (6, 6, 6)   \n",
       "0                              (12, 12, 12)   \n",
       "\n",
       "                                              params  split0_test_score  \\\n",
       "3  {'meta_classifier__hidden_layer_sizes': (6, 12...           0.983725   \n",
       "5  {'meta_classifier__hidden_layer_sizes': (6, 12...           0.985533   \n",
       "1  {'meta_classifier__hidden_layer_sizes': (24, 3...           0.984629   \n",
       "4  {'meta_classifier__hidden_layer_sizes': (12, 6...           0.984629   \n",
       "2  {'meta_classifier__hidden_layer_sizes': (6, 6,...           0.984629   \n",
       "0  {'meta_classifier__hidden_layer_sizes': (12, 1...           0.983725   \n",
       "\n",
       "   split1_test_score  split2_test_score  split3_test_score  split4_test_score  \\\n",
       "3           0.986438           0.974684           0.985533           0.985533   \n",
       "5           0.983725           0.973779           0.984629           0.981013   \n",
       "1           0.984629           0.974684           0.984629           0.983725   \n",
       "4           0.984629           0.974684           0.984629           0.978300   \n",
       "2           0.986438           0.972875           0.985533           0.980108   \n",
       "0           0.985533           0.974684           0.983725           0.980108   \n",
       "\n",
       "   split5_test_score  split6_test_score  split7_test_score  split8_test_score  \\\n",
       "3           0.974661           0.965611           0.955656           0.969231   \n",
       "5           0.977376           0.969231           0.956561           0.967421   \n",
       "1           0.974661           0.966516           0.955656           0.963801   \n",
       "4           0.974661           0.965611           0.955656           0.966516   \n",
       "2           0.975566           0.969231           0.954751           0.962896   \n",
       "0           0.973756           0.963801           0.952941           0.965611   \n",
       "\n",
       "   split9_test_score  mean_test_score  std_test_score  rank_test_score  \n",
       "3           0.967421         0.974849        0.009909                1  \n",
       "5           0.967421         0.974669        0.009001                2  \n",
       "1           0.968326         0.974126        0.009813                3  \n",
       "4           0.969231         0.973855        0.009186                4  \n",
       "2           0.966516         0.973854        0.010070                5  \n",
       "0           0.967421         0.973131        0.010068                6  "
      ]
     },
     "execution_count": 33,
     "metadata": {},
     "output_type": "execute_result"
    }
   ],
   "source": [
    "df= pd.DataFrame(grid.cv_results_)\n",
    "df.sort_values(by='rank_test_score')"
   ]
  },
  {
   "cell_type": "markdown",
   "id": "54d39ca1",
   "metadata": {},
   "source": [
    "# Feature Selection - SFS "
   ]
  },
  {
   "cell_type": "code",
   "execution_count": 21,
   "id": "a3c953e7",
   "metadata": {},
   "outputs": [],
   "source": [
    "from sklearn.feature_selection import SequentialFeatureSelector as sfs"
   ]
  },
  {
   "cell_type": "code",
   "execution_count": 23,
   "id": "ed9b3066",
   "metadata": {},
   "outputs": [
    {
     "data": {
      "text/plain": [
       "(array([ 1,  2,  4,  5,  7,  8,  9, 11, 12, 13, 14, 17, 19, 22, 28],\n",
       "       dtype=int64),)"
      ]
     },
     "execution_count": 23,
     "metadata": {},
     "output_type": "execute_result"
    }
   ],
   "source": [
    "selector = sfs(knn, cv=5, n_jobs=-1)\n",
    "selector = selector.fit(x, y)\n",
    "knn_col= np.where(selector.support_==1)\n",
    "knn_col"
   ]
  },
  {
   "cell_type": "code",
   "execution_count": 24,
   "id": "07fa1921",
   "metadata": {},
   "outputs": [
    {
     "data": {
      "text/plain": [
       "(array([ 1,  4,  6,  7,  8,  9, 10, 13, 14, 16, 18, 19, 21, 22, 28],\n",
       "       dtype=int64),)"
      ]
     },
     "execution_count": 24,
     "metadata": {},
     "output_type": "execute_result"
    }
   ],
   "source": [
    "selector = sfs(nb, cv=5, n_jobs=-1)\n",
    "selector = selector.fit(x, y)\n",
    "nb_col= np.where(selector.support_==1)\n",
    "nb_col"
   ]
  },
  {
   "cell_type": "code",
   "execution_count": 14,
   "id": "6c01372f",
   "metadata": {},
   "outputs": [
    {
     "data": {
      "text/plain": [
       "array([ 0,  1,  4,  5,  6,  7, 12, 13, 14, 19, 23, 24, 25, 27, 28],\n",
       "      dtype=int64)"
      ]
     },
     "execution_count": 14,
     "metadata": {},
     "output_type": "execute_result"
    }
   ],
   "source": [
    "selector = sfs(rf, cv=5, n_jobs=-1)\n",
    "selector = selector.fit(x, y)\n",
    "rf_col,= np.where(selector.support_==1)\n",
    "rf_col"
   ]
  },
  {
   "cell_type": "code",
   "execution_count": 15,
   "id": "8e7032ad",
   "metadata": {},
   "outputs": [
    {
     "data": {
      "text/plain": [
       "array([ 0,  2,  4,  5,  6,  7,  8, 12, 13, 14, 15, 18, 25, 28, 29],\n",
       "      dtype=int64)"
      ]
     },
     "execution_count": 15,
     "metadata": {},
     "output_type": "execute_result"
    }
   ],
   "source": [
    "selector = sfs(ada, cv=5, n_jobs=-1)\n",
    "selector = selector.fit(x, y)\n",
    "ada_col,= np.where(selector.support_==1)\n",
    "ada_col"
   ]
  },
  {
   "cell_type": "code",
   "execution_count": 16,
   "id": "a3541741",
   "metadata": {},
   "outputs": [
    {
     "data": {
      "text/plain": [
       "array([ 1,  2,  3,  5,  7,  8, 12, 13, 14, 16, 17, 18, 19, 27, 28],\n",
       "      dtype=int64)"
      ]
     },
     "execution_count": 16,
     "metadata": {},
     "output_type": "execute_result"
    }
   ],
   "source": [
    "selector = sfs(extra, cv=5, n_jobs=-1)\n",
    "selector = selector.fit(x, y)\n",
    "extra_col,= np.where(selector.support_==1)\n",
    "extra_col"
   ]
  },
  {
   "cell_type": "code",
   "execution_count": 17,
   "id": "0ba74fba",
   "metadata": {},
   "outputs": [
    {
     "data": {
      "text/plain": [
       "array([ 0,  1,  2,  4,  5,  7,  8, 11, 12, 13, 14, 17, 19, 27, 28],\n",
       "      dtype=int64)"
      ]
     },
     "execution_count": 17,
     "metadata": {},
     "output_type": "execute_result"
    }
   ],
   "source": [
    "selector = sfs(lgbm, cv=5, n_jobs=-1)\n",
    "selector = selector.fit(x, y)\n",
    "lgbm_col,= np.where(selector.support_==1)\n",
    "lgbm_col"
   ]
  },
  {
   "cell_type": "code",
   "execution_count": 18,
   "id": "3f49d88e",
   "metadata": {},
   "outputs": [
    {
     "data": {
      "text/plain": [
       "array([ 1,  2,  5,  7,  8,  9, 12, 13, 14, 15, 17, 19, 23, 27, 28],\n",
       "      dtype=int64)"
      ]
     },
     "execution_count": 18,
     "metadata": {},
     "output_type": "execute_result"
    }
   ],
   "source": [
    "selector = sfs(grad, cv=5, n_jobs=-1)\n",
    "selector = selector.fit(x, y)\n",
    "grad_col,= np.where(selector.support_==1)\n",
    "grad_col"
   ]
  },
  {
   "cell_type": "code",
   "execution_count": 19,
   "id": "8ecc61e2",
   "metadata": {},
   "outputs": [
    {
     "data": {
      "text/plain": [
       "array([ 0,  1,  4,  5,  7,  8, 11, 12, 13, 14, 16, 19, 24, 27, 28],\n",
       "      dtype=int64)"
      ]
     },
     "execution_count": 19,
     "metadata": {},
     "output_type": "execute_result"
    }
   ],
   "source": [
    "selector = sfs(xg, cv=5, n_jobs=-1)\n",
    "selector = selector.fit(x, y)\n",
    "xg_col,= np.where(selector.support_==1)\n",
    "xg_col"
   ]
  },
  {
   "cell_type": "markdown",
   "id": "738c16a6",
   "metadata": {},
   "source": [
    "# sfs - prediction"
   ]
  },
  {
   "cell_type": "code",
   "execution_count": 21,
   "id": "7f67b04c",
   "metadata": {},
   "outputs": [],
   "source": [
    "from mlxtend.feature_selection import ColumnSelector\n",
    "from sklearn.pipeline import make_pipeline"
   ]
  },
  {
   "cell_type": "code",
   "execution_count": 22,
   "id": "e00ec094",
   "metadata": {},
   "outputs": [],
   "source": [
    "pipe_rf = make_pipeline(ColumnSelector(cols=(0,  1,  4,  5,  6,  7, 12, 13, 14, 19, 23, 24, 25, 27, 28)),rf)"
   ]
  },
  {
   "cell_type": "code",
   "execution_count": 23,
   "id": "2b683104",
   "metadata": {},
   "outputs": [],
   "source": [
    "pipe_ada = make_pipeline(ColumnSelector(cols=( 0,  2,  4,  5,  6,  7,  8, 12, 13, 14, 15, 18, 25, 28, 29)),ada)"
   ]
  },
  {
   "cell_type": "code",
   "execution_count": 24,
   "id": "f7ecd1ca",
   "metadata": {},
   "outputs": [],
   "source": [
    "pipe_extra = make_pipeline(ColumnSelector(cols=(1,  2,  3,  5,  7,  8, 12, 13, 14, 16, 17, 18, 19, 27, 28)),extra)"
   ]
  },
  {
   "cell_type": "code",
   "execution_count": 25,
   "id": "1352fc39",
   "metadata": {},
   "outputs": [],
   "source": [
    "pipe_lgbm = make_pipeline(ColumnSelector(cols=(0,  1,  2,  4,  5,  7,  8, 11, 12, 13, 14, 17, 19, 27, 28)),lgbm)"
   ]
  },
  {
   "cell_type": "code",
   "execution_count": 26,
   "id": "78f7e716",
   "metadata": {},
   "outputs": [],
   "source": [
    "pipe_grad = make_pipeline(ColumnSelector(cols=(1,  2,  5,  7,  8,  9, 12, 13, 14, 15, 17, 19, 23, 27, 28)),grad)"
   ]
  },
  {
   "cell_type": "code",
   "execution_count": 27,
   "id": "20ea9b05",
   "metadata": {},
   "outputs": [],
   "source": [
    "pipe_xg = make_pipeline(ColumnSelector(cols=( 0,  1,  4,  5,  7,  8, 11, 12, 13, 14, 16, 19, 24, 27, 28)),xg)"
   ]
  },
  {
   "cell_type": "code",
   "execution_count": 28,
   "id": "fae9f60b",
   "metadata": {},
   "outputs": [],
   "source": [
    "pipe_nn = make_pipeline(ColumnSelector(cols=(0,  1,  2,  3,  4,  5,  6,  7,  8,  9, 10, 11, 12, 13, 14, 15, 16,\n",
    "       17, 18, 19, 20, 21, 22, 23, 24, 25, 26, 27, 28, 29)),nn)"
   ]
  },
  {
   "cell_type": "code",
   "execution_count": 29,
   "id": "da4a3c44",
   "metadata": {},
   "outputs": [
    {
     "name": "stdout",
     "output_type": "stream",
     "text": [
      "Iteration 1, loss = 0.57486861\n",
      "Iteration 2, loss = 0.31610899\n",
      "Iteration 3, loss = 0.13503531\n",
      "Iteration 4, loss = 0.10429044\n",
      "Iteration 5, loss = 0.09842933\n",
      "Iteration 6, loss = 0.09413879\n",
      "Iteration 7, loss = 0.09237259\n",
      "Iteration 8, loss = 0.09120540\n",
      "Iteration 9, loss = 0.09024314\n",
      "Iteration 10, loss = 0.08993906\n",
      "Iteration 11, loss = 0.08929203\n",
      "Iteration 12, loss = 0.08831729\n",
      "Iteration 13, loss = 0.08847302\n",
      "Iteration 14, loss = 0.08782587\n",
      "Iteration 15, loss = 0.08738810\n",
      "Iteration 16, loss = 0.08727309\n",
      "Iteration 17, loss = 0.08659673\n",
      "Iteration 18, loss = 0.08660723\n",
      "Iteration 19, loss = 0.08599151\n",
      "Iteration 20, loss = 0.08688757\n",
      "Iteration 21, loss = 0.08816975\n",
      "Iteration 22, loss = 0.08647799\n",
      "Iteration 23, loss = 0.08556798\n",
      "Iteration 24, loss = 0.08570539\n",
      "Iteration 25, loss = 0.08584986\n",
      "Iteration 26, loss = 0.08479848\n",
      "Iteration 27, loss = 0.08484325\n",
      "Iteration 28, loss = 0.08460789\n",
      "Iteration 29, loss = 0.08499865\n",
      "Iteration 30, loss = 0.08530136\n",
      "Iteration 31, loss = 0.08494998\n",
      "Iteration 32, loss = 0.08408387\n",
      "Iteration 33, loss = 0.08450186\n",
      "Iteration 34, loss = 0.08449900\n",
      "Iteration 35, loss = 0.08436468\n",
      "Iteration 36, loss = 0.08419496\n",
      "Iteration 37, loss = 0.08493110\n",
      "Iteration 38, loss = 0.08386441\n",
      "Iteration 39, loss = 0.08346504\n",
      "Iteration 40, loss = 0.08341317\n",
      "Iteration 41, loss = 0.08337511\n",
      "Iteration 42, loss = 0.08481569\n",
      "Iteration 43, loss = 0.08327773\n",
      "Iteration 44, loss = 0.08289235\n",
      "Iteration 45, loss = 0.08343970\n",
      "Iteration 46, loss = 0.08317194\n",
      "Iteration 47, loss = 0.08317969\n",
      "Iteration 48, loss = 0.08337121\n",
      "Iteration 49, loss = 0.08225100\n",
      "Iteration 50, loss = 0.08313364\n",
      "Iteration 51, loss = 0.08247473\n",
      "Iteration 52, loss = 0.08234825\n",
      "Iteration 53, loss = 0.08187871\n",
      "Iteration 54, loss = 0.08257302\n",
      "Iteration 55, loss = 0.08193390\n",
      "Iteration 56, loss = 0.08225355\n",
      "Iteration 57, loss = 0.08225339\n",
      "Iteration 58, loss = 0.08204080\n",
      "Iteration 59, loss = 0.08230796\n",
      "Iteration 60, loss = 0.08152658\n",
      "Iteration 61, loss = 0.08210196\n",
      "Iteration 62, loss = 0.08166499\n",
      "Iteration 63, loss = 0.08111823\n",
      "Iteration 64, loss = 0.08146460\n",
      "Iteration 65, loss = 0.08129578\n",
      "Iteration 66, loss = 0.08090905\n",
      "Iteration 67, loss = 0.08116445\n",
      "Iteration 68, loss = 0.08190410\n",
      "Iteration 69, loss = 0.08099664\n",
      "Iteration 70, loss = 0.08128227\n",
      "Iteration 71, loss = 0.08108696\n",
      "Iteration 72, loss = 0.08119442\n",
      "Iteration 73, loss = 0.08159350\n",
      "Iteration 74, loss = 0.08070178\n",
      "Iteration 75, loss = 0.08069126\n",
      "Iteration 76, loss = 0.08093704\n",
      "Iteration 77, loss = 0.08099011\n",
      "Iteration 78, loss = 0.08106955\n",
      "Iteration 79, loss = 0.08126863\n",
      "Iteration 80, loss = 0.08130212\n",
      "Iteration 81, loss = 0.08032654\n",
      "Iteration 82, loss = 0.08012293\n",
      "Iteration 83, loss = 0.08036054\n",
      "Iteration 84, loss = 0.08031477\n",
      "Iteration 85, loss = 0.08000104\n",
      "Iteration 86, loss = 0.08076850\n",
      "Iteration 87, loss = 0.08030443\n",
      "Iteration 88, loss = 0.08006619\n",
      "Iteration 89, loss = 0.08002994\n",
      "Iteration 90, loss = 0.08116768\n",
      "Iteration 91, loss = 0.08038724\n",
      "Iteration 92, loss = 0.07990141\n",
      "Iteration 93, loss = 0.08038903\n",
      "Iteration 94, loss = 0.08020695\n",
      "Iteration 95, loss = 0.07962901\n",
      "Iteration 96, loss = 0.07986222\n",
      "Iteration 97, loss = 0.08003797\n",
      "Iteration 98, loss = 0.08064927\n",
      "Iteration 99, loss = 0.08032648\n",
      "Iteration 100, loss = 0.07978772\n",
      "Iteration 101, loss = 0.07992584\n",
      "Iteration 102, loss = 0.08066509\n",
      "Iteration 103, loss = 0.07925580\n",
      "Iteration 104, loss = 0.08032627\n",
      "Iteration 105, loss = 0.07982650\n",
      "Iteration 106, loss = 0.07941550\n",
      "Iteration 107, loss = 0.08014668\n",
      "Iteration 108, loss = 0.08034005\n",
      "Iteration 109, loss = 0.07945996\n",
      "Iteration 110, loss = 0.07943169\n",
      "Iteration 111, loss = 0.07921493\n",
      "Iteration 112, loss = 0.08058391\n",
      "Iteration 113, loss = 0.07973981\n",
      "Iteration 114, loss = 0.07969453\n",
      "Training loss did not improve more than tol=0.000100 for 10 consecutive epochs. Stopping.\n"
     ]
    },
    {
     "data": {
      "text/plain": [
       "GridSearchCV(cv=10,\n",
       "             estimator=StackingCVClassifier(classifiers=[Pipeline(steps=[('columnselector',\n",
       "                                                                          ColumnSelector(cols=(0,\n",
       "                                                                                               1,\n",
       "                                                                                               4,\n",
       "                                                                                               5,\n",
       "                                                                                               6,\n",
       "                                                                                               7,\n",
       "                                                                                               12,\n",
       "                                                                                               13,\n",
       "                                                                                               14,\n",
       "                                                                                               19,\n",
       "                                                                                               23,\n",
       "                                                                                               24,\n",
       "                                                                                               25,\n",
       "                                                                                               27,\n",
       "                                                                                               28))),\n",
       "                                                                         ('randomforestclassifier',\n",
       "                                                                          RandomForestClassifier(n_jobs=-1,\n",
       "                                                                                                 random_state=10))]),\n",
       "                                                         Pipeline(steps=[('columnselector',\n",
       "                                                                          ColumnSelector(cols=(0,\n",
       "                                                                                               2,\n",
       "                                                                                               4,\n",
       "                                                                                               5,\n",
       "                                                                                               6,\n",
       "                                                                                               7,\n",
       "                                                                                               8,\n",
       "                                                                                               12,\n",
       "                                                                                               13,\n",
       "                                                                                               14,\n",
       "                                                                                               15,\n",
       "                                                                                               18,\n",
       "                                                                                               25,\n",
       "                                                                                               28,\n",
       "                                                                                               29))),\n",
       "                                                                         ('adaboostclass...\n",
       "                                                                                               6,\n",
       "                                                                                               7,\n",
       "                                                                                               8,\n",
       "                                                                                               9,\n",
       "                                                                                               10,\n",
       "                                                                                               11,\n",
       "                                                                                               12,\n",
       "                                                                                               13,\n",
       "                                                                                               14,\n",
       "                                                                                               15,\n",
       "                                                                                               16,\n",
       "                                                                                               17,\n",
       "                                                                                               18,\n",
       "                                                                                               19,\n",
       "                                                                                               20,\n",
       "                                                                                               21,\n",
       "                                                                                               22,\n",
       "                                                                                               23,\n",
       "                                                                                               24,\n",
       "                                                                                               25,\n",
       "                                                                                               26,\n",
       "                                                                                               27,\n",
       "                                                                                               28,\n",
       "                                                                                               29))),\n",
       "                                                                         ('mlpclassifier',\n",
       "                                                                          MLPClassifier(alpha=0.001,\n",
       "                                                                                        hidden_layer_sizes=(32,\n",
       "                                                                                                            32,\n",
       "                                                                                                            32),\n",
       "                                                                                        random_state=10))])],\n",
       "                                            meta_classifier=MLPClassifier(random_state=10,\n",
       "                                                                          verbose=True),\n",
       "                                            random_state=10, use_probas=True),\n",
       "             n_jobs=-1,\n",
       "             param_grid={'meta_classifier__hidden_layer_sizes': [(6, 12, 32, 12,\n",
       "                                                                  6),\n",
       "                                                                 (6, 12, 24, 12,\n",
       "                                                                  6)]})"
      ]
     },
     "execution_count": 29,
     "metadata": {},
     "output_type": "execute_result"
    }
   ],
   "source": [
    "stacking_result = []\n",
    "stacking_names= []\n",
    "\n",
    "sel_classifier= [pipe_rf, pipe_ada, pipe_extra, pipe_lgbm, pipe_grad, pipe_xg,pipe_nn]\n",
    "\n",
    "nn = MLPClassifier(random_state=10,verbose = True)\n",
    "\n",
    "scl = StackingCVClassifier(classifiers= sel_classifier,\n",
    "                            meta_classifier = nn, # use meta-classifier\n",
    "                            use_probas = True,   # use_probas = True/False\n",
    "                            random_state = 10)\n",
    "\n",
    "params= {\n",
    "    'meta_classifier__hidden_layer_sizes': [(6,12,32,12,6),(6,12,24,12,6)],\n",
    "}\n",
    "\n",
    "grid = GridSearchCV(estimator=scl, \n",
    "                    param_grid=params, \n",
    "                    cv=10,\n",
    "                    refit=True,\n",
    "                    n_jobs=-1,\n",
    "                   )\n",
    "\n",
    "grid.fit(x_train, y_train)\n"
   ]
  },
  {
   "cell_type": "code",
   "execution_count": 30,
   "id": "551a8c9a",
   "metadata": {},
   "outputs": [
    {
     "data": {
      "text/html": [
       "<div>\n",
       "<style scoped>\n",
       "    .dataframe tbody tr th:only-of-type {\n",
       "        vertical-align: middle;\n",
       "    }\n",
       "\n",
       "    .dataframe tbody tr th {\n",
       "        vertical-align: top;\n",
       "    }\n",
       "\n",
       "    .dataframe thead th {\n",
       "        text-align: right;\n",
       "    }\n",
       "</style>\n",
       "<table border=\"1\" class=\"dataframe\">\n",
       "  <thead>\n",
       "    <tr style=\"text-align: right;\">\n",
       "      <th></th>\n",
       "      <th>mean_fit_time</th>\n",
       "      <th>std_fit_time</th>\n",
       "      <th>mean_score_time</th>\n",
       "      <th>std_score_time</th>\n",
       "      <th>param_meta_classifier__hidden_layer_sizes</th>\n",
       "      <th>params</th>\n",
       "      <th>split0_test_score</th>\n",
       "      <th>split1_test_score</th>\n",
       "      <th>split2_test_score</th>\n",
       "      <th>split3_test_score</th>\n",
       "      <th>split4_test_score</th>\n",
       "      <th>split5_test_score</th>\n",
       "      <th>split6_test_score</th>\n",
       "      <th>split7_test_score</th>\n",
       "      <th>split8_test_score</th>\n",
       "      <th>split9_test_score</th>\n",
       "      <th>mean_test_score</th>\n",
       "      <th>std_test_score</th>\n",
       "      <th>rank_test_score</th>\n",
       "    </tr>\n",
       "  </thead>\n",
       "  <tbody>\n",
       "    <tr>\n",
       "      <th>0</th>\n",
       "      <td>86.674466</td>\n",
       "      <td>11.567040</td>\n",
       "      <td>0.264206</td>\n",
       "      <td>0.237503</td>\n",
       "      <td>(6, 12, 32, 12, 6)</td>\n",
       "      <td>{'meta_classifier__hidden_layer_sizes': (6, 12...</td>\n",
       "      <td>0.978300</td>\n",
       "      <td>0.984629</td>\n",
       "      <td>0.971971</td>\n",
       "      <td>0.983725</td>\n",
       "      <td>0.980108</td>\n",
       "      <td>0.969231</td>\n",
       "      <td>0.964706</td>\n",
       "      <td>0.959276</td>\n",
       "      <td>0.971041</td>\n",
       "      <td>0.967421</td>\n",
       "      <td>0.973041</td>\n",
       "      <td>0.007977</td>\n",
       "      <td>1</td>\n",
       "    </tr>\n",
       "    <tr>\n",
       "      <th>1</th>\n",
       "      <td>65.674237</td>\n",
       "      <td>21.077635</td>\n",
       "      <td>0.367330</td>\n",
       "      <td>0.465083</td>\n",
       "      <td>(6, 12, 24, 12, 6)</td>\n",
       "      <td>{'meta_classifier__hidden_layer_sizes': (6, 12...</td>\n",
       "      <td>0.979204</td>\n",
       "      <td>0.983725</td>\n",
       "      <td>0.967450</td>\n",
       "      <td>0.983725</td>\n",
       "      <td>0.978300</td>\n",
       "      <td>0.968326</td>\n",
       "      <td>0.963801</td>\n",
       "      <td>0.956561</td>\n",
       "      <td>0.971946</td>\n",
       "      <td>0.968326</td>\n",
       "      <td>0.972136</td>\n",
       "      <td>0.008483</td>\n",
       "      <td>2</td>\n",
       "    </tr>\n",
       "  </tbody>\n",
       "</table>\n",
       "</div>"
      ],
      "text/plain": [
       "   mean_fit_time  std_fit_time  mean_score_time  std_score_time  \\\n",
       "0      86.674466     11.567040         0.264206        0.237503   \n",
       "1      65.674237     21.077635         0.367330        0.465083   \n",
       "\n",
       "  param_meta_classifier__hidden_layer_sizes  \\\n",
       "0                        (6, 12, 32, 12, 6)   \n",
       "1                        (6, 12, 24, 12, 6)   \n",
       "\n",
       "                                              params  split0_test_score  \\\n",
       "0  {'meta_classifier__hidden_layer_sizes': (6, 12...           0.978300   \n",
       "1  {'meta_classifier__hidden_layer_sizes': (6, 12...           0.979204   \n",
       "\n",
       "   split1_test_score  split2_test_score  split3_test_score  split4_test_score  \\\n",
       "0           0.984629           0.971971           0.983725           0.980108   \n",
       "1           0.983725           0.967450           0.983725           0.978300   \n",
       "\n",
       "   split5_test_score  split6_test_score  split7_test_score  split8_test_score  \\\n",
       "0           0.969231           0.964706           0.959276           0.971041   \n",
       "1           0.968326           0.963801           0.956561           0.971946   \n",
       "\n",
       "   split9_test_score  mean_test_score  std_test_score  rank_test_score  \n",
       "0           0.967421         0.973041        0.007977                1  \n",
       "1           0.968326         0.972136        0.008483                2  "
      ]
     },
     "execution_count": 30,
     "metadata": {},
     "output_type": "execute_result"
    }
   ],
   "source": [
    "df= pd.DataFrame(grid.cv_results_)\n",
    "df.sort_values(by='rank_test_score')"
   ]
  },
  {
   "cell_type": "code",
   "execution_count": null,
   "id": "d5c84b7d",
   "metadata": {},
   "outputs": [],
   "source": []
  }
 ],
 "metadata": {
  "kernelspec": {
   "display_name": "Python 3 (ipykernel)",
   "language": "python",
   "name": "python3"
  },
  "language_info": {
   "codemirror_mode": {
    "name": "ipython",
    "version": 3
   },
   "file_extension": ".py",
   "mimetype": "text/x-python",
   "name": "python",
   "nbconvert_exporter": "python",
   "pygments_lexer": "ipython3",
   "version": "3.9.7"
  }
 },
 "nbformat": 4,
 "nbformat_minor": 5
}
