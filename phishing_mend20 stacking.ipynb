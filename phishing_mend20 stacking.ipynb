{
 "cells": [
  {
   "cell_type": "code",
   "execution_count": 1,
   "id": "12bc074a",
   "metadata": {},
   "outputs": [],
   "source": [
    "import pandas as pd\n",
    "import numpy as np\n",
    "import itertools\n",
    "\n",
    "from sklearn.preprocessing import *\n",
    "from sklearn.model_selection import *\n",
    "from sklearn.metrics import *\n",
    "from imblearn.metrics import *\n",
    "\n",
    "from sklearn.linear_model import LogisticRegression\n",
    "from sklearn.neighbors import KNeighborsClassifier\n",
    "from sklearn.svm import SVC\n",
    "from sklearn.naive_bayes import GaussianNB\n",
    "from sklearn.discriminant_analysis import LinearDiscriminantAnalysis\n",
    "\n",
    "from sklearn.tree import DecisionTreeClassifier\n",
    "from sklearn.ensemble import RandomForestClassifier\n",
    "from sklearn.ensemble import ExtraTreesClassifier\n",
    "from sklearn.ensemble import AdaBoostClassifier\n",
    "from sklearn.ensemble import GradientBoostingClassifier\n",
    "\n",
    "from sklearn.ensemble import StackingClassifier\n",
    "from mlxtend.classifier import StackingCVClassifier\n",
    "\n",
    "from sklearn.neural_network import MLPClassifier\n",
    "\n",
    "\n",
    "from xgboost import XGBClassifier\n",
    "from lightgbm import LGBMClassifier\n",
    "\n",
    "import matplotlib.pyplot as plt"
   ]
  },
  {
   "cell_type": "code",
   "execution_count": 2,
   "id": "289a913f",
   "metadata": {},
   "outputs": [
    {
     "data": {
      "text/html": [
       "<div>\n",
       "<style scoped>\n",
       "    .dataframe tbody tr th:only-of-type {\n",
       "        vertical-align: middle;\n",
       "    }\n",
       "\n",
       "    .dataframe tbody tr th {\n",
       "        vertical-align: top;\n",
       "    }\n",
       "\n",
       "    .dataframe thead th {\n",
       "        text-align: right;\n",
       "    }\n",
       "</style>\n",
       "<table border=\"1\" class=\"dataframe\">\n",
       "  <thead>\n",
       "    <tr style=\"text-align: right;\">\n",
       "      <th></th>\n",
       "      <th>qty_dot_url</th>\n",
       "      <th>qty_hyphen_url</th>\n",
       "      <th>qty_underline_url</th>\n",
       "      <th>qty_slash_url</th>\n",
       "      <th>qty_questionmark_url</th>\n",
       "      <th>qty_equal_url</th>\n",
       "      <th>qty_at_url</th>\n",
       "      <th>qty_and_url</th>\n",
       "      <th>qty_exclamation_url</th>\n",
       "      <th>qty_space_url</th>\n",
       "      <th>...</th>\n",
       "      <th>qty_ip_resolved</th>\n",
       "      <th>qty_nameservers</th>\n",
       "      <th>qty_mx_servers</th>\n",
       "      <th>ttl_hostname</th>\n",
       "      <th>tls_ssl_certificate</th>\n",
       "      <th>qty_redirects</th>\n",
       "      <th>url_google_index</th>\n",
       "      <th>domain_google_index</th>\n",
       "      <th>url_shortened</th>\n",
       "      <th>phishing</th>\n",
       "    </tr>\n",
       "  </thead>\n",
       "  <tbody>\n",
       "    <tr>\n",
       "      <th>0</th>\n",
       "      <td>3</td>\n",
       "      <td>0</td>\n",
       "      <td>0</td>\n",
       "      <td>1</td>\n",
       "      <td>0</td>\n",
       "      <td>0</td>\n",
       "      <td>0</td>\n",
       "      <td>0</td>\n",
       "      <td>0</td>\n",
       "      <td>0</td>\n",
       "      <td>...</td>\n",
       "      <td>1</td>\n",
       "      <td>2</td>\n",
       "      <td>0</td>\n",
       "      <td>892</td>\n",
       "      <td>0</td>\n",
       "      <td>0</td>\n",
       "      <td>0</td>\n",
       "      <td>0</td>\n",
       "      <td>0</td>\n",
       "      <td>1</td>\n",
       "    </tr>\n",
       "    <tr>\n",
       "      <th>1</th>\n",
       "      <td>5</td>\n",
       "      <td>0</td>\n",
       "      <td>1</td>\n",
       "      <td>3</td>\n",
       "      <td>0</td>\n",
       "      <td>3</td>\n",
       "      <td>0</td>\n",
       "      <td>2</td>\n",
       "      <td>0</td>\n",
       "      <td>0</td>\n",
       "      <td>...</td>\n",
       "      <td>1</td>\n",
       "      <td>2</td>\n",
       "      <td>1</td>\n",
       "      <td>9540</td>\n",
       "      <td>1</td>\n",
       "      <td>0</td>\n",
       "      <td>0</td>\n",
       "      <td>0</td>\n",
       "      <td>0</td>\n",
       "      <td>1</td>\n",
       "    </tr>\n",
       "    <tr>\n",
       "      <th>2</th>\n",
       "      <td>2</td>\n",
       "      <td>0</td>\n",
       "      <td>0</td>\n",
       "      <td>1</td>\n",
       "      <td>0</td>\n",
       "      <td>0</td>\n",
       "      <td>0</td>\n",
       "      <td>0</td>\n",
       "      <td>0</td>\n",
       "      <td>0</td>\n",
       "      <td>...</td>\n",
       "      <td>1</td>\n",
       "      <td>2</td>\n",
       "      <td>3</td>\n",
       "      <td>589</td>\n",
       "      <td>1</td>\n",
       "      <td>0</td>\n",
       "      <td>0</td>\n",
       "      <td>0</td>\n",
       "      <td>0</td>\n",
       "      <td>0</td>\n",
       "    </tr>\n",
       "    <tr>\n",
       "      <th>3</th>\n",
       "      <td>4</td>\n",
       "      <td>0</td>\n",
       "      <td>2</td>\n",
       "      <td>5</td>\n",
       "      <td>0</td>\n",
       "      <td>0</td>\n",
       "      <td>0</td>\n",
       "      <td>0</td>\n",
       "      <td>0</td>\n",
       "      <td>0</td>\n",
       "      <td>...</td>\n",
       "      <td>1</td>\n",
       "      <td>2</td>\n",
       "      <td>0</td>\n",
       "      <td>292</td>\n",
       "      <td>1</td>\n",
       "      <td>0</td>\n",
       "      <td>0</td>\n",
       "      <td>0</td>\n",
       "      <td>0</td>\n",
       "      <td>1</td>\n",
       "    </tr>\n",
       "    <tr>\n",
       "      <th>4</th>\n",
       "      <td>2</td>\n",
       "      <td>0</td>\n",
       "      <td>0</td>\n",
       "      <td>0</td>\n",
       "      <td>0</td>\n",
       "      <td>0</td>\n",
       "      <td>0</td>\n",
       "      <td>0</td>\n",
       "      <td>0</td>\n",
       "      <td>0</td>\n",
       "      <td>...</td>\n",
       "      <td>1</td>\n",
       "      <td>2</td>\n",
       "      <td>1</td>\n",
       "      <td>3597</td>\n",
       "      <td>0</td>\n",
       "      <td>1</td>\n",
       "      <td>0</td>\n",
       "      <td>0</td>\n",
       "      <td>0</td>\n",
       "      <td>0</td>\n",
       "    </tr>\n",
       "    <tr>\n",
       "      <th>...</th>\n",
       "      <td>...</td>\n",
       "      <td>...</td>\n",
       "      <td>...</td>\n",
       "      <td>...</td>\n",
       "      <td>...</td>\n",
       "      <td>...</td>\n",
       "      <td>...</td>\n",
       "      <td>...</td>\n",
       "      <td>...</td>\n",
       "      <td>...</td>\n",
       "      <td>...</td>\n",
       "      <td>...</td>\n",
       "      <td>...</td>\n",
       "      <td>...</td>\n",
       "      <td>...</td>\n",
       "      <td>...</td>\n",
       "      <td>...</td>\n",
       "      <td>...</td>\n",
       "      <td>...</td>\n",
       "      <td>...</td>\n",
       "      <td>...</td>\n",
       "    </tr>\n",
       "    <tr>\n",
       "      <th>88642</th>\n",
       "      <td>3</td>\n",
       "      <td>1</td>\n",
       "      <td>0</td>\n",
       "      <td>0</td>\n",
       "      <td>0</td>\n",
       "      <td>0</td>\n",
       "      <td>0</td>\n",
       "      <td>0</td>\n",
       "      <td>0</td>\n",
       "      <td>0</td>\n",
       "      <td>...</td>\n",
       "      <td>1</td>\n",
       "      <td>3</td>\n",
       "      <td>1</td>\n",
       "      <td>3597</td>\n",
       "      <td>0</td>\n",
       "      <td>0</td>\n",
       "      <td>0</td>\n",
       "      <td>0</td>\n",
       "      <td>0</td>\n",
       "      <td>0</td>\n",
       "    </tr>\n",
       "    <tr>\n",
       "      <th>88643</th>\n",
       "      <td>2</td>\n",
       "      <td>0</td>\n",
       "      <td>0</td>\n",
       "      <td>0</td>\n",
       "      <td>0</td>\n",
       "      <td>0</td>\n",
       "      <td>0</td>\n",
       "      <td>0</td>\n",
       "      <td>0</td>\n",
       "      <td>0</td>\n",
       "      <td>...</td>\n",
       "      <td>1</td>\n",
       "      <td>2</td>\n",
       "      <td>2</td>\n",
       "      <td>591</td>\n",
       "      <td>0</td>\n",
       "      <td>2</td>\n",
       "      <td>0</td>\n",
       "      <td>0</td>\n",
       "      <td>0</td>\n",
       "      <td>0</td>\n",
       "    </tr>\n",
       "    <tr>\n",
       "      <th>88644</th>\n",
       "      <td>2</td>\n",
       "      <td>1</td>\n",
       "      <td>0</td>\n",
       "      <td>5</td>\n",
       "      <td>0</td>\n",
       "      <td>0</td>\n",
       "      <td>0</td>\n",
       "      <td>0</td>\n",
       "      <td>0</td>\n",
       "      <td>0</td>\n",
       "      <td>...</td>\n",
       "      <td>1</td>\n",
       "      <td>2</td>\n",
       "      <td>5</td>\n",
       "      <td>14391</td>\n",
       "      <td>1</td>\n",
       "      <td>0</td>\n",
       "      <td>0</td>\n",
       "      <td>0</td>\n",
       "      <td>0</td>\n",
       "      <td>1</td>\n",
       "    </tr>\n",
       "    <tr>\n",
       "      <th>88645</th>\n",
       "      <td>2</td>\n",
       "      <td>0</td>\n",
       "      <td>0</td>\n",
       "      <td>1</td>\n",
       "      <td>0</td>\n",
       "      <td>0</td>\n",
       "      <td>0</td>\n",
       "      <td>0</td>\n",
       "      <td>0</td>\n",
       "      <td>0</td>\n",
       "      <td>...</td>\n",
       "      <td>1</td>\n",
       "      <td>1</td>\n",
       "      <td>1</td>\n",
       "      <td>52</td>\n",
       "      <td>1</td>\n",
       "      <td>0</td>\n",
       "      <td>0</td>\n",
       "      <td>0</td>\n",
       "      <td>0</td>\n",
       "      <td>1</td>\n",
       "    </tr>\n",
       "    <tr>\n",
       "      <th>88646</th>\n",
       "      <td>2</td>\n",
       "      <td>0</td>\n",
       "      <td>0</td>\n",
       "      <td>0</td>\n",
       "      <td>0</td>\n",
       "      <td>0</td>\n",
       "      <td>0</td>\n",
       "      <td>0</td>\n",
       "      <td>0</td>\n",
       "      <td>0</td>\n",
       "      <td>...</td>\n",
       "      <td>1</td>\n",
       "      <td>4</td>\n",
       "      <td>0</td>\n",
       "      <td>299</td>\n",
       "      <td>0</td>\n",
       "      <td>0</td>\n",
       "      <td>0</td>\n",
       "      <td>0</td>\n",
       "      <td>0</td>\n",
       "      <td>0</td>\n",
       "    </tr>\n",
       "  </tbody>\n",
       "</table>\n",
       "<p>88647 rows × 112 columns</p>\n",
       "</div>"
      ],
      "text/plain": [
       "       qty_dot_url  qty_hyphen_url  qty_underline_url  qty_slash_url  \\\n",
       "0                3               0                  0              1   \n",
       "1                5               0                  1              3   \n",
       "2                2               0                  0              1   \n",
       "3                4               0                  2              5   \n",
       "4                2               0                  0              0   \n",
       "...            ...             ...                ...            ...   \n",
       "88642            3               1                  0              0   \n",
       "88643            2               0                  0              0   \n",
       "88644            2               1                  0              5   \n",
       "88645            2               0                  0              1   \n",
       "88646            2               0                  0              0   \n",
       "\n",
       "       qty_questionmark_url  qty_equal_url  qty_at_url  qty_and_url  \\\n",
       "0                         0              0           0            0   \n",
       "1                         0              3           0            2   \n",
       "2                         0              0           0            0   \n",
       "3                         0              0           0            0   \n",
       "4                         0              0           0            0   \n",
       "...                     ...            ...         ...          ...   \n",
       "88642                     0              0           0            0   \n",
       "88643                     0              0           0            0   \n",
       "88644                     0              0           0            0   \n",
       "88645                     0              0           0            0   \n",
       "88646                     0              0           0            0   \n",
       "\n",
       "       qty_exclamation_url  qty_space_url  ...  qty_ip_resolved  \\\n",
       "0                        0              0  ...                1   \n",
       "1                        0              0  ...                1   \n",
       "2                        0              0  ...                1   \n",
       "3                        0              0  ...                1   \n",
       "4                        0              0  ...                1   \n",
       "...                    ...            ...  ...              ...   \n",
       "88642                    0              0  ...                1   \n",
       "88643                    0              0  ...                1   \n",
       "88644                    0              0  ...                1   \n",
       "88645                    0              0  ...                1   \n",
       "88646                    0              0  ...                1   \n",
       "\n",
       "       qty_nameservers  qty_mx_servers  ttl_hostname  tls_ssl_certificate  \\\n",
       "0                    2               0           892                    0   \n",
       "1                    2               1          9540                    1   \n",
       "2                    2               3           589                    1   \n",
       "3                    2               0           292                    1   \n",
       "4                    2               1          3597                    0   \n",
       "...                ...             ...           ...                  ...   \n",
       "88642                3               1          3597                    0   \n",
       "88643                2               2           591                    0   \n",
       "88644                2               5         14391                    1   \n",
       "88645                1               1            52                    1   \n",
       "88646                4               0           299                    0   \n",
       "\n",
       "       qty_redirects  url_google_index  domain_google_index  url_shortened  \\\n",
       "0                  0                 0                    0              0   \n",
       "1                  0                 0                    0              0   \n",
       "2                  0                 0                    0              0   \n",
       "3                  0                 0                    0              0   \n",
       "4                  1                 0                    0              0   \n",
       "...              ...               ...                  ...            ...   \n",
       "88642              0                 0                    0              0   \n",
       "88643              2                 0                    0              0   \n",
       "88644              0                 0                    0              0   \n",
       "88645              0                 0                    0              0   \n",
       "88646              0                 0                    0              0   \n",
       "\n",
       "       phishing  \n",
       "0             1  \n",
       "1             1  \n",
       "2             0  \n",
       "3             1  \n",
       "4             0  \n",
       "...         ...  \n",
       "88642         0  \n",
       "88643         0  \n",
       "88644         1  \n",
       "88645         1  \n",
       "88646         0  \n",
       "\n",
       "[88647 rows x 112 columns]"
      ]
     },
     "execution_count": 2,
     "metadata": {},
     "output_type": "execute_result"
    }
   ],
   "source": [
    "data= pd.read_csv('mendeley_20.csv')\n",
    "data"
   ]
  },
  {
   "cell_type": "code",
   "execution_count": 3,
   "id": "ba797083",
   "metadata": {},
   "outputs": [
    {
     "data": {
      "text/html": [
       "<div>\n",
       "<style scoped>\n",
       "    .dataframe tbody tr th:only-of-type {\n",
       "        vertical-align: middle;\n",
       "    }\n",
       "\n",
       "    .dataframe tbody tr th {\n",
       "        vertical-align: top;\n",
       "    }\n",
       "\n",
       "    .dataframe thead th {\n",
       "        text-align: right;\n",
       "    }\n",
       "</style>\n",
       "<table border=\"1\" class=\"dataframe\">\n",
       "  <thead>\n",
       "    <tr style=\"text-align: right;\">\n",
       "      <th></th>\n",
       "      <th>qty_dot_url</th>\n",
       "      <th>qty_hyphen_url</th>\n",
       "      <th>qty_underline_url</th>\n",
       "      <th>qty_slash_url</th>\n",
       "      <th>qty_questionmark_url</th>\n",
       "      <th>qty_equal_url</th>\n",
       "      <th>qty_at_url</th>\n",
       "      <th>qty_and_url</th>\n",
       "      <th>qty_exclamation_url</th>\n",
       "      <th>qty_space_url</th>\n",
       "      <th>...</th>\n",
       "      <th>time_domain_expiration</th>\n",
       "      <th>qty_ip_resolved</th>\n",
       "      <th>qty_nameservers</th>\n",
       "      <th>qty_mx_servers</th>\n",
       "      <th>ttl_hostname</th>\n",
       "      <th>tls_ssl_certificate</th>\n",
       "      <th>qty_redirects</th>\n",
       "      <th>url_google_index</th>\n",
       "      <th>domain_google_index</th>\n",
       "      <th>url_shortened</th>\n",
       "    </tr>\n",
       "  </thead>\n",
       "  <tbody>\n",
       "    <tr>\n",
       "      <th>0</th>\n",
       "      <td>3</td>\n",
       "      <td>0</td>\n",
       "      <td>0</td>\n",
       "      <td>1</td>\n",
       "      <td>0</td>\n",
       "      <td>0</td>\n",
       "      <td>0</td>\n",
       "      <td>0</td>\n",
       "      <td>0</td>\n",
       "      <td>0</td>\n",
       "      <td>...</td>\n",
       "      <td>-1</td>\n",
       "      <td>1</td>\n",
       "      <td>2</td>\n",
       "      <td>0</td>\n",
       "      <td>892</td>\n",
       "      <td>0</td>\n",
       "      <td>0</td>\n",
       "      <td>0</td>\n",
       "      <td>0</td>\n",
       "      <td>0</td>\n",
       "    </tr>\n",
       "    <tr>\n",
       "      <th>1</th>\n",
       "      <td>5</td>\n",
       "      <td>0</td>\n",
       "      <td>1</td>\n",
       "      <td>3</td>\n",
       "      <td>0</td>\n",
       "      <td>3</td>\n",
       "      <td>0</td>\n",
       "      <td>2</td>\n",
       "      <td>0</td>\n",
       "      <td>0</td>\n",
       "      <td>...</td>\n",
       "      <td>150</td>\n",
       "      <td>1</td>\n",
       "      <td>2</td>\n",
       "      <td>1</td>\n",
       "      <td>9540</td>\n",
       "      <td>1</td>\n",
       "      <td>0</td>\n",
       "      <td>0</td>\n",
       "      <td>0</td>\n",
       "      <td>0</td>\n",
       "    </tr>\n",
       "    <tr>\n",
       "      <th>2</th>\n",
       "      <td>2</td>\n",
       "      <td>0</td>\n",
       "      <td>0</td>\n",
       "      <td>1</td>\n",
       "      <td>0</td>\n",
       "      <td>0</td>\n",
       "      <td>0</td>\n",
       "      <td>0</td>\n",
       "      <td>0</td>\n",
       "      <td>0</td>\n",
       "      <td>...</td>\n",
       "      <td>-1</td>\n",
       "      <td>1</td>\n",
       "      <td>2</td>\n",
       "      <td>3</td>\n",
       "      <td>589</td>\n",
       "      <td>1</td>\n",
       "      <td>0</td>\n",
       "      <td>0</td>\n",
       "      <td>0</td>\n",
       "      <td>0</td>\n",
       "    </tr>\n",
       "    <tr>\n",
       "      <th>3</th>\n",
       "      <td>4</td>\n",
       "      <td>0</td>\n",
       "      <td>2</td>\n",
       "      <td>5</td>\n",
       "      <td>0</td>\n",
       "      <td>0</td>\n",
       "      <td>0</td>\n",
       "      <td>0</td>\n",
       "      <td>0</td>\n",
       "      <td>0</td>\n",
       "      <td>...</td>\n",
       "      <td>-1</td>\n",
       "      <td>1</td>\n",
       "      <td>2</td>\n",
       "      <td>0</td>\n",
       "      <td>292</td>\n",
       "      <td>1</td>\n",
       "      <td>0</td>\n",
       "      <td>0</td>\n",
       "      <td>0</td>\n",
       "      <td>0</td>\n",
       "    </tr>\n",
       "    <tr>\n",
       "      <th>4</th>\n",
       "      <td>2</td>\n",
       "      <td>0</td>\n",
       "      <td>0</td>\n",
       "      <td>0</td>\n",
       "      <td>0</td>\n",
       "      <td>0</td>\n",
       "      <td>0</td>\n",
       "      <td>0</td>\n",
       "      <td>0</td>\n",
       "      <td>0</td>\n",
       "      <td>...</td>\n",
       "      <td>306</td>\n",
       "      <td>1</td>\n",
       "      <td>2</td>\n",
       "      <td>1</td>\n",
       "      <td>3597</td>\n",
       "      <td>0</td>\n",
       "      <td>1</td>\n",
       "      <td>0</td>\n",
       "      <td>0</td>\n",
       "      <td>0</td>\n",
       "    </tr>\n",
       "    <tr>\n",
       "      <th>...</th>\n",
       "      <td>...</td>\n",
       "      <td>...</td>\n",
       "      <td>...</td>\n",
       "      <td>...</td>\n",
       "      <td>...</td>\n",
       "      <td>...</td>\n",
       "      <td>...</td>\n",
       "      <td>...</td>\n",
       "      <td>...</td>\n",
       "      <td>...</td>\n",
       "      <td>...</td>\n",
       "      <td>...</td>\n",
       "      <td>...</td>\n",
       "      <td>...</td>\n",
       "      <td>...</td>\n",
       "      <td>...</td>\n",
       "      <td>...</td>\n",
       "      <td>...</td>\n",
       "      <td>...</td>\n",
       "      <td>...</td>\n",
       "      <td>...</td>\n",
       "    </tr>\n",
       "    <tr>\n",
       "      <th>88642</th>\n",
       "      <td>3</td>\n",
       "      <td>1</td>\n",
       "      <td>0</td>\n",
       "      <td>0</td>\n",
       "      <td>0</td>\n",
       "      <td>0</td>\n",
       "      <td>0</td>\n",
       "      <td>0</td>\n",
       "      <td>0</td>\n",
       "      <td>0</td>\n",
       "      <td>...</td>\n",
       "      <td>334</td>\n",
       "      <td>1</td>\n",
       "      <td>3</td>\n",
       "      <td>1</td>\n",
       "      <td>3597</td>\n",
       "      <td>0</td>\n",
       "      <td>0</td>\n",
       "      <td>0</td>\n",
       "      <td>0</td>\n",
       "      <td>0</td>\n",
       "    </tr>\n",
       "    <tr>\n",
       "      <th>88643</th>\n",
       "      <td>2</td>\n",
       "      <td>0</td>\n",
       "      <td>0</td>\n",
       "      <td>0</td>\n",
       "      <td>0</td>\n",
       "      <td>0</td>\n",
       "      <td>0</td>\n",
       "      <td>0</td>\n",
       "      <td>0</td>\n",
       "      <td>0</td>\n",
       "      <td>...</td>\n",
       "      <td>431</td>\n",
       "      <td>1</td>\n",
       "      <td>2</td>\n",
       "      <td>2</td>\n",
       "      <td>591</td>\n",
       "      <td>0</td>\n",
       "      <td>2</td>\n",
       "      <td>0</td>\n",
       "      <td>0</td>\n",
       "      <td>0</td>\n",
       "    </tr>\n",
       "    <tr>\n",
       "      <th>88644</th>\n",
       "      <td>2</td>\n",
       "      <td>1</td>\n",
       "      <td>0</td>\n",
       "      <td>5</td>\n",
       "      <td>0</td>\n",
       "      <td>0</td>\n",
       "      <td>0</td>\n",
       "      <td>0</td>\n",
       "      <td>0</td>\n",
       "      <td>0</td>\n",
       "      <td>...</td>\n",
       "      <td>712</td>\n",
       "      <td>1</td>\n",
       "      <td>2</td>\n",
       "      <td>5</td>\n",
       "      <td>14391</td>\n",
       "      <td>1</td>\n",
       "      <td>0</td>\n",
       "      <td>0</td>\n",
       "      <td>0</td>\n",
       "      <td>0</td>\n",
       "    </tr>\n",
       "    <tr>\n",
       "      <th>88645</th>\n",
       "      <td>2</td>\n",
       "      <td>0</td>\n",
       "      <td>0</td>\n",
       "      <td>1</td>\n",
       "      <td>0</td>\n",
       "      <td>0</td>\n",
       "      <td>0</td>\n",
       "      <td>0</td>\n",
       "      <td>0</td>\n",
       "      <td>0</td>\n",
       "      <td>...</td>\n",
       "      <td>-1</td>\n",
       "      <td>1</td>\n",
       "      <td>1</td>\n",
       "      <td>1</td>\n",
       "      <td>52</td>\n",
       "      <td>1</td>\n",
       "      <td>0</td>\n",
       "      <td>0</td>\n",
       "      <td>0</td>\n",
       "      <td>0</td>\n",
       "    </tr>\n",
       "    <tr>\n",
       "      <th>88646</th>\n",
       "      <td>2</td>\n",
       "      <td>0</td>\n",
       "      <td>0</td>\n",
       "      <td>0</td>\n",
       "      <td>0</td>\n",
       "      <td>0</td>\n",
       "      <td>0</td>\n",
       "      <td>0</td>\n",
       "      <td>0</td>\n",
       "      <td>0</td>\n",
       "      <td>...</td>\n",
       "      <td>64</td>\n",
       "      <td>1</td>\n",
       "      <td>4</td>\n",
       "      <td>0</td>\n",
       "      <td>299</td>\n",
       "      <td>0</td>\n",
       "      <td>0</td>\n",
       "      <td>0</td>\n",
       "      <td>0</td>\n",
       "      <td>0</td>\n",
       "    </tr>\n",
       "  </tbody>\n",
       "</table>\n",
       "<p>88647 rows × 111 columns</p>\n",
       "</div>"
      ],
      "text/plain": [
       "       qty_dot_url  qty_hyphen_url  qty_underline_url  qty_slash_url  \\\n",
       "0                3               0                  0              1   \n",
       "1                5               0                  1              3   \n",
       "2                2               0                  0              1   \n",
       "3                4               0                  2              5   \n",
       "4                2               0                  0              0   \n",
       "...            ...             ...                ...            ...   \n",
       "88642            3               1                  0              0   \n",
       "88643            2               0                  0              0   \n",
       "88644            2               1                  0              5   \n",
       "88645            2               0                  0              1   \n",
       "88646            2               0                  0              0   \n",
       "\n",
       "       qty_questionmark_url  qty_equal_url  qty_at_url  qty_and_url  \\\n",
       "0                         0              0           0            0   \n",
       "1                         0              3           0            2   \n",
       "2                         0              0           0            0   \n",
       "3                         0              0           0            0   \n",
       "4                         0              0           0            0   \n",
       "...                     ...            ...         ...          ...   \n",
       "88642                     0              0           0            0   \n",
       "88643                     0              0           0            0   \n",
       "88644                     0              0           0            0   \n",
       "88645                     0              0           0            0   \n",
       "88646                     0              0           0            0   \n",
       "\n",
       "       qty_exclamation_url  qty_space_url  ...  time_domain_expiration  \\\n",
       "0                        0              0  ...                      -1   \n",
       "1                        0              0  ...                     150   \n",
       "2                        0              0  ...                      -1   \n",
       "3                        0              0  ...                      -1   \n",
       "4                        0              0  ...                     306   \n",
       "...                    ...            ...  ...                     ...   \n",
       "88642                    0              0  ...                     334   \n",
       "88643                    0              0  ...                     431   \n",
       "88644                    0              0  ...                     712   \n",
       "88645                    0              0  ...                      -1   \n",
       "88646                    0              0  ...                      64   \n",
       "\n",
       "       qty_ip_resolved  qty_nameservers  qty_mx_servers  ttl_hostname  \\\n",
       "0                    1                2               0           892   \n",
       "1                    1                2               1          9540   \n",
       "2                    1                2               3           589   \n",
       "3                    1                2               0           292   \n",
       "4                    1                2               1          3597   \n",
       "...                ...              ...             ...           ...   \n",
       "88642                1                3               1          3597   \n",
       "88643                1                2               2           591   \n",
       "88644                1                2               5         14391   \n",
       "88645                1                1               1            52   \n",
       "88646                1                4               0           299   \n",
       "\n",
       "       tls_ssl_certificate  qty_redirects  url_google_index  \\\n",
       "0                        0              0                 0   \n",
       "1                        1              0                 0   \n",
       "2                        1              0                 0   \n",
       "3                        1              0                 0   \n",
       "4                        0              1                 0   \n",
       "...                    ...            ...               ...   \n",
       "88642                    0              0                 0   \n",
       "88643                    0              2                 0   \n",
       "88644                    1              0                 0   \n",
       "88645                    1              0                 0   \n",
       "88646                    0              0                 0   \n",
       "\n",
       "       domain_google_index  url_shortened  \n",
       "0                        0              0  \n",
       "1                        0              0  \n",
       "2                        0              0  \n",
       "3                        0              0  \n",
       "4                        0              0  \n",
       "...                    ...            ...  \n",
       "88642                    0              0  \n",
       "88643                    0              0  \n",
       "88644                    0              0  \n",
       "88645                    0              0  \n",
       "88646                    0              0  \n",
       "\n",
       "[88647 rows x 111 columns]"
      ]
     },
     "execution_count": 3,
     "metadata": {},
     "output_type": "execute_result"
    }
   ],
   "source": [
    "x= data.drop(['phishing'],axis=1)\n",
    "x"
   ]
  },
  {
   "cell_type": "code",
   "execution_count": 4,
   "id": "0bc895cc",
   "metadata": {},
   "outputs": [
    {
     "data": {
      "text/plain": [
       "0        1\n",
       "1        1\n",
       "2        0\n",
       "3        1\n",
       "4        0\n",
       "        ..\n",
       "88642    0\n",
       "88643    0\n",
       "88644    1\n",
       "88645    1\n",
       "88646    0\n",
       "Name: phishing, Length: 88647, dtype: int64"
      ]
     },
     "execution_count": 4,
     "metadata": {},
     "output_type": "execute_result"
    }
   ],
   "source": [
    "y=data['phishing']\n",
    "y"
   ]
  },
  {
   "cell_type": "code",
   "execution_count": 5,
   "id": "3d887216",
   "metadata": {},
   "outputs": [],
   "source": [
    "x_train=x\n",
    "y_train=y"
   ]
  },
  {
   "cell_type": "code",
   "execution_count": 6,
   "id": "41c853cb",
   "metadata": {},
   "outputs": [
    {
     "data": {
      "text/plain": [
       "0    58000\n",
       "1    30647\n",
       "Name: phishing, dtype: int64"
      ]
     },
     "execution_count": 6,
     "metadata": {},
     "output_type": "execute_result"
    }
   ],
   "source": [
    "y.value_counts()"
   ]
  },
  {
   "cell_type": "markdown",
   "id": "eb0fec6f",
   "metadata": {},
   "source": [
    "# defining models"
   ]
  },
  {
   "cell_type": "code",
   "execution_count": 7,
   "id": "0b859aa6",
   "metadata": {},
   "outputs": [],
   "source": [
    "knn= KNeighborsClassifier(n_neighbors=10,n_jobs=-1)\n",
    "svm= SVC(random_state=10,kernel='rbf')\n",
    "lr = LogisticRegression()\n",
    "\n",
    "rf= RandomForestClassifier(n_jobs=-1,random_state=10)\n",
    "ada= AdaBoostClassifier(random_state=100)\n",
    "extra = ExtraTreesClassifier(n_jobs=-1,random_state=10)\n",
    "\n",
    "lgbm = LGBMClassifier(n_jobs=-1,random_state=10)\n",
    "grad = GradientBoostingClassifier()\n",
    "xg = XGBClassifier(use_label_encoder =False, eval_metric='logloss')\n",
    "\n",
    "nn= MLPClassifier(activation = \"relu\", alpha = 0.001, hidden_layer_sizes = (32,32,32), random_state=10)"
   ]
  },
  {
   "cell_type": "code",
   "execution_count": 8,
   "id": "d1922087",
   "metadata": {},
   "outputs": [],
   "source": [
    "classifiers= {\n",
    "    \"RandomForest\": rf,\n",
    "    \"ExtraTree\": extra,\n",
    "    \"gradBoost\": grad,\n",
    "    \"adaboost\": ada,\n",
    "    \"LGBM\": lgbm,\n",
    "    \"xgb\": xg,\n",
    "    \"nn\":nn}"
   ]
  },
  {
   "cell_type": "code",
   "execution_count": 9,
   "id": "ee41a803",
   "metadata": {},
   "outputs": [],
   "source": [
    "classifier_2 = nn"
   ]
  },
  {
   "cell_type": "code",
   "execution_count": 10,
   "id": "c025420b",
   "metadata": {},
   "outputs": [],
   "source": [
    "scores={'accuracy': make_scorer(accuracy_score),\n",
    "        'recall' : make_scorer(recall_score),\n",
    "        'precision':make_scorer(precision_score),\n",
    "        'gmean': make_scorer(geometric_mean_score),\n",
    "        'f1':make_scorer(f1_score),\n",
    "        'roc': make_scorer(roc_auc_score)\n",
    "        }"
   ]
  },
  {
   "cell_type": "markdown",
   "id": "42213b81",
   "metadata": {},
   "source": [
    "# base models"
   ]
  },
  {
   "cell_type": "code",
   "execution_count": 11,
   "id": "484f4b8f",
   "metadata": {},
   "outputs": [
    {
     "data": {
      "text/plain": [
       "fit_time          2.725133\n",
       "score_time        0.041724\n",
       "test_accuracy     0.971663\n",
       "test_recall       0.961301\n",
       "test_precision    0.956945\n",
       "test_gmean        0.969185\n",
       "test_f1           0.959111\n",
       "test_roc          0.969220\n",
       "dtype: float64"
      ]
     },
     "execution_count": 11,
     "metadata": {},
     "output_type": "execute_result"
    }
   ],
   "source": [
    "rf_result = cross_validate(rf, x_train, y_train, cv = 10, scoring=scores)\n",
    "df= pd.DataFrame(rf_result)\n",
    "df.mean(axis=0)"
   ]
  },
  {
   "cell_type": "code",
   "execution_count": 14,
   "id": "dd2ae3be",
   "metadata": {},
   "outputs": [
    {
     "data": {
      "text/plain": [
       "fit_time          5.876793\n",
       "score_time        0.101128\n",
       "test_accuracy     0.936490\n",
       "test_recall       0.907104\n",
       "test_precision    0.909045\n",
       "test_gmean        0.929284\n",
       "test_f1           0.908056\n",
       "test_roc          0.929561\n",
       "dtype: float64"
      ]
     },
     "execution_count": 14,
     "metadata": {},
     "output_type": "execute_result"
    }
   ],
   "source": [
    "ada_result= cross_validate(ada, x_train, y_train, cv = 10, scoring=scores)\n",
    "df= pd.DataFrame(ada_result)\n",
    "df.mean(axis=0)"
   ]
  },
  {
   "cell_type": "code",
   "execution_count": 15,
   "id": "504070d1",
   "metadata": {},
   "outputs": [
    {
     "data": {
      "text/plain": [
       "fit_time          2.776407\n",
       "score_time        0.045096\n",
       "test_accuracy     0.970918\n",
       "test_recall       0.959311\n",
       "test_precision    0.956692\n",
       "test_gmean        0.968139\n",
       "test_f1           0.957996\n",
       "test_roc          0.968181\n",
       "dtype: float64"
      ]
     },
     "execution_count": 15,
     "metadata": {},
     "output_type": "execute_result"
    }
   ],
   "source": [
    "extra_result= cross_validate(extra, x_train, y_train, cv = 10, scoring=scores)\n",
    "df= pd.DataFrame(extra_result)\n",
    "df.mean(axis=0)"
   ]
  },
  {
   "cell_type": "code",
   "execution_count": 16,
   "id": "dbc341e6",
   "metadata": {},
   "outputs": [
    {
     "data": {
      "text/plain": [
       "fit_time          22.501707\n",
       "score_time         0.028397\n",
       "test_accuracy      0.953478\n",
       "test_recall        0.934610\n",
       "test_precision     0.931095\n",
       "test_gmean         0.948918\n",
       "test_f1            0.932845\n",
       "test_roc           0.949029\n",
       "dtype: float64"
      ]
     },
     "execution_count": 16,
     "metadata": {},
     "output_type": "execute_result"
    }
   ],
   "source": [
    "grad_result= cross_validate(grad, x_train, y_train, cv = 10, scoring=scores)\n",
    "df= pd.DataFrame(grad_result)\n",
    "df.mean(axis=0)"
   ]
  },
  {
   "cell_type": "code",
   "execution_count": 17,
   "id": "87815fd2",
   "metadata": {},
   "outputs": [
    {
     "data": {
      "text/plain": [
       "fit_time          3.501818\n",
       "score_time        0.079918\n",
       "test_accuracy     0.966812\n",
       "test_recall       0.953274\n",
       "test_precision    0.950870\n",
       "test_gmean        0.963563\n",
       "test_f1           0.952066\n",
       "test_roc          0.963620\n",
       "dtype: float64"
      ]
     },
     "execution_count": 17,
     "metadata": {},
     "output_type": "execute_result"
    }
   ],
   "source": [
    "lgbm_result= cross_validate(lgbm, x_train, y_train, cv = 10, scoring=scores, n_jobs=-1)\n",
    "df= pd.DataFrame(lgbm_result)\n",
    "df.mean(axis=0)"
   ]
  },
  {
   "cell_type": "code",
   "execution_count": 19,
   "id": "ff409b1b",
   "metadata": {},
   "outputs": [
    {
     "data": {
      "text/plain": [
       "fit_time          28.009947\n",
       "score_time         0.040733\n",
       "test_accuracy      0.970828\n",
       "test_recall        0.957777\n",
       "test_precision     0.957863\n",
       "test_gmean         0.967697\n",
       "test_f1            0.957812\n",
       "test_roc           0.967751\n",
       "dtype: float64"
      ]
     },
     "execution_count": 19,
     "metadata": {},
     "output_type": "execute_result"
    }
   ],
   "source": [
    "xg_result= cross_validate(xg, x_train, y, cv = 10, scoring=scores, n_jobs=-1)\n",
    "df= pd.DataFrame(xg_result)\n",
    "df.mean(axis=0)"
   ]
  },
  {
   "cell_type": "code",
   "execution_count": 21,
   "id": "5cfddc8c",
   "metadata": {},
   "outputs": [
    {
     "data": {
      "text/plain": [
       "fit_time          62.715342\n",
       "score_time         0.037506\n",
       "test_accuracy      0.921058\n",
       "test_recall        0.897839\n",
       "test_precision     0.878532\n",
       "test_gmean         0.914952\n",
       "test_f1            0.886950\n",
       "test_roc           0.915583\n",
       "dtype: float64"
      ]
     },
     "execution_count": 21,
     "metadata": {},
     "output_type": "execute_result"
    }
   ],
   "source": [
    "nn_result= cross_validate(nn, x_train, y, cv = 10, scoring=scores,  n_jobs=-1)\n",
    "df= pd.DataFrame(nn_result)\n",
    "df.mean(axis=0)"
   ]
  },
  {
   "cell_type": "code",
   "execution_count": 11,
   "id": "6e550030",
   "metadata": {},
   "outputs": [
    {
     "data": {
      "text/plain": [
       "fit_time          0.169213\n",
       "score_time        0.023905\n",
       "test_accuracy     0.842860\n",
       "test_recall       0.628055\n",
       "test_precision    0.883814\n",
       "test_gmean        0.774996\n",
       "test_f1           0.734265\n",
       "test_roc          0.792209\n",
       "dtype: float64"
      ]
     },
     "execution_count": 11,
     "metadata": {},
     "output_type": "execute_result"
    }
   ],
   "source": [
    "nb= GaussianNB()\n",
    "nb_result= cross_validate(nb, x_train, y, cv = 10, scoring=scores)\n",
    "df= pd.DataFrame(nb_result)\n",
    "df.mean(axis=0)"
   ]
  },
  {
   "cell_type": "code",
   "execution_count": 12,
   "id": "e5ea327e",
   "metadata": {},
   "outputs": [
    {
     "data": {
      "text/plain": [
       "fit_time           0.057712\n",
       "score_time        16.391473\n",
       "test_accuracy      0.866437\n",
       "test_recall        0.763534\n",
       "test_precision     0.835934\n",
       "test_gmean         0.838485\n",
       "test_f1            0.798083\n",
       "test_roc           0.842172\n",
       "dtype: float64"
      ]
     },
     "execution_count": 12,
     "metadata": {},
     "output_type": "execute_result"
    }
   ],
   "source": [
    "knn_result= cross_validate(knn, x_train, y, cv = 10, scoring=scores, n_jobs=-1)\n",
    "df= pd.DataFrame(knn_result)\n",
    "df.mean(axis=0)"
   ]
  },
  {
   "cell_type": "code",
   "execution_count": 14,
   "id": "421b2bcf",
   "metadata": {},
   "outputs": [
    {
     "data": {
      "text/plain": [
       "fit_time          1845.801982\n",
       "score_time          92.756810\n",
       "test_accuracy        0.757984\n",
       "test_recall          0.567266\n",
       "test_precision       0.679751\n",
       "test_gmean           0.697948\n",
       "test_f1              0.618419\n",
       "test_roc             0.713012\n",
       "dtype: float64"
      ]
     },
     "execution_count": 14,
     "metadata": {},
     "output_type": "execute_result"
    }
   ],
   "source": [
    "svm_result= cross_validate(svm, x_train, y, cv = 10, scoring=scores, n_jobs=-1)\n",
    "df= pd.DataFrame(svm_result)\n",
    "df.mean(axis=0)"
   ]
  },
  {
   "cell_type": "code",
   "execution_count": 13,
   "id": "49b0c653",
   "metadata": {},
   "outputs": [
    {
     "data": {
      "text/plain": [
       "fit_time          8.901156\n",
       "score_time        0.021805\n",
       "test_accuracy     0.893353\n",
       "test_recall       0.797275\n",
       "test_precision    0.883447\n",
       "test_gmean        0.866992\n",
       "test_f1           0.836984\n",
       "test_roc          0.870698\n",
       "dtype: float64"
      ]
     },
     "execution_count": 13,
     "metadata": {},
     "output_type": "execute_result"
    }
   ],
   "source": [
    "lr_result= cross_validate(lr, x_train, y, cv = 10, scoring=scores,  n_jobs=-1)\n",
    "df= pd.DataFrame(lr_result)\n",
    "df.mean(axis=0)"
   ]
  },
  {
   "cell_type": "markdown",
   "id": "87c97266",
   "metadata": {},
   "source": [
    "# stacking - proba"
   ]
  },
  {
   "cell_type": "code",
   "execution_count": null,
   "id": "618fc65c",
   "metadata": {},
   "outputs": [],
   "source": [
    "# meta - nn,  cv - 10\n",
    "\n",
    "stacking_result = []\n",
    "stacking_names= []\n",
    "\n",
    "nn_meta= MLPClassifier(activation = \"relu\", alpha = 0.001, hidden_layer_sizes = (6,12,24,12,6), random_state=10)\n",
    "\n",
    "sel_classifier= [rf, ada, extra, lgbm, grad, xg, nn]\n",
    "\n",
    "scl = StackingCVClassifier(classifiers= sel_classifier,\n",
    "                            meta_classifier = nn_meta, # use meta-classifier\n",
    "                            use_probas = True,   # use_probas = True/False\n",
    "                            random_state = 10)\n",
    "\n",
    "st_result= cross_validate(scl, x_train, y, cv = 10, scoring=scores,n_jobs=-1)\n"
   ]
  },
  {
   "cell_type": "code",
   "execution_count": 14,
   "id": "ec063f1e",
   "metadata": {},
   "outputs": [
    {
     "data": {
      "text/plain": [
       "fit_time          21.672631\n",
       "score_time         0.083033\n",
       "test_accuracy      0.974759\n",
       "test_recall        0.984243\n",
       "test_precision     0.971064\n",
       "test_gmean         0.973425\n",
       "test_f1            0.977543\n",
       "test_roc           0.973541\n",
       "dtype: float64"
      ]
     },
     "execution_count": 14,
     "metadata": {},
     "output_type": "execute_result"
    }
   ],
   "source": [
    "df= pd.DataFrame(st_result)\n",
    "df.mean(axis=0)"
   ]
  },
  {
   "cell_type": "code",
   "execution_count": 31,
   "id": "edc44c21",
   "metadata": {},
   "outputs": [
    {
     "data": {
      "text/plain": [
       "GridSearchCV(cv=10,\n",
       "             estimator=StackingCVClassifier(classifiers=[RandomForestClassifier(n_jobs=-1,\n",
       "                                                                                random_state=10),\n",
       "                                                         AdaBoostClassifier(random_state=100),\n",
       "                                                         ExtraTreesClassifier(n_jobs=-1,\n",
       "                                                                              random_state=10),\n",
       "                                                         LGBMClassifier(random_state=10),\n",
       "                                                         GradientBoostingClassifier(),\n",
       "                                                         XGBClassifier(base_score=None,\n",
       "                                                                       booster=None,\n",
       "                                                                       colsample_bylevel=None,\n",
       "                                                                       colsample_bynode=None,\n",
       "                                                                       col...\n",
       "                                                                       subsample=None,\n",
       "                                                                       tree_method=None,\n",
       "                                                                       use_label_encoder=False,\n",
       "                                                                       validate_parameters=None,\n",
       "                                                                       verbosity=None),\n",
       "                                                         MLPClassifier(alpha=0.001,\n",
       "                                                                       hidden_layer_sizes=(32,\n",
       "                                                                                           32,\n",
       "                                                                                           32),\n",
       "                                                                       random_state=10)],\n",
       "                                            meta_classifier=MLPClassifier(random_state=10),\n",
       "                                            random_state=10, use_probas=True),\n",
       "             n_jobs=-1,\n",
       "             param_grid={'meta_classifier__hidden_layer_sizes': [(12, 12, 12),\n",
       "                                                                 (12, 6, 6),\n",
       "                                                                 (6, 12, 32, 12,\n",
       "                                                                  6),\n",
       "                                                                 (12, 24, 12,\n",
       "                                                                  6)]})"
      ]
     },
     "execution_count": 31,
     "metadata": {},
     "output_type": "execute_result"
    }
   ],
   "source": [
    "sel_classifier= [rf, ada, extra, lgbm, grad, xg, nn]\n",
    "\n",
    "nn_basic = MLPClassifier(random_state=10)\n",
    "\n",
    "scl = StackingCVClassifier(classifiers= sel_classifier,\n",
    "                            meta_classifier = nn_basic, # use meta-classifier\n",
    "                            use_probas = True,   # use_probas = True/False\n",
    "                            random_state = 10)\n",
    "\n",
    "params= {\n",
    "    'meta_classifier__hidden_layer_sizes': [(12,12,12),(12,6,6),(6,12,32,12,6),(12,24,12,6)],\n",
    "}\n",
    "\n",
    "grid = GridSearchCV(estimator=scl, \n",
    "                    param_grid=params, \n",
    "                    cv=10,\n",
    "                    refit=True,\n",
    "                    n_jobs=-1)\n",
    "\n",
    "grid.fit(x_train, y_train)\n"
   ]
  },
  {
   "cell_type": "code",
   "execution_count": 33,
   "id": "3f2b7b84",
   "metadata": {},
   "outputs": [
    {
     "data": {
      "text/html": [
       "<div>\n",
       "<style scoped>\n",
       "    .dataframe tbody tr th:only-of-type {\n",
       "        vertical-align: middle;\n",
       "    }\n",
       "\n",
       "    .dataframe tbody tr th {\n",
       "        vertical-align: top;\n",
       "    }\n",
       "\n",
       "    .dataframe thead th {\n",
       "        text-align: right;\n",
       "    }\n",
       "</style>\n",
       "<table border=\"1\" class=\"dataframe\">\n",
       "  <thead>\n",
       "    <tr style=\"text-align: right;\">\n",
       "      <th></th>\n",
       "      <th>mean_fit_time</th>\n",
       "      <th>std_fit_time</th>\n",
       "      <th>mean_score_time</th>\n",
       "      <th>std_score_time</th>\n",
       "      <th>param_meta_classifier__hidden_layer_sizes</th>\n",
       "      <th>params</th>\n",
       "      <th>split0_test_score</th>\n",
       "      <th>split1_test_score</th>\n",
       "      <th>split2_test_score</th>\n",
       "      <th>split3_test_score</th>\n",
       "      <th>split4_test_score</th>\n",
       "      <th>split5_test_score</th>\n",
       "      <th>split6_test_score</th>\n",
       "      <th>split7_test_score</th>\n",
       "      <th>split8_test_score</th>\n",
       "      <th>split9_test_score</th>\n",
       "      <th>mean_test_score</th>\n",
       "      <th>std_test_score</th>\n",
       "      <th>rank_test_score</th>\n",
       "    </tr>\n",
       "  </thead>\n",
       "  <tbody>\n",
       "    <tr>\n",
       "      <th>1</th>\n",
       "      <td>897.227048</td>\n",
       "      <td>86.170097</td>\n",
       "      <td>1.450027</td>\n",
       "      <td>0.402412</td>\n",
       "      <td>(12, 6, 6)</td>\n",
       "      <td>{'meta_classifier__hidden_layer_sizes': (12, 6...</td>\n",
       "      <td>0.976650</td>\n",
       "      <td>0.974958</td>\n",
       "      <td>0.970446</td>\n",
       "      <td>0.975747</td>\n",
       "      <td>0.972363</td>\n",
       "      <td>0.974055</td>\n",
       "      <td>0.973942</td>\n",
       "      <td>0.977550</td>\n",
       "      <td>0.976986</td>\n",
       "      <td>0.975519</td>\n",
       "      <td>0.974822</td>\n",
       "      <td>0.002083</td>\n",
       "      <td>1</td>\n",
       "    </tr>\n",
       "    <tr>\n",
       "      <th>3</th>\n",
       "      <td>789.143794</td>\n",
       "      <td>172.485958</td>\n",
       "      <td>0.783166</td>\n",
       "      <td>0.869165</td>\n",
       "      <td>(12, 24, 12, 6)</td>\n",
       "      <td>{'meta_classifier__hidden_layer_sizes': (12, 2...</td>\n",
       "      <td>0.976537</td>\n",
       "      <td>0.975296</td>\n",
       "      <td>0.970784</td>\n",
       "      <td>0.973604</td>\n",
       "      <td>0.972363</td>\n",
       "      <td>0.973942</td>\n",
       "      <td>0.974281</td>\n",
       "      <td>0.977550</td>\n",
       "      <td>0.977098</td>\n",
       "      <td>0.975632</td>\n",
       "      <td>0.974709</td>\n",
       "      <td>0.002030</td>\n",
       "      <td>2</td>\n",
       "    </tr>\n",
       "    <tr>\n",
       "      <th>0</th>\n",
       "      <td>960.579238</td>\n",
       "      <td>122.727922</td>\n",
       "      <td>1.266486</td>\n",
       "      <td>0.566797</td>\n",
       "      <td>(12, 12, 12)</td>\n",
       "      <td>{'meta_classifier__hidden_layer_sizes': (12, 1...</td>\n",
       "      <td>0.976537</td>\n",
       "      <td>0.975522</td>\n",
       "      <td>0.970446</td>\n",
       "      <td>0.975522</td>\n",
       "      <td>0.972702</td>\n",
       "      <td>0.973378</td>\n",
       "      <td>0.974281</td>\n",
       "      <td>0.977550</td>\n",
       "      <td>0.976760</td>\n",
       "      <td>0.974391</td>\n",
       "      <td>0.974709</td>\n",
       "      <td>0.002030</td>\n",
       "      <td>3</td>\n",
       "    </tr>\n",
       "    <tr>\n",
       "      <th>2</th>\n",
       "      <td>1030.604501</td>\n",
       "      <td>66.966603</td>\n",
       "      <td>1.008628</td>\n",
       "      <td>0.472403</td>\n",
       "      <td>(6, 12, 32, 12, 6)</td>\n",
       "      <td>{'meta_classifier__hidden_layer_sizes': (6, 12...</td>\n",
       "      <td>0.975973</td>\n",
       "      <td>0.974732</td>\n",
       "      <td>0.971235</td>\n",
       "      <td>0.974281</td>\n",
       "      <td>0.972250</td>\n",
       "      <td>0.973830</td>\n",
       "      <td>0.974168</td>\n",
       "      <td>0.977098</td>\n",
       "      <td>0.976873</td>\n",
       "      <td>0.974955</td>\n",
       "      <td>0.974540</td>\n",
       "      <td>0.001764</td>\n",
       "      <td>4</td>\n",
       "    </tr>\n",
       "  </tbody>\n",
       "</table>\n",
       "</div>"
      ],
      "text/plain": [
       "   mean_fit_time  std_fit_time  mean_score_time  std_score_time  \\\n",
       "1     897.227048     86.170097         1.450027        0.402412   \n",
       "3     789.143794    172.485958         0.783166        0.869165   \n",
       "0     960.579238    122.727922         1.266486        0.566797   \n",
       "2    1030.604501     66.966603         1.008628        0.472403   \n",
       "\n",
       "  param_meta_classifier__hidden_layer_sizes  \\\n",
       "1                                (12, 6, 6)   \n",
       "3                           (12, 24, 12, 6)   \n",
       "0                              (12, 12, 12)   \n",
       "2                        (6, 12, 32, 12, 6)   \n",
       "\n",
       "                                              params  split0_test_score  \\\n",
       "1  {'meta_classifier__hidden_layer_sizes': (12, 6...           0.976650   \n",
       "3  {'meta_classifier__hidden_layer_sizes': (12, 2...           0.976537   \n",
       "0  {'meta_classifier__hidden_layer_sizes': (12, 1...           0.976537   \n",
       "2  {'meta_classifier__hidden_layer_sizes': (6, 12...           0.975973   \n",
       "\n",
       "   split1_test_score  split2_test_score  split3_test_score  split4_test_score  \\\n",
       "1           0.974958           0.970446           0.975747           0.972363   \n",
       "3           0.975296           0.970784           0.973604           0.972363   \n",
       "0           0.975522           0.970446           0.975522           0.972702   \n",
       "2           0.974732           0.971235           0.974281           0.972250   \n",
       "\n",
       "   split5_test_score  split6_test_score  split7_test_score  split8_test_score  \\\n",
       "1           0.974055           0.973942           0.977550           0.976986   \n",
       "3           0.973942           0.974281           0.977550           0.977098   \n",
       "0           0.973378           0.974281           0.977550           0.976760   \n",
       "2           0.973830           0.974168           0.977098           0.976873   \n",
       "\n",
       "   split9_test_score  mean_test_score  std_test_score  rank_test_score  \n",
       "1           0.975519         0.974822        0.002083                1  \n",
       "3           0.975632         0.974709        0.002030                2  \n",
       "0           0.974391         0.974709        0.002030                3  \n",
       "2           0.974955         0.974540        0.001764                4  "
      ]
     },
     "execution_count": 33,
     "metadata": {},
     "output_type": "execute_result"
    }
   ],
   "source": [
    "df= pd.DataFrame(grid.cv_results_)\n",
    "df.sort_values(by='rank_test_score')"
   ]
  },
  {
   "cell_type": "markdown",
   "id": "b535ed30",
   "metadata": {},
   "source": [
    "# feature selection"
   ]
  },
  {
   "cell_type": "code",
   "execution_count": 12,
   "id": "c387b112",
   "metadata": {},
   "outputs": [],
   "source": [
    "from sklearn.feature_selection import RFECV"
   ]
  },
  {
   "cell_type": "code",
   "execution_count": 13,
   "id": "db12ab76",
   "metadata": {},
   "outputs": [
    {
     "data": {
      "text/plain": [
       "array([  0,   1,   3,  18,  19,  20,  36,  37,  40,  41,  42,  43,  45,\n",
       "        46,  48,  50,  51,  52,  56,  57,  58,  59,  60,  64,  65,  67,\n",
       "        69,  70,  74,  75,  76,  83,  93,  95,  97,  98,  99, 100, 101,\n",
       "       102, 103, 104, 105, 106, 107], dtype=int64)"
      ]
     },
     "execution_count": 13,
     "metadata": {},
     "output_type": "execute_result"
    }
   ],
   "source": [
    "selector = RFECV(rf, cv=3, n_jobs=-1)\n",
    "selector = selector.fit(x, y)\n",
    "rf_col,= np.where(selector.ranking_==1)\n",
    "rf_col"
   ]
  },
  {
   "cell_type": "code",
   "execution_count": 14,
   "id": "d0093245",
   "metadata": {},
   "outputs": [
    {
     "data": {
      "text/plain": [
       "array([ 17,  18,  19,  20,  37,  41,  57,  60,  75,  93,  97,  98,  99,\n",
       "       100, 102, 103, 105, 106, 110], dtype=int64)"
      ]
     },
     "execution_count": 14,
     "metadata": {},
     "output_type": "execute_result"
    }
   ],
   "source": [
    "selector = RFECV(ada, cv=3, n_jobs=-1)\n",
    "selector = selector.fit(x, y)\n",
    "ada_col,= np.where(selector.ranking_==1)\n",
    "ada_col"
   ]
  },
  {
   "cell_type": "code",
   "execution_count": 15,
   "id": "d4a9732c",
   "metadata": {},
   "outputs": [
    {
     "data": {
      "text/plain": [
       "(array([  0,   1,   3,  18,  19,  36,  37,  43,  44,  54,  57,  61,  62,\n",
       "         63,  72,  73,  75,  90,  97,  99, 100, 101, 102, 103, 104, 105,\n",
       "        107], dtype=int64),)"
      ]
     },
     "execution_count": 15,
     "metadata": {},
     "output_type": "execute_result"
    }
   ],
   "source": [
    "selector = RFECV(extra, cv=3, n_jobs=-1)\n",
    "selector = selector.fit(x, y)\n",
    "extra_col= np.where(selector.ranking_==1)\n",
    "extra_col"
   ]
  },
  {
   "cell_type": "code",
   "execution_count": 13,
   "id": "077b5739",
   "metadata": {},
   "outputs": [
    {
     "data": {
      "text/plain": [
       "(array([  0,   1,   2,   3,   4,   5,   6,   7,  10,  11,  12,  13,  14,\n",
       "         15,  16,  17,  18,  19,  20,  30,  36,  37,  38,  39,  40,  41,\n",
       "         42,  43,  45,  48,  51,  56,  57,  58,  59,  60,  62,  67,  68,\n",
       "         69,  74,  75,  76,  77,  78,  81,  83,  92,  93,  94,  95,  96,\n",
       "         97,  98,  99, 100, 101, 102, 103, 104, 105, 106, 107, 108, 109,\n",
       "        110], dtype=int64),)"
      ]
     },
     "execution_count": 13,
     "metadata": {},
     "output_type": "execute_result"
    }
   ],
   "source": [
    "selector = RFECV(lgbm, cv=3, n_jobs=-1)\n",
    "selector = selector.fit(x, y)\n",
    "lgbm_col= np.where(selector.ranking_==1)\n",
    "lgbm_col"
   ]
  },
  {
   "cell_type": "code",
   "execution_count": 14,
   "id": "b1dc77e7",
   "metadata": {},
   "outputs": [
    {
     "data": {
      "text/plain": [
       "(array([  3,  17,  18,  19,  20,  37,  41,  42,  46,  57,  60,  69,  74,\n",
       "         75,  76,  97,  99, 100, 102, 103, 104, 105, 106, 107, 110],\n",
       "       dtype=int64),)"
      ]
     },
     "execution_count": 14,
     "metadata": {},
     "output_type": "execute_result"
    }
   ],
   "source": [
    "selector = RFECV(grad, cv=3, n_jobs=-1)\n",
    "selector = selector.fit(x, y)\n",
    "grad_col= np.where(selector.ranking_==1)\n",
    "grad_col"
   ]
  },
  {
   "cell_type": "code",
   "execution_count": 15,
   "id": "91f51e2f",
   "metadata": {},
   "outputs": [
    {
     "data": {
      "text/plain": [
       "(array([  0,   1,   2,   3,   5,   6,  10,  12,  16,  17,  18,  19,  20,\n",
       "         36,  37,  38,  40,  41,  42,  43,  45,  56,  57,  58,  59,  60,\n",
       "         69,  74,  75,  76,  83,  93,  94,  95,  97,  98,  99, 100, 101,\n",
       "        102, 103, 104, 105, 106, 107, 110], dtype=int64),)"
      ]
     },
     "execution_count": 15,
     "metadata": {},
     "output_type": "execute_result"
    }
   ],
   "source": [
    "selector = RFECV(xg, cv=3, n_jobs=-1)\n",
    "selector = selector.fit(x, y)\n",
    "xg_col= np.where(selector.ranking_==1)\n",
    "xg_col"
   ]
  },
  {
   "cell_type": "code",
   "execution_count": 27,
   "id": "8bc1b8f1",
   "metadata": {},
   "outputs": [
    {
     "data": {
      "text/plain": [
       "array([  0,   1,   2,   3,   4,   5,   6,   7,   8,   9,  10,  11,  12,\n",
       "        13,  14,  15,  16,  17,  18,  19,  20,  21,  22,  23,  24,  25,\n",
       "        26,  27,  28,  29,  30,  31,  32,  33,  34,  35,  36,  37,  38,\n",
       "        39,  40,  41,  42,  43,  44,  45,  46,  47,  48,  49,  50,  51,\n",
       "        52,  53,  54,  55,  56,  57,  58,  59,  60,  61,  62,  63,  64,\n",
       "        65,  66,  67,  68,  69,  70,  71,  72,  73,  74,  75,  76,  77,\n",
       "        78,  79,  80,  81,  82,  83,  84,  85,  86,  87,  88,  89,  90,\n",
       "        91,  92,  93,  94,  95,  96,  97,  98,  99, 100, 101, 102, 103,\n",
       "       104, 105, 106, 107, 108, 109])"
      ]
     },
     "execution_count": 27,
     "metadata": {},
     "output_type": "execute_result"
    }
   ],
   "source": [
    "np.array(list(range(0,110)))"
   ]
  },
  {
   "cell_type": "markdown",
   "id": "1f5fcae5",
   "metadata": {},
   "source": [
    "# stacking with subsets of features"
   ]
  },
  {
   "cell_type": "code",
   "execution_count": 16,
   "id": "d018cc50",
   "metadata": {},
   "outputs": [],
   "source": [
    "from mlxtend.feature_selection import ColumnSelector\n",
    "from sklearn.pipeline import make_pipeline"
   ]
  },
  {
   "cell_type": "code",
   "execution_count": 17,
   "id": "00086933",
   "metadata": {},
   "outputs": [],
   "source": [
    "pipe_rf = make_pipeline(ColumnSelector(cols=( 0,   1,   3,  18,  19,  20,  36,  37,  40,  41,  42,  43,  45,\n",
    "        46,  48,  50,  51,  52,  56,  57,  58,  59,  60,  64,  65,  67,\n",
    "        69,  70,  74,  75,  76,  83,  93,  95,  97,  98,  99, 100, 101,\n",
    "       102, 103, 104, 105, 106, 107)),rf)"
   ]
  },
  {
   "cell_type": "code",
   "execution_count": 18,
   "id": "3b43fe35",
   "metadata": {},
   "outputs": [],
   "source": [
    "pipe_ada = make_pipeline(ColumnSelector(cols=( 17,  18,  19,  20,  37,  41,  57,  60,  75,  93,  97,  98,  99,\n",
    "       100, 102, 103, 105, 106, 110)),ada)"
   ]
  },
  {
   "cell_type": "code",
   "execution_count": 19,
   "id": "205fa506",
   "metadata": {},
   "outputs": [],
   "source": [
    "pipe_extra = make_pipeline(ColumnSelector(cols=(0,   1,   3,  18,  19,  36,  37,  43,  44,  54,  57,  61,  62,\n",
    "         63,  72,  73,  75,  90,  97,  99, 100, 101, 102, 103, 104, 105,\n",
    "        107)),extra)"
   ]
  },
  {
   "cell_type": "code",
   "execution_count": 20,
   "id": "251fee64",
   "metadata": {},
   "outputs": [],
   "source": [
    "pipe_lgbm = make_pipeline(ColumnSelector(cols=( 0,   1,   2,   3,   4,   5,   6,   7,  10,  11,  12,  13,  14,\n",
    "         15,  16,  17,  18,  19,  20,  30,  36,  37,  38,  39,  40,  41,\n",
    "         42,  43,  45,  48,  51,  56,  57,  58,  59,  60,  62,  67,  68,\n",
    "         69,  74,  75,  76,  77,  78,  81,  83,  92,  93,  94,  95,  96,\n",
    "         97,  98,  99, 100, 101, 102, 103, 104, 105, 106, 107, 108, 109,\n",
    "        110)),lgbm)"
   ]
  },
  {
   "cell_type": "code",
   "execution_count": 21,
   "id": "5d66cdcb",
   "metadata": {},
   "outputs": [],
   "source": [
    "pipe_grad = make_pipeline(ColumnSelector(cols=(3,  17,  18,  19,  20,  37,  41,  42,  46,  57,  60,  69,  74,\n",
    "         75,  76,  97,  99, 100, 102, 103, 104, 105, 106, 107, 110)),grad)"
   ]
  },
  {
   "cell_type": "code",
   "execution_count": 22,
   "id": "274ff50f",
   "metadata": {},
   "outputs": [],
   "source": [
    "pipe_xg = make_pipeline(ColumnSelector(cols=( 0,   1,   2,   3,   5,   6,  10,  12,  16,  17,  18,  19,  20,\n",
    "         36,  37,  38,  40,  41,  42,  43,  45,  56,  57,  58,  59,  60,\n",
    "         69,  74,  75,  76,  83,  93,  94,  95,  97,  98,  99, 100, 101,\n",
    "        102, 103, 104, 105, 106, 107, 110)),xg)"
   ]
  },
  {
   "cell_type": "code",
   "execution_count": 28,
   "id": "49a06f5f",
   "metadata": {},
   "outputs": [],
   "source": [
    "pipe_nn = make_pipeline(ColumnSelector(cols=(0,   1,   2,   3,   4,   5,   6,   7,   8,   9,  10,  11,  12,\n",
    "        13,  14,  15,  16,  17,  18,  19,  20,  21,  22,  23,  24,  25,\n",
    "        26,  27,  28,  29,  30,  31,  32,  33,  34,  35,  36,  37,  38,\n",
    "        39,  40,  41,  42,  43,  44,  45,  46,  47,  48,  49,  50,  51,\n",
    "        52,  53,  54,  55,  56,  57,  58,  59,  60,  61,  62,  63,  64,\n",
    "        65,  66,  67,  68,  69,  70,  71,  72,  73,  74,  75,  76,  77,\n",
    "        78,  79,  80,  81,  82,  83,  84,  85,  86,  87,  88,  89,  90,\n",
    "        91,  92,  93,  94,  95,  96,  97,  98,  99, 100, 101, 102, 103,\n",
    "       104, 105, 106, 107, 108, 109)),nn)"
   ]
  },
  {
   "cell_type": "code",
   "execution_count": 29,
   "id": "bee3ecef",
   "metadata": {},
   "outputs": [],
   "source": [
    "sel_classifier= [pipe_rf, pipe_ada, pipe_extra, pipe_lgbm, pipe_grad, pipe_xg, pipe_nn]\n",
    "\n",
    "nn_meta= MLPClassifier(activation = \"relu\", alpha = 0.001, hidden_layer_sizes = (6,12,24,12,6), random_state=10)\n",
    "\n",
    "scl = StackingCVClassifier(classifiers= sel_classifier,\n",
    "                            meta_classifier = nn_meta, # use meta-classifier\n",
    "                            use_probas = True,   # use_probas = True/False\n",
    "                            random_state = 10)\n",
    "\n",
    "st_result= cross_validate(scl, x_train, y, cv = 10, scoring=scores,n_jobs=-1)"
   ]
  },
  {
   "cell_type": "code",
   "execution_count": 30,
   "id": "d086c521",
   "metadata": {},
   "outputs": [
    {
     "data": {
      "text/plain": [
       "fit_time          400.310504\n",
       "score_time          0.431497\n",
       "test_accuracy       0.974438\n",
       "test_recall         0.965347\n",
       "test_precision      0.960940\n",
       "test_gmean          0.972262\n",
       "test_f1             0.963116\n",
       "test_roc            0.972294\n",
       "dtype: float64"
      ]
     },
     "execution_count": 30,
     "metadata": {},
     "output_type": "execute_result"
    }
   ],
   "source": [
    "df= pd.DataFrame(st_result)\n",
    "df.mean(axis=0)"
   ]
  }
 ],
 "metadata": {
  "kernelspec": {
   "display_name": "Python 3 (ipykernel)",
   "language": "python",
   "name": "python3"
  },
  "language_info": {
   "codemirror_mode": {
    "name": "ipython",
    "version": 3
   },
   "file_extension": ".py",
   "mimetype": "text/x-python",
   "name": "python",
   "nbconvert_exporter": "python",
   "pygments_lexer": "ipython3",
   "version": "3.9.7"
  }
 },
 "nbformat": 4,
 "nbformat_minor": 5
}
